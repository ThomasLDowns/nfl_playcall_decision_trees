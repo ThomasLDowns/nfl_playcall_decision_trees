{
 "cells": [
  {
   "cell_type": "code",
   "execution_count": 1,
   "metadata": {},
   "outputs": [],
   "source": [
    "using DataFrames, DecisionTree, Feather"
   ]
  },
  {
   "cell_type": "code",
   "execution_count": 35,
   "metadata": {},
   "outputs": [
    {
     "data": {
      "text/plain": [
       "1-element Array{Symbol,1}:\n",
       " :rush_attempt"
      ]
     },
     "execution_count": 35,
     "metadata": {},
     "output_type": "execute_result"
    }
   ],
   "source": [
    "seasons = [2009, 2010, 2011, 2012, 2013, 2014, 2015, 2016, 2017, 2018]\n",
    "teams = unique(df[:posteam])\n",
    "some_features = [:yardline_100, :down, :ydstogo, :score_differential]\n",
    "more_features = [:yardline_100, :down, \n",
    "                :shotgun, :no_huddle, :ydstogo, :score_differential]\n",
    "labels = [:rush_attempt]"
   ]
  },
  {
   "cell_type": "code",
   "execution_count": 2,
   "metadata": {},
   "outputs": [
    {
     "data": {
      "text/html": [
       "<table class=\"data-frame\"><thead><tr><th></th><th>posteam</th><th>yardline_100</th><th>quarter_seconds_remaining</th><th>half_seconds_remaining</th><th>game_seconds_remaining</th><th>drive</th><th>qtr</th><th>down</th><th>ydstogo</th><th>desc</th><th>shotgun</th><th>no_huddle</th><th>posteam_timeouts_remaining</th><th>defteam_timeouts_remaining</th><th>posteam_score</th><th>defteam_score</th><th>score_differential</th><th>rush_attempt</th><th>pass_attempt</th><th>season</th></tr><tr><th></th><th>String</th><th>String</th><th>Int64</th><th>Int64</th><th>Int64</th><th>Int64</th><th>Int64</th><th>Int8</th><th>Int64</th><th>String</th><th>Int64</th><th>Int64</th><th>Int64</th><th>Int64</th><th>Int64</th><th>Int64</th><th>Int64</th><th>Int8</th><th>Int8</th><th>Int64</th></tr></thead><tbody><p>323,986 rows × 20 columns</p><tr><th>1</th><td>PIT</td><td>58</td><td>893</td><td>1793</td><td>3593</td><td>1</td><td>1</td><td>1</td><td>10</td><td>(14:53) B.Roethlisberger pass short left to H.Ward to PIT 47 for 5 yards (C.Hope).</td><td>0</td><td>0</td><td>3</td><td>3</td><td>0</td><td>0</td><td>0</td><td>0</td><td>1</td><td>2009</td></tr><tr><th>2</th><td>PIT</td><td>53</td><td>856</td><td>1756</td><td>3556</td><td>1</td><td>1</td><td>2</td><td>5</td><td>(14:16) W.Parker right end to PIT 44 for -3 yards (S.Tulloch).</td><td>0</td><td>0</td><td>3</td><td>3</td><td>0</td><td>0</td><td>0</td><td>1</td><td>0</td><td>2009</td></tr><tr><th>3</th><td>PIT</td><td>56</td><td>815</td><td>1715</td><td>3515</td><td>1</td><td>1</td><td>3</td><td>8</td><td>(13:35) (Shotgun) B.Roethlisberger pass incomplete deep right to M.Wallace. COVERAGE BY #24 HOPE</td><td>1</td><td>0</td><td>3</td><td>3</td><td>0</td><td>0</td><td>0</td><td>0</td><td>1</td><td>2009</td></tr><tr><th>4</th><td>TEN</td><td>98</td><td>796</td><td>1696</td><td>3496</td><td>2</td><td>1</td><td>1</td><td>10</td><td>(13:16) C.Johnson up the middle to TEN 2 for no gain (B.Keisel, J.Farrior).</td><td>0</td><td>0</td><td>3</td><td>3</td><td>0</td><td>0</td><td>0</td><td>1</td><td>0</td><td>2009</td></tr><tr><th>5</th><td>TEN</td><td>98</td><td>760</td><td>1660</td><td>3460</td><td>2</td><td>1</td><td>2</td><td>10</td><td>(12:40) K.Collins pass short left to A.Hall to TEN 6 for 4 yards (T.Polamalu).</td><td>0</td><td>0</td><td>3</td><td>3</td><td>0</td><td>0</td><td>0</td><td>0</td><td>1</td><td>2009</td></tr><tr><th>6</th><td>TEN</td><td>94</td><td>731</td><td>1631</td><td>3431</td><td>2</td><td>1</td><td>3</td><td>6</td><td>(12:11) (Shotgun) C.Johnson left end to TEN 4 for -2 yards (T.Polamalu).</td><td>1</td><td>0</td><td>3</td><td>3</td><td>0</td><td>0</td><td>0</td><td>1</td><td>0</td><td>2009</td></tr><tr><th>7</th><td>PIT</td><td>43</td><td>684</td><td>1584</td><td>3384</td><td>3</td><td>1</td><td>1</td><td>10</td><td>(11:24) B.Roethlisberger pass short right to M.Wallace to TEN 40 for 3 yards (W.Hayes).</td><td>0</td><td>0</td><td>3</td><td>3</td><td>0</td><td>0</td><td>0</td><td>0</td><td>1</td><td>2009</td></tr><tr><th>8</th><td>PIT</td><td>40</td><td>648</td><td>1548</td><td>3348</td><td>3</td><td>1</td><td>2</td><td>7</td><td>(10:48) B.Roethlisberger pass short left to S.Holmes to TEN 30 for 10 yards (M.Griffin).</td><td>0</td><td>0</td><td>3</td><td>3</td><td>0</td><td>0</td><td>0</td><td>0</td><td>1</td><td>2009</td></tr><tr><th>9</th><td>PIT</td><td>30</td><td>621</td><td>1521</td><td>3321</td><td>3</td><td>1</td><td>1</td><td>10</td><td>(10:21) W.Parker right guard to TEN 31 for -1 yards (J.Jones, S.Tulloch).</td><td>0</td><td>0</td><td>3</td><td>3</td><td>0</td><td>0</td><td>0</td><td>1</td><td>0</td><td>2009</td></tr><tr><th>10</th><td>PIT</td><td>31</td><td>583</td><td>1483</td><td>3283</td><td>3</td><td>1</td><td>2</td><td>11</td><td>(9:43) B.Roethlisberger pass short right to H.Miller to TEN 22 for 9 yards (C.Hope).</td><td>0</td><td>0</td><td>3</td><td>3</td><td>0</td><td>0</td><td>0</td><td>0</td><td>1</td><td>2009</td></tr><tr><th>11</th><td>PIT</td><td>22</td><td>541</td><td>1441</td><td>3241</td><td>3</td><td>1</td><td>3</td><td>2</td><td>(9:01) B.Roethlisberger sacked at TEN 41 for -19 yards (J.Jones).</td><td>0</td><td>0</td><td>3</td><td>3</td><td>0</td><td>0</td><td>0</td><td>0</td><td>1</td><td>2009</td></tr><tr><th>12</th><td>TEN</td><td>89</td><td>500</td><td>1400</td><td>3200</td><td>4</td><td>1</td><td>1</td><td>10</td><td>(8:20) C.Johnson right end to TEN 43 for 32 yards (T.Polamalu). PENALTY on PIT-T.Polamalu, Unnecessary Roughness, 15 yards, enforced at TEN 43.</td><td>0</td><td>0</td><td>3</td><td>3</td><td>0</td><td>0</td><td>0</td><td>1</td><td>0</td><td>2009</td></tr><tr><th>13</th><td>TEN</td><td>42</td><td>477</td><td>1377</td><td>3177</td><td>4</td><td>1</td><td>1</td><td>10</td><td>(7:57) K.Collins pass deep left to B.Scaife to PIT 22 for 20 yards (T.Polamalu).</td><td>0</td><td>0</td><td>3</td><td>3</td><td>0</td><td>0</td><td>0</td><td>0</td><td>1</td><td>2009</td></tr><tr><th>14</th><td>TEN</td><td>22</td><td>444</td><td>1344</td><td>3144</td><td>4</td><td>1</td><td>1</td><td>10</td><td>(7:24) C.Johnson left end to PIT 19 for 3 yards (R.Clark).</td><td>0</td><td>0</td><td>3</td><td>3</td><td>0</td><td>0</td><td>0</td><td>1</td><td>0</td><td>2009</td></tr><tr><th>15</th><td>TEN</td><td>19</td><td>417</td><td>1317</td><td>3117</td><td>4</td><td>1</td><td>2</td><td>7</td><td>(6:57) K.Collins pass incomplete short right to A.Crumpler. Coverage by #56 Woodley, #22 Gay.</td><td>0</td><td>0</td><td>3</td><td>3</td><td>0</td><td>0</td><td>0</td><td>0</td><td>1</td><td>2009</td></tr><tr><th>16</th><td>TEN</td><td>19</td><td>412</td><td>1312</td><td>3112</td><td>4</td><td>1</td><td>3</td><td>7</td><td>(6:52) (Shotgun) K.Collins pass incomplete short right to B.Scaife (T.Polamalu).</td><td>1</td><td>0</td><td>3</td><td>3</td><td>0</td><td>0</td><td>0</td><td>0</td><td>1</td><td>2009</td></tr><tr><th>17</th><td>PIT</td><td>73</td><td>404</td><td>1304</td><td>3104</td><td>5</td><td>1</td><td>1</td><td>10</td><td>(6:44) R.Mendenhall up the middle to PIT 28 for 1 yard (J.Ford, K.Vickerson).</td><td>0</td><td>0</td><td>3</td><td>3</td><td>0</td><td>0</td><td>0</td><td>1</td><td>0</td><td>2009</td></tr><tr><th>18</th><td>PIT</td><td>72</td><td>369</td><td>1269</td><td>3069</td><td>5</td><td>1</td><td>2</td><td>9</td><td>(6:09) R.Mendenhall up the middle to PIT 30 for 2 yards (K.Bulluck).</td><td>0</td><td>0</td><td>3</td><td>3</td><td>0</td><td>0</td><td>0</td><td>1</td><td>0</td><td>2009</td></tr><tr><th>19</th><td>PIT</td><td>70</td><td>327</td><td>1227</td><td>3027</td><td>5</td><td>1</td><td>3</td><td>7</td><td>(5:27) (Shotgun) B.Roethlisberger sacked at PIT 21 for -9 yards (T.Brown).</td><td>1</td><td>0</td><td>3</td><td>3</td><td>0</td><td>0</td><td>0</td><td>0</td><td>1</td><td>2009</td></tr><tr><th>20</th><td>TEN</td><td>74</td><td>289</td><td>1189</td><td>2989</td><td>6</td><td>1</td><td>1</td><td>10</td><td>(4:49) K.Collins pass short left to B.Scaife to TEN 36 for 10 yards (J.Farrior).</td><td>0</td><td>0</td><td>3</td><td>3</td><td>0</td><td>0</td><td>0</td><td>0</td><td>1</td><td>2009</td></tr><tr><th>21</th><td>TEN</td><td>69</td><td>247</td><td>1147</td><td>2947</td><td>6</td><td>1</td><td>1</td><td>15</td><td>(4:07) K.Collins pass short left to B.Scaife to TEN 40 for 9 yards (K.Fox).</td><td>0</td><td>0</td><td>3</td><td>3</td><td>0</td><td>0</td><td>0</td><td>0</td><td>1</td><td>2009</td></tr><tr><th>22</th><td>TEN</td><td>60</td><td>225</td><td>1125</td><td>2925</td><td>6</td><td>1</td><td>2</td><td>6</td><td>(3:45) L.White right guard to TEN 43 for 3 yards (B.Keisel, C.Hampton).</td><td>0</td><td>0</td><td>3</td><td>3</td><td>0</td><td>0</td><td>0</td><td>1</td><td>0</td><td>2009</td></tr><tr><th>23</th><td>TEN</td><td>57</td><td>186</td><td>1086</td><td>2886</td><td>6</td><td>1</td><td>3</td><td>3</td><td>(3:06) (Shotgun) K.Collins pass short right to J.Gage to PIT 49 for 8 yards (J.Farrior).</td><td>1</td><td>0</td><td>3</td><td>3</td><td>0</td><td>0</td><td>0</td><td>0</td><td>1</td><td>2009</td></tr><tr><th>24</th><td>TEN</td><td>49</td><td>148</td><td>1048</td><td>2848</td><td>6</td><td>1</td><td>1</td><td>10</td><td>(2:28) K.Collins pass short middle to L.White to PIT 44 for 5 yards (T.Polamalu).</td><td>0</td><td>0</td><td>3</td><td>3</td><td>0</td><td>0</td><td>0</td><td>0</td><td>1</td><td>2009</td></tr><tr><th>25</th><td>TEN</td><td>44</td><td>111</td><td>1011</td><td>2811</td><td>6</td><td>1</td><td>2</td><td>5</td><td>(1:51) K.Collins pass deep left intended for K.Britt INTERCEPTED by T.Polamalu at PIT 5. T.Polamalu to PIT 21 for 16 yards (A.Hall).</td><td>0</td><td>0</td><td>3</td><td>3</td><td>0</td><td>0</td><td>0</td><td>0</td><td>1</td><td>2009</td></tr><tr><th>26</th><td>PIT</td><td>79</td><td>98</td><td>998</td><td>2798</td><td>7</td><td>1</td><td>1</td><td>10</td><td>(1:38) W.Parker right guard to PIT 23 for 2 yards (S.Tulloch, J.Haye).</td><td>0</td><td>0</td><td>3</td><td>3</td><td>0</td><td>0</td><td>0</td><td>1</td><td>0</td><td>2009</td></tr><tr><th>27</th><td>PIT</td><td>77</td><td>57</td><td>957</td><td>2757</td><td>7</td><td>1</td><td>2</td><td>8</td><td>(:57) (Shotgun) W.Parker right tackle to PIT 24 for 1 yard (C.Hope).</td><td>1</td><td>0</td><td>3</td><td>3</td><td>0</td><td>0</td><td>0</td><td>1</td><td>0</td><td>2009</td></tr><tr><th>28</th><td>PIT</td><td>76</td><td>12</td><td>912</td><td>2712</td><td>7</td><td>1</td><td>3</td><td>7</td><td>(:12) (Shotgun) B.Roethlisberger pass deep right intended for S.Holmes INTERCEPTED by V.Fuller at PIT 44. V.Fuller to PIT 44 for no gain (S.Holmes).</td><td>1</td><td>0</td><td>3</td><td>3</td><td>0</td><td>0</td><td>0</td><td>0</td><td>1</td><td>2009</td></tr><tr><th>29</th><td>TEN</td><td>44</td><td>6</td><td>906</td><td>2706</td><td>8</td><td>1</td><td>1</td><td>10</td><td>(:06) C.Johnson up the middle to PIT 43 for 1 yard (B.Keisel; A.Smith).</td><td>0</td><td>0</td><td>3</td><td>3</td><td>0</td><td>0</td><td>0</td><td>1</td><td>0</td><td>2009</td></tr><tr><th>30</th><td>TEN</td><td>43</td><td>900</td><td>900</td><td>2700</td><td>8</td><td>2</td><td>2</td><td>9</td><td>(15:00) K.Collins pass short right to C.Johnson to PIT 32 for 11 yards (K.Fox).</td><td>0</td><td>0</td><td>3</td><td>3</td><td>0</td><td>0</td><td>0</td><td>0</td><td>1</td><td>2009</td></tr><tr><th>&vellip;</th><td>&vellip;</td><td>&vellip;</td><td>&vellip;</td><td>&vellip;</td><td>&vellip;</td><td>&vellip;</td><td>&vellip;</td><td>&vellip;</td><td>&vellip;</td><td>&vellip;</td><td>&vellip;</td><td>&vellip;</td><td>&vellip;</td><td>&vellip;</td><td>&vellip;</td><td>&vellip;</td><td>&vellip;</td><td>&vellip;</td><td>&vellip;</td><td>&vellip;</td></tr></tbody></table>"
      ],
      "text/latex": [
       "\\begin{tabular}{r|cccccccccccccccccccc}\n",
       "\t& posteam & yardline\\_100 & quarter\\_seconds\\_remaining & half\\_seconds\\_remaining & game\\_seconds\\_remaining & drive & qtr & down & ydstogo & desc & shotgun & no\\_huddle & posteam\\_timeouts\\_remaining & defteam\\_timeouts\\_remaining & posteam\\_score & defteam\\_score & score\\_differential & rush\\_attempt & pass\\_attempt & season\\\\\n",
       "\t\\hline\n",
       "\t& String & String & Int64 & Int64 & Int64 & Int64 & Int64 & Int8 & Int64 & String & Int64 & Int64 & Int64 & Int64 & Int64 & Int64 & Int64 & Int8 & Int8 & Int64\\\\\n",
       "\t\\hline\n",
       "\t1 & PIT & 58 & 893 & 1793 & 3593 & 1 & 1 & 1 & 10 & (14:53) B.Roethlisberger pass short left to H.Ward to PIT 47 for 5 yards (C.Hope). & 0 & 0 & 3 & 3 & 0 & 0 & 0 & 0 & 1 & 2009 \\\\\n",
       "\t2 & PIT & 53 & 856 & 1756 & 3556 & 1 & 1 & 2 & 5 & (14:16) W.Parker right end to PIT 44 for -3 yards (S.Tulloch). & 0 & 0 & 3 & 3 & 0 & 0 & 0 & 1 & 0 & 2009 \\\\\n",
       "\t3 & PIT & 56 & 815 & 1715 & 3515 & 1 & 1 & 3 & 8 & (13:35) (Shotgun) B.Roethlisberger pass incomplete deep right to M.Wallace. COVERAGE BY \\#24 HOPE & 1 & 0 & 3 & 3 & 0 & 0 & 0 & 0 & 1 & 2009 \\\\\n",
       "\t4 & TEN & 98 & 796 & 1696 & 3496 & 2 & 1 & 1 & 10 & (13:16) C.Johnson up the middle to TEN 2 for no gain (B.Keisel, J.Farrior). & 0 & 0 & 3 & 3 & 0 & 0 & 0 & 1 & 0 & 2009 \\\\\n",
       "\t5 & TEN & 98 & 760 & 1660 & 3460 & 2 & 1 & 2 & 10 & (12:40) K.Collins pass short left to A.Hall to TEN 6 for 4 yards (T.Polamalu). & 0 & 0 & 3 & 3 & 0 & 0 & 0 & 0 & 1 & 2009 \\\\\n",
       "\t6 & TEN & 94 & 731 & 1631 & 3431 & 2 & 1 & 3 & 6 & (12:11) (Shotgun) C.Johnson left end to TEN 4 for -2 yards (T.Polamalu). & 1 & 0 & 3 & 3 & 0 & 0 & 0 & 1 & 0 & 2009 \\\\\n",
       "\t7 & PIT & 43 & 684 & 1584 & 3384 & 3 & 1 & 1 & 10 & (11:24) B.Roethlisberger pass short right to M.Wallace to TEN 40 for 3 yards (W.Hayes). & 0 & 0 & 3 & 3 & 0 & 0 & 0 & 0 & 1 & 2009 \\\\\n",
       "\t8 & PIT & 40 & 648 & 1548 & 3348 & 3 & 1 & 2 & 7 & (10:48) B.Roethlisberger pass short left to S.Holmes to TEN 30 for 10 yards (M.Griffin). & 0 & 0 & 3 & 3 & 0 & 0 & 0 & 0 & 1 & 2009 \\\\\n",
       "\t9 & PIT & 30 & 621 & 1521 & 3321 & 3 & 1 & 1 & 10 & (10:21) W.Parker right guard to TEN 31 for -1 yards (J.Jones, S.Tulloch). & 0 & 0 & 3 & 3 & 0 & 0 & 0 & 1 & 0 & 2009 \\\\\n",
       "\t10 & PIT & 31 & 583 & 1483 & 3283 & 3 & 1 & 2 & 11 & (9:43) B.Roethlisberger pass short right to H.Miller to TEN 22 for 9 yards (C.Hope). & 0 & 0 & 3 & 3 & 0 & 0 & 0 & 0 & 1 & 2009 \\\\\n",
       "\t11 & PIT & 22 & 541 & 1441 & 3241 & 3 & 1 & 3 & 2 & (9:01) B.Roethlisberger sacked at TEN 41 for -19 yards (J.Jones). & 0 & 0 & 3 & 3 & 0 & 0 & 0 & 0 & 1 & 2009 \\\\\n",
       "\t12 & TEN & 89 & 500 & 1400 & 3200 & 4 & 1 & 1 & 10 & (8:20) C.Johnson right end to TEN 43 for 32 yards (T.Polamalu). PENALTY on PIT-T.Polamalu, Unnecessary Roughness, 15 yards, enforced at TEN 43. & 0 & 0 & 3 & 3 & 0 & 0 & 0 & 1 & 0 & 2009 \\\\\n",
       "\t13 & TEN & 42 & 477 & 1377 & 3177 & 4 & 1 & 1 & 10 & (7:57) K.Collins pass deep left to B.Scaife to PIT 22 for 20 yards (T.Polamalu). & 0 & 0 & 3 & 3 & 0 & 0 & 0 & 0 & 1 & 2009 \\\\\n",
       "\t14 & TEN & 22 & 444 & 1344 & 3144 & 4 & 1 & 1 & 10 & (7:24) C.Johnson left end to PIT 19 for 3 yards (R.Clark). & 0 & 0 & 3 & 3 & 0 & 0 & 0 & 1 & 0 & 2009 \\\\\n",
       "\t15 & TEN & 19 & 417 & 1317 & 3117 & 4 & 1 & 2 & 7 & (6:57) K.Collins pass incomplete short right to A.Crumpler. Coverage by \\#56 Woodley, \\#22 Gay. & 0 & 0 & 3 & 3 & 0 & 0 & 0 & 0 & 1 & 2009 \\\\\n",
       "\t16 & TEN & 19 & 412 & 1312 & 3112 & 4 & 1 & 3 & 7 & (6:52) (Shotgun) K.Collins pass incomplete short right to B.Scaife (T.Polamalu). & 1 & 0 & 3 & 3 & 0 & 0 & 0 & 0 & 1 & 2009 \\\\\n",
       "\t17 & PIT & 73 & 404 & 1304 & 3104 & 5 & 1 & 1 & 10 & (6:44) R.Mendenhall up the middle to PIT 28 for 1 yard (J.Ford, K.Vickerson). & 0 & 0 & 3 & 3 & 0 & 0 & 0 & 1 & 0 & 2009 \\\\\n",
       "\t18 & PIT & 72 & 369 & 1269 & 3069 & 5 & 1 & 2 & 9 & (6:09) R.Mendenhall up the middle to PIT 30 for 2 yards (K.Bulluck). & 0 & 0 & 3 & 3 & 0 & 0 & 0 & 1 & 0 & 2009 \\\\\n",
       "\t19 & PIT & 70 & 327 & 1227 & 3027 & 5 & 1 & 3 & 7 & (5:27) (Shotgun) B.Roethlisberger sacked at PIT 21 for -9 yards (T.Brown). & 1 & 0 & 3 & 3 & 0 & 0 & 0 & 0 & 1 & 2009 \\\\\n",
       "\t20 & TEN & 74 & 289 & 1189 & 2989 & 6 & 1 & 1 & 10 & (4:49) K.Collins pass short left to B.Scaife to TEN 36 for 10 yards (J.Farrior). & 0 & 0 & 3 & 3 & 0 & 0 & 0 & 0 & 1 & 2009 \\\\\n",
       "\t21 & TEN & 69 & 247 & 1147 & 2947 & 6 & 1 & 1 & 15 & (4:07) K.Collins pass short left to B.Scaife to TEN 40 for 9 yards (K.Fox). & 0 & 0 & 3 & 3 & 0 & 0 & 0 & 0 & 1 & 2009 \\\\\n",
       "\t22 & TEN & 60 & 225 & 1125 & 2925 & 6 & 1 & 2 & 6 & (3:45) L.White right guard to TEN 43 for 3 yards (B.Keisel, C.Hampton). & 0 & 0 & 3 & 3 & 0 & 0 & 0 & 1 & 0 & 2009 \\\\\n",
       "\t23 & TEN & 57 & 186 & 1086 & 2886 & 6 & 1 & 3 & 3 & (3:06) (Shotgun) K.Collins pass short right to J.Gage to PIT 49 for 8 yards (J.Farrior). & 1 & 0 & 3 & 3 & 0 & 0 & 0 & 0 & 1 & 2009 \\\\\n",
       "\t24 & TEN & 49 & 148 & 1048 & 2848 & 6 & 1 & 1 & 10 & (2:28) K.Collins pass short middle to L.White to PIT 44 for 5 yards (T.Polamalu). & 0 & 0 & 3 & 3 & 0 & 0 & 0 & 0 & 1 & 2009 \\\\\n",
       "\t25 & TEN & 44 & 111 & 1011 & 2811 & 6 & 1 & 2 & 5 & (1:51) K.Collins pass deep left intended for K.Britt INTERCEPTED by T.Polamalu at PIT 5. T.Polamalu to PIT 21 for 16 yards (A.Hall). & 0 & 0 & 3 & 3 & 0 & 0 & 0 & 0 & 1 & 2009 \\\\\n",
       "\t26 & PIT & 79 & 98 & 998 & 2798 & 7 & 1 & 1 & 10 & (1:38) W.Parker right guard to PIT 23 for 2 yards (S.Tulloch, J.Haye). & 0 & 0 & 3 & 3 & 0 & 0 & 0 & 1 & 0 & 2009 \\\\\n",
       "\t27 & PIT & 77 & 57 & 957 & 2757 & 7 & 1 & 2 & 8 & (:57) (Shotgun) W.Parker right tackle to PIT 24 for 1 yard (C.Hope). & 1 & 0 & 3 & 3 & 0 & 0 & 0 & 1 & 0 & 2009 \\\\\n",
       "\t28 & PIT & 76 & 12 & 912 & 2712 & 7 & 1 & 3 & 7 & (:12) (Shotgun) B.Roethlisberger pass deep right intended for S.Holmes INTERCEPTED by V.Fuller at PIT 44. V.Fuller to PIT 44 for no gain (S.Holmes). & 1 & 0 & 3 & 3 & 0 & 0 & 0 & 0 & 1 & 2009 \\\\\n",
       "\t29 & TEN & 44 & 6 & 906 & 2706 & 8 & 1 & 1 & 10 & (:06) C.Johnson up the middle to PIT 43 for 1 yard (B.Keisel; A.Smith). & 0 & 0 & 3 & 3 & 0 & 0 & 0 & 1 & 0 & 2009 \\\\\n",
       "\t30 & TEN & 43 & 900 & 900 & 2700 & 8 & 2 & 2 & 9 & (15:00) K.Collins pass short right to C.Johnson to PIT 32 for 11 yards (K.Fox). & 0 & 0 & 3 & 3 & 0 & 0 & 0 & 0 & 1 & 2009 \\\\\n",
       "\t$\\dots$ & $\\dots$ & $\\dots$ & $\\dots$ & $\\dots$ & $\\dots$ & $\\dots$ & $\\dots$ & $\\dots$ & $\\dots$ & $\\dots$ & $\\dots$ & $\\dots$ & $\\dots$ & $\\dots$ & $\\dots$ & $\\dots$ & $\\dots$ & $\\dots$ & $\\dots$ & $\\dots$ \\\\\n",
       "\\end{tabular}\n"
      ],
      "text/plain": [
       "323986×20 DataFrame. Omitted printing of 17 columns\n",
       "│ Row    │ posteam │ yardline_100 │ quarter_seconds_remaining │\n",
       "│        │ \u001b[90mString\u001b[39m  │ \u001b[90mString\u001b[39m       │ \u001b[90mInt64\u001b[39m                     │\n",
       "├────────┼─────────┼──────────────┼───────────────────────────┤\n",
       "│ 1      │ PIT     │ 58           │ 893                       │\n",
       "│ 2      │ PIT     │ 53           │ 856                       │\n",
       "│ 3      │ PIT     │ 56           │ 815                       │\n",
       "│ 4      │ TEN     │ 98           │ 796                       │\n",
       "│ 5      │ TEN     │ 98           │ 760                       │\n",
       "│ 6      │ TEN     │ 94           │ 731                       │\n",
       "│ 7      │ PIT     │ 43           │ 684                       │\n",
       "│ 8      │ PIT     │ 40           │ 648                       │\n",
       "│ 9      │ PIT     │ 30           │ 621                       │\n",
       "│ 10     │ PIT     │ 31           │ 583                       │\n",
       "⋮\n",
       "│ 323976 │ NO      │ 11           │ 120                       │\n",
       "│ 323977 │ NO      │ 8            │ 115                       │\n",
       "│ 323978 │ NO      │ 5            │ 111                       │\n",
       "│ 323979 │ CAR     │ 80           │ 104                       │\n",
       "│ 323980 │ CAR     │ 71           │ 82                        │\n",
       "│ 323981 │ CAR     │ 71           │ 77                        │\n",
       "│ 323982 │ CAR     │ 66           │ 64                        │\n",
       "│ 323983 │ CAR     │ 66           │ 63                        │\n",
       "│ 323984 │ CAR     │ 66           │ 58                        │\n",
       "│ 323985 │ CAR     │ 61           │ 38                        │\n",
       "│ 323986 │ NO      │ 39           │ 35                        │"
      ]
     },
     "execution_count": 2,
     "metadata": {},
     "output_type": "execute_result"
    }
   ],
   "source": [
    "df = Feather.read(\"season_data.feather\")"
   ]
  },
  {
   "cell_type": "markdown",
   "metadata": {},
   "source": [
    "# Houston Texans Seasons "
   ]
  },
  {
   "cell_type": "code",
   "execution_count": 11,
   "metadata": {},
   "outputs": [
    {
     "data": {
      "text/html": [
       "<table class=\"data-frame\"><thead><tr><th></th><th>posteam</th><th>yardline_100</th><th>quarter_seconds_remaining</th><th>half_seconds_remaining</th><th>game_seconds_remaining</th><th>drive</th><th>qtr</th><th>down</th><th>ydstogo</th><th>desc</th><th>shotgun</th><th>no_huddle</th><th>posteam_timeouts_remaining</th><th>defteam_timeouts_remaining</th><th>posteam_score</th><th>defteam_score</th><th>score_differential</th><th>rush_attempt</th><th>pass_attempt</th><th>season</th></tr><tr><th></th><th>String</th><th>String</th><th>Int64</th><th>Int64</th><th>Int64</th><th>Int64</th><th>Int64</th><th>Int8</th><th>Int64</th><th>String</th><th>Int64</th><th>Int64</th><th>Int64</th><th>Int64</th><th>Int64</th><th>Int64</th><th>Int64</th><th>Int8</th><th>Int8</th><th>Int64</th></tr></thead><tbody><p>10,489 rows × 20 columns</p><tr><th>1</th><td>HOU</td><td>80</td><td>892</td><td>1792</td><td>3592</td><td>1</td><td>1</td><td>1</td><td>10</td><td>(14:52) S.Slaton left tackle to HOU 22 for 2 yards (K.Jenkins, M.Douglas).</td><td>0</td><td>0</td><td>3</td><td>3</td><td>0</td><td>0</td><td>0</td><td>1</td><td>0</td><td>2009</td></tr><tr><th>2</th><td>HOU</td><td>78</td><td>850</td><td>1750</td><td>3550</td><td>1</td><td>1</td><td>2</td><td>8</td><td>(14:10) M.Schaub pass short middle to A.Johnson to HOU 29 for 7 yards (D.Harris; D.Revis) [B.Scott].</td><td>0</td><td>0</td><td>3</td><td>3</td><td>0</td><td>0</td><td>0</td><td>0</td><td>1</td><td>2009</td></tr><tr><th>3</th><td>HOU</td><td>71</td><td>813</td><td>1713</td><td>3513</td><td>1</td><td>1</td><td>3</td><td>1</td><td>(13:33) C.Brown left tackle to HOU 40 for 11 yards (J.Leonhard).</td><td>0</td><td>0</td><td>3</td><td>3</td><td>0</td><td>0</td><td>0</td><td>1</td><td>0</td><td>2009</td></tr><tr><th>4</th><td>HOU</td><td>60</td><td>771</td><td>1671</td><td>3471</td><td>1</td><td>1</td><td>1</td><td>10</td><td>(12:51) S.Slaton up the middle to HOU 38 for -2 yards (M.Douglas).</td><td>0</td><td>0</td><td>3</td><td>3</td><td>0</td><td>0</td><td>0</td><td>1</td><td>0</td><td>2009</td></tr><tr><th>5</th><td>HOU</td><td>62</td><td>731</td><td>1631</td><td>3431</td><td>1</td><td>1</td><td>2</td><td>12</td><td>(12:11) M.Schaub pass incomplete short left to S.Slaton (D.Harris).</td><td>0</td><td>0</td><td>3</td><td>3</td><td>0</td><td>0</td><td>0</td><td>0</td><td>1</td><td>2009</td></tr><tr><th>6</th><td>HOU</td><td>62</td><td>731</td><td>1631</td><td>3431</td><td>1</td><td>1</td><td>3</td><td>12</td><td>(12:11) (Shotgun) M.Schaub pass incomplete deep right to A.Johnson [D.Harris].</td><td>1</td><td>0</td><td>3</td><td>3</td><td>0</td><td>0</td><td>0</td><td>0</td><td>1</td><td>2009</td></tr><tr><th>7</th><td>HOU</td><td>67</td><td>612</td><td>1512</td><td>3312</td><td>3</td><td>1</td><td>1</td><td>10</td><td>(10:12) S.Slaton right tackle to HOU 33 for no gain (E.Smith, D.Harris).</td><td>0</td><td>0</td><td>3</td><td>3</td><td>0</td><td>0</td><td>0</td><td>1</td><td>0</td><td>2009</td></tr><tr><th>8</th><td>HOU</td><td>67</td><td>612</td><td>1512</td><td>3312</td><td>3</td><td>1</td><td>2</td><td>10</td><td>(10:12) M.Schaub pass short left to S.Slaton to HOU 36 for 3 yards (B.Scott).</td><td>0</td><td>0</td><td>3</td><td>3</td><td>0</td><td>0</td><td>0</td><td>0</td><td>1</td><td>2009</td></tr><tr><th>9</th><td>HOU</td><td>64</td><td>530</td><td>1430</td><td>3230</td><td>3</td><td>1</td><td>3</td><td>7</td><td>(8:50) (Shotgun) M.Schaub pass incomplete short middle to O.Daniels [B.Scott].</td><td>1</td><td>0</td><td>3</td><td>3</td><td>0</td><td>0</td><td>0</td><td>0</td><td>1</td><td>2009</td></tr><tr><th>10</th><td>HOU</td><td>68</td><td>1</td><td>901</td><td>2701</td><td>5</td><td>1</td><td>1</td><td>10</td><td>(:01) M.Schaub pass short left to V.Leach to HOU 41 for 9 yards (V.Gholston, K.Rhodes).</td><td>0</td><td>0</td><td>3</td><td>2</td><td>0</td><td>3</td><td>-3</td><td>0</td><td>1</td><td>2009</td></tr><tr><th>11</th><td>HOU</td><td>59</td><td>900</td><td>900</td><td>2700</td><td>5</td><td>2</td><td>2</td><td>1</td><td>(15:00) M.Schaub pass short left to O.Daniels to HOU 43 for 2 yards (K.Rhodes).</td><td>0</td><td>0</td><td>3</td><td>2</td><td>0</td><td>3</td><td>-3</td><td>0</td><td>1</td><td>2009</td></tr><tr><th>12</th><td>HOU</td><td>57</td><td>863</td><td>863</td><td>2663</td><td>5</td><td>2</td><td>1</td><td>10</td><td>(14:23) M.Schaub pass incomplete short right to S.Slaton.</td><td>0</td><td>0</td><td>3</td><td>2</td><td>0</td><td>3</td><td>-3</td><td>0</td><td>1</td><td>2009</td></tr><tr><th>13</th><td>HOU</td><td>57</td><td>856</td><td>856</td><td>2656</td><td>5</td><td>2</td><td>2</td><td>10</td><td>(14:16) S.Slaton left tackle to HOU 47 for 4 yards (B.Thomas).</td><td>0</td><td>0</td><td>3</td><td>2</td><td>0</td><td>3</td><td>-3</td><td>1</td><td>0</td><td>2009</td></tr><tr><th>14</th><td>HOU</td><td>53</td><td>814</td><td>814</td><td>2614</td><td>5</td><td>2</td><td>3</td><td>6</td><td>(13:34) M.Schaub pass incomplete short left to A.Davis. (The punt hangtime was 3.4 seconds)</td><td>0</td><td>0</td><td>3</td><td>2</td><td>0</td><td>3</td><td>-3</td><td>0</td><td>1</td><td>2009</td></tr><tr><th>15</th><td>HOU</td><td>70</td><td>746</td><td>746</td><td>2546</td><td>7</td><td>2</td><td>1</td><td>10</td><td>(12:26) S.Slaton right end to HOU 29 for -1 yards (V.Gholston).</td><td>0</td><td>0</td><td>3</td><td>2</td><td>0</td><td>3</td><td>-3</td><td>1</td><td>0</td><td>2009</td></tr><tr><th>16</th><td>HOU</td><td>71</td><td>702</td><td>702</td><td>2502</td><td>7</td><td>2</td><td>2</td><td>11</td><td>(11:42) S.Slaton right tackle to HOU 27 for -2 yards (J.Leonhard).</td><td>0</td><td>0</td><td>3</td><td>2</td><td>0</td><td>3</td><td>-3</td><td>1</td><td>0</td><td>2009</td></tr><tr><th>17</th><td>HOU</td><td>73</td><td>660</td><td>660</td><td>2460</td><td>7</td><td>2</td><td>3</td><td>13</td><td>(11:00) (Shotgun) M.Schaub pass short right to S.Slaton to HOU 41 for 14 yards (D.Harris). NYJ-B.Scott was injured during the play.</td><td>1</td><td>0</td><td>3</td><td>2</td><td>0</td><td>3</td><td>-3</td><td>0</td><td>1</td><td>2009</td></tr><tr><th>18</th><td>HOU</td><td>59</td><td>626</td><td>626</td><td>2426</td><td>7</td><td>2</td><td>1</td><td>10</td><td>(10:26) M.Schaub scrambles up the middle to HOU 47 for 6 yards (D.Harris).</td><td>0</td><td>0</td><td>3</td><td>2</td><td>0</td><td>3</td><td>-3</td><td>1</td><td>0</td><td>2009</td></tr><tr><th>19</th><td>HOU</td><td>53</td><td>582</td><td>582</td><td>2382</td><td>7</td><td>2</td><td>2</td><td>4</td><td>(9:42) C.Brown right tackle to NYJ 48 for 5 yards (J.Leonhard, D.Harris).</td><td>0</td><td>0</td><td>3</td><td>2</td><td>0</td><td>3</td><td>-3</td><td>1</td><td>0</td><td>2009</td></tr><tr><th>20</th><td>HOU</td><td>48</td><td>545</td><td>545</td><td>2345</td><td>7</td><td>2</td><td>1</td><td>10</td><td>(9:05) M.Schaub pass short left to V.Leach to NYJ 34 for 14 yards (L.Sheppard; D.Harris).</td><td>0</td><td>0</td><td>3</td><td>2</td><td>0</td><td>3</td><td>-3</td><td>0</td><td>1</td><td>2009</td></tr><tr><th>21</th><td>HOU</td><td>34</td><td>504</td><td>504</td><td>2304</td><td>7</td><td>2</td><td>1</td><td>10</td><td>(8:24) C.Brown up the middle to NYJ 35 for -1 yards (B.Scott).</td><td>0</td><td>0</td><td>3</td><td>2</td><td>0</td><td>3</td><td>-3</td><td>1</td><td>0</td><td>2009</td></tr><tr><th>22</th><td>HOU</td><td>35</td><td>463</td><td>463</td><td>2263</td><td>7</td><td>2</td><td>2</td><td>11</td><td>(7:43) (Shotgun) M.Schaub pass short left to S.Slaton to NYJ 17 for 18 yards (D.Strickland). FUMBLES (D.Strickland), RECOVERED by NYJ-M.Devito at NYJ 15. M.Devito to NYJ 22 for 7 yards (C.Pitts).</td><td>1</td><td>0</td><td>3</td><td>2</td><td>0</td><td>3</td><td>-3</td><td>0</td><td>1</td><td>2009</td></tr><tr><th>23</th><td>HOU</td><td>95</td><td>163</td><td>163</td><td>1963</td><td>9</td><td>2</td><td>1</td><td>15</td><td>(2:43) (Shotgun) M.Schaub pass short right to A.Davis to HOU 5 for no gain (L.Sheppard).</td><td>1</td><td>0</td><td>3</td><td>2</td><td>0</td><td>10</td><td>-10</td><td>0</td><td>1</td><td>2009</td></tr><tr><th>24</th><td>HOU</td><td>97</td><td>120</td><td>120</td><td>1920</td><td>9</td><td>2</td><td>2</td><td>17</td><td>(2:00) M.Schaub pass short left to A.Davis to HOU 10 for 7 yards (K.Rhodes).</td><td>0</td><td>0</td><td>3</td><td>2</td><td>0</td><td>10</td><td>-10</td><td>0</td><td>1</td><td>2009</td></tr><tr><th>25</th><td>HOU</td><td>90</td><td>78</td><td>78</td><td>1878</td><td>9</td><td>2</td><td>3</td><td>10</td><td>(1:18) (Shotgun) M.Schaub pass short middle to O.Daniels to HOU 18 for 8 yards (K.Rhodes).</td><td>1</td><td>0</td><td>3</td><td>2</td><td>0</td><td>10</td><td>-10</td><td>0</td><td>1</td><td>2009</td></tr><tr><th>26</th><td>HOU</td><td>75</td><td>448</td><td>1348</td><td>1348</td><td>12</td><td>3</td><td>1</td><td>10</td><td>(7:28) S.Slaton left end pushed ob at HOU 32 for 7 yards (V.Gholston).</td><td>0</td><td>0</td><td>3</td><td>3</td><td>0</td><td>17</td><td>-17</td><td>1</td><td>0</td><td>2009</td></tr><tr><th>27</th><td>HOU</td><td>68</td><td>427</td><td>1327</td><td>1327</td><td>12</td><td>3</td><td>2</td><td>3</td><td>(7:07) M.Schaub sacked at HOU 24 for -8 yards (D.Harris).</td><td>0</td><td>0</td><td>3</td><td>3</td><td>0</td><td>17</td><td>-17</td><td>0</td><td>1</td><td>2009</td></tr><tr><th>28</th><td>HOU</td><td>76</td><td>402</td><td>1302</td><td>1302</td><td>12</td><td>3</td><td>3</td><td>11</td><td>(6:42) (Shotgun) M.Schaub pass incomplete short middle to A.Johnson.</td><td>1</td><td>0</td><td>3</td><td>3</td><td>0</td><td>17</td><td>-17</td><td>0</td><td>1</td><td>2009</td></tr><tr><th>29</th><td>HOU</td><td>86</td><td>318</td><td>1218</td><td>1218</td><td>14</td><td>3</td><td>1</td><td>10</td><td>(5:18) M.Schaub pass short middle to O.Daniels to HOU 41 for 27 yards (L.Washington, D.Harris). Penalty on NYJ-D.Harris, Illegal Contact, declined.</td><td>0</td><td>0</td><td>3</td><td>3</td><td>0</td><td>17</td><td>-17</td><td>0</td><td>1</td><td>2009</td></tr><tr><th>30</th><td>HOU</td><td>59</td><td>292</td><td>1192</td><td>1192</td><td>14</td><td>3</td><td>1</td><td>10</td><td>(4:52) M.Schaub pass short right to C.Brown to HOU 42 for 1 yard (D.Harris).</td><td>0</td><td>0</td><td>3</td><td>3</td><td>0</td><td>17</td><td>-17</td><td>0</td><td>1</td><td>2009</td></tr><tr><th>&vellip;</th><td>&vellip;</td><td>&vellip;</td><td>&vellip;</td><td>&vellip;</td><td>&vellip;</td><td>&vellip;</td><td>&vellip;</td><td>&vellip;</td><td>&vellip;</td><td>&vellip;</td><td>&vellip;</td><td>&vellip;</td><td>&vellip;</td><td>&vellip;</td><td>&vellip;</td><td>&vellip;</td><td>&vellip;</td><td>&vellip;</td><td>&vellip;</td><td>&vellip;</td></tr></tbody></table>"
      ],
      "text/latex": [
       "\\begin{tabular}{r|cccccccccccccccccccc}\n",
       "\t& posteam & yardline\\_100 & quarter\\_seconds\\_remaining & half\\_seconds\\_remaining & game\\_seconds\\_remaining & drive & qtr & down & ydstogo & desc & shotgun & no\\_huddle & posteam\\_timeouts\\_remaining & defteam\\_timeouts\\_remaining & posteam\\_score & defteam\\_score & score\\_differential & rush\\_attempt & pass\\_attempt & season\\\\\n",
       "\t\\hline\n",
       "\t& String & String & Int64 & Int64 & Int64 & Int64 & Int64 & Int8 & Int64 & String & Int64 & Int64 & Int64 & Int64 & Int64 & Int64 & Int64 & Int8 & Int8 & Int64\\\\\n",
       "\t\\hline\n",
       "\t1 & HOU & 80 & 892 & 1792 & 3592 & 1 & 1 & 1 & 10 & (14:52) S.Slaton left tackle to HOU 22 for 2 yards (K.Jenkins, M.Douglas). & 0 & 0 & 3 & 3 & 0 & 0 & 0 & 1 & 0 & 2009 \\\\\n",
       "\t2 & HOU & 78 & 850 & 1750 & 3550 & 1 & 1 & 2 & 8 & (14:10) M.Schaub pass short middle to A.Johnson to HOU 29 for 7 yards (D.Harris; D.Revis) [B.Scott]. & 0 & 0 & 3 & 3 & 0 & 0 & 0 & 0 & 1 & 2009 \\\\\n",
       "\t3 & HOU & 71 & 813 & 1713 & 3513 & 1 & 1 & 3 & 1 & (13:33) C.Brown left tackle to HOU 40 for 11 yards (J.Leonhard). & 0 & 0 & 3 & 3 & 0 & 0 & 0 & 1 & 0 & 2009 \\\\\n",
       "\t4 & HOU & 60 & 771 & 1671 & 3471 & 1 & 1 & 1 & 10 & (12:51) S.Slaton up the middle to HOU 38 for -2 yards (M.Douglas). & 0 & 0 & 3 & 3 & 0 & 0 & 0 & 1 & 0 & 2009 \\\\\n",
       "\t5 & HOU & 62 & 731 & 1631 & 3431 & 1 & 1 & 2 & 12 & (12:11) M.Schaub pass incomplete short left to S.Slaton (D.Harris). & 0 & 0 & 3 & 3 & 0 & 0 & 0 & 0 & 1 & 2009 \\\\\n",
       "\t6 & HOU & 62 & 731 & 1631 & 3431 & 1 & 1 & 3 & 12 & (12:11) (Shotgun) M.Schaub pass incomplete deep right to A.Johnson [D.Harris]. & 1 & 0 & 3 & 3 & 0 & 0 & 0 & 0 & 1 & 2009 \\\\\n",
       "\t7 & HOU & 67 & 612 & 1512 & 3312 & 3 & 1 & 1 & 10 & (10:12) S.Slaton right tackle to HOU 33 for no gain (E.Smith, D.Harris). & 0 & 0 & 3 & 3 & 0 & 0 & 0 & 1 & 0 & 2009 \\\\\n",
       "\t8 & HOU & 67 & 612 & 1512 & 3312 & 3 & 1 & 2 & 10 & (10:12) M.Schaub pass short left to S.Slaton to HOU 36 for 3 yards (B.Scott). & 0 & 0 & 3 & 3 & 0 & 0 & 0 & 0 & 1 & 2009 \\\\\n",
       "\t9 & HOU & 64 & 530 & 1430 & 3230 & 3 & 1 & 3 & 7 & (8:50) (Shotgun) M.Schaub pass incomplete short middle to O.Daniels [B.Scott]. & 1 & 0 & 3 & 3 & 0 & 0 & 0 & 0 & 1 & 2009 \\\\\n",
       "\t10 & HOU & 68 & 1 & 901 & 2701 & 5 & 1 & 1 & 10 & (:01) M.Schaub pass short left to V.Leach to HOU 41 for 9 yards (V.Gholston, K.Rhodes). & 0 & 0 & 3 & 2 & 0 & 3 & -3 & 0 & 1 & 2009 \\\\\n",
       "\t11 & HOU & 59 & 900 & 900 & 2700 & 5 & 2 & 2 & 1 & (15:00) M.Schaub pass short left to O.Daniels to HOU 43 for 2 yards (K.Rhodes). & 0 & 0 & 3 & 2 & 0 & 3 & -3 & 0 & 1 & 2009 \\\\\n",
       "\t12 & HOU & 57 & 863 & 863 & 2663 & 5 & 2 & 1 & 10 & (14:23) M.Schaub pass incomplete short right to S.Slaton. & 0 & 0 & 3 & 2 & 0 & 3 & -3 & 0 & 1 & 2009 \\\\\n",
       "\t13 & HOU & 57 & 856 & 856 & 2656 & 5 & 2 & 2 & 10 & (14:16) S.Slaton left tackle to HOU 47 for 4 yards (B.Thomas). & 0 & 0 & 3 & 2 & 0 & 3 & -3 & 1 & 0 & 2009 \\\\\n",
       "\t14 & HOU & 53 & 814 & 814 & 2614 & 5 & 2 & 3 & 6 & (13:34) M.Schaub pass incomplete short left to A.Davis. (The punt hangtime was 3.4 seconds) & 0 & 0 & 3 & 2 & 0 & 3 & -3 & 0 & 1 & 2009 \\\\\n",
       "\t15 & HOU & 70 & 746 & 746 & 2546 & 7 & 2 & 1 & 10 & (12:26) S.Slaton right end to HOU 29 for -1 yards (V.Gholston). & 0 & 0 & 3 & 2 & 0 & 3 & -3 & 1 & 0 & 2009 \\\\\n",
       "\t16 & HOU & 71 & 702 & 702 & 2502 & 7 & 2 & 2 & 11 & (11:42) S.Slaton right tackle to HOU 27 for -2 yards (J.Leonhard). & 0 & 0 & 3 & 2 & 0 & 3 & -3 & 1 & 0 & 2009 \\\\\n",
       "\t17 & HOU & 73 & 660 & 660 & 2460 & 7 & 2 & 3 & 13 & (11:00) (Shotgun) M.Schaub pass short right to S.Slaton to HOU 41 for 14 yards (D.Harris). NYJ-B.Scott was injured during the play. & 1 & 0 & 3 & 2 & 0 & 3 & -3 & 0 & 1 & 2009 \\\\\n",
       "\t18 & HOU & 59 & 626 & 626 & 2426 & 7 & 2 & 1 & 10 & (10:26) M.Schaub scrambles up the middle to HOU 47 for 6 yards (D.Harris). & 0 & 0 & 3 & 2 & 0 & 3 & -3 & 1 & 0 & 2009 \\\\\n",
       "\t19 & HOU & 53 & 582 & 582 & 2382 & 7 & 2 & 2 & 4 & (9:42) C.Brown right tackle to NYJ 48 for 5 yards (J.Leonhard, D.Harris). & 0 & 0 & 3 & 2 & 0 & 3 & -3 & 1 & 0 & 2009 \\\\\n",
       "\t20 & HOU & 48 & 545 & 545 & 2345 & 7 & 2 & 1 & 10 & (9:05) M.Schaub pass short left to V.Leach to NYJ 34 for 14 yards (L.Sheppard; D.Harris). & 0 & 0 & 3 & 2 & 0 & 3 & -3 & 0 & 1 & 2009 \\\\\n",
       "\t21 & HOU & 34 & 504 & 504 & 2304 & 7 & 2 & 1 & 10 & (8:24) C.Brown up the middle to NYJ 35 for -1 yards (B.Scott). & 0 & 0 & 3 & 2 & 0 & 3 & -3 & 1 & 0 & 2009 \\\\\n",
       "\t22 & HOU & 35 & 463 & 463 & 2263 & 7 & 2 & 2 & 11 & (7:43) (Shotgun) M.Schaub pass short left to S.Slaton to NYJ 17 for 18 yards (D.Strickland). FUMBLES (D.Strickland), RECOVERED by NYJ-M.Devito at NYJ 15. M.Devito to NYJ 22 for 7 yards (C.Pitts). & 1 & 0 & 3 & 2 & 0 & 3 & -3 & 0 & 1 & 2009 \\\\\n",
       "\t23 & HOU & 95 & 163 & 163 & 1963 & 9 & 2 & 1 & 15 & (2:43) (Shotgun) M.Schaub pass short right to A.Davis to HOU 5 for no gain (L.Sheppard). & 1 & 0 & 3 & 2 & 0 & 10 & -10 & 0 & 1 & 2009 \\\\\n",
       "\t24 & HOU & 97 & 120 & 120 & 1920 & 9 & 2 & 2 & 17 & (2:00) M.Schaub pass short left to A.Davis to HOU 10 for 7 yards (K.Rhodes). & 0 & 0 & 3 & 2 & 0 & 10 & -10 & 0 & 1 & 2009 \\\\\n",
       "\t25 & HOU & 90 & 78 & 78 & 1878 & 9 & 2 & 3 & 10 & (1:18) (Shotgun) M.Schaub pass short middle to O.Daniels to HOU 18 for 8 yards (K.Rhodes). & 1 & 0 & 3 & 2 & 0 & 10 & -10 & 0 & 1 & 2009 \\\\\n",
       "\t26 & HOU & 75 & 448 & 1348 & 1348 & 12 & 3 & 1 & 10 & (7:28) S.Slaton left end pushed ob at HOU 32 for 7 yards (V.Gholston). & 0 & 0 & 3 & 3 & 0 & 17 & -17 & 1 & 0 & 2009 \\\\\n",
       "\t27 & HOU & 68 & 427 & 1327 & 1327 & 12 & 3 & 2 & 3 & (7:07) M.Schaub sacked at HOU 24 for -8 yards (D.Harris). & 0 & 0 & 3 & 3 & 0 & 17 & -17 & 0 & 1 & 2009 \\\\\n",
       "\t28 & HOU & 76 & 402 & 1302 & 1302 & 12 & 3 & 3 & 11 & (6:42) (Shotgun) M.Schaub pass incomplete short middle to A.Johnson. & 1 & 0 & 3 & 3 & 0 & 17 & -17 & 0 & 1 & 2009 \\\\\n",
       "\t29 & HOU & 86 & 318 & 1218 & 1218 & 14 & 3 & 1 & 10 & (5:18) M.Schaub pass short middle to O.Daniels to HOU 41 for 27 yards (L.Washington, D.Harris). Penalty on NYJ-D.Harris, Illegal Contact, declined. & 0 & 0 & 3 & 3 & 0 & 17 & -17 & 0 & 1 & 2009 \\\\\n",
       "\t30 & HOU & 59 & 292 & 1192 & 1192 & 14 & 3 & 1 & 10 & (4:52) M.Schaub pass short right to C.Brown to HOU 42 for 1 yard (D.Harris). & 0 & 0 & 3 & 3 & 0 & 17 & -17 & 0 & 1 & 2009 \\\\\n",
       "\t$\\dots$ & $\\dots$ & $\\dots$ & $\\dots$ & $\\dots$ & $\\dots$ & $\\dots$ & $\\dots$ & $\\dots$ & $\\dots$ & $\\dots$ & $\\dots$ & $\\dots$ & $\\dots$ & $\\dots$ & $\\dots$ & $\\dots$ & $\\dots$ & $\\dots$ & $\\dots$ & $\\dots$ \\\\\n",
       "\\end{tabular}\n"
      ],
      "text/plain": [
       "10489×20 DataFrame. Omitted printing of 17 columns\n",
       "│ Row   │ posteam │ yardline_100 │ quarter_seconds_remaining │\n",
       "│       │ \u001b[90mString\u001b[39m  │ \u001b[90mString\u001b[39m       │ \u001b[90mInt64\u001b[39m                     │\n",
       "├───────┼─────────┼──────────────┼───────────────────────────┤\n",
       "│ 1     │ HOU     │ 80           │ 892                       │\n",
       "│ 2     │ HOU     │ 78           │ 850                       │\n",
       "│ 3     │ HOU     │ 71           │ 813                       │\n",
       "│ 4     │ HOU     │ 60           │ 771                       │\n",
       "│ 5     │ HOU     │ 62           │ 731                       │\n",
       "│ 6     │ HOU     │ 62           │ 731                       │\n",
       "│ 7     │ HOU     │ 67           │ 612                       │\n",
       "│ 8     │ HOU     │ 67           │ 612                       │\n",
       "│ 9     │ HOU     │ 64           │ 530                       │\n",
       "│ 10    │ HOU     │ 68           │ 1                         │\n",
       "⋮\n",
       "│ 10479 │ HOU     │ 75           │ 300                       │\n",
       "│ 10480 │ HOU     │ 55           │ 262                       │\n",
       "│ 10481 │ HOU     │ 49           │ 234                       │\n",
       "│ 10482 │ HOU     │ 44           │ 223                       │\n",
       "│ 10483 │ HOU     │ 24           │ 179                       │\n",
       "│ 10484 │ HOU     │ 21           │ 174                       │\n",
       "│ 10485 │ HOU     │ 14           │ 140                       │\n",
       "│ 10486 │ HOU     │ 21           │ 112                       │\n",
       "│ 10487 │ HOU     │ 22           │ 107                       │\n",
       "│ 10488 │ HOU     │ 21           │ 102                       │\n",
       "│ 10489 │ HOU     │ 33           │ 11                        │"
      ]
     },
     "execution_count": 11,
     "metadata": {},
     "output_type": "execute_result"
    }
   ],
   "source": [
    "df_hou = filter(row -> row[:posteam] == \"HOU\", df)"
   ]
  },
  {
   "cell_type": "code",
   "execution_count": 19,
   "metadata": {},
   "outputs": [
    {
     "name": "stdout",
     "output_type": "stream",
     "text": [
      "\n",
      "Fold 1\n",
      "Classes:  "
     ]
    },
    {
     "data": {
      "text/plain": [
       "2×2 Array{Int64,2}:\n",
       " 176   9\n",
       " 129  33"
      ]
     },
     "metadata": {},
     "output_type": "display_data"
    },
    {
     "name": "stdout",
     "output_type": "stream",
     "text": [
      "Int8[0, 1]"
     ]
    },
    {
     "data": {
      "text/plain": [
       "2×2 Array{Int64,2}:\n",
       " 205  16\n",
       "  96  30"
      ]
     },
     "metadata": {},
     "output_type": "display_data"
    },
    {
     "data": {
      "text/plain": [
       "2×2 Array{Int64,2}:\n",
       " 196  16\n",
       "  90  45"
      ]
     },
     "metadata": {},
     "output_type": "display_data"
    },
    {
     "data": {
      "text/plain": [
       "2×2 Array{Int64,2}:\n",
       " 88  112\n",
       "  6  137"
      ]
     },
     "metadata": {},
     "output_type": "display_data"
    },
    {
     "data": {
      "text/plain": [
       "2×2 Array{Int64,2}:\n",
       " 95   92\n",
       " 12  144"
      ]
     },
     "metadata": {},
     "output_type": "display_data"
    },
    {
     "name": "stdout",
     "output_type": "stream",
     "text": [
      "\n",
      "Matrix:   \n",
      "Accuracy: 0.6023054755043228\n",
      "Kappa:    0.1625393494228751\n",
      "\n",
      "Fold 2\n",
      "Classes:  Int8[0, 1]\n",
      "Matrix:   \n",
      "Accuracy: 0.6772334293948127\n",
      "Kappa:    0.1918822257340099\n",
      "\n",
      "Fold 3\n",
      "Classes:  Int8[0, 1]\n",
      "Matrix:   \n",
      "Accuracy: 0.6945244956772334\n",
      "Kappa:    0.2863683985875596\n",
      "\n",
      "Mean Accuracy: 0.6580211335254563\n",
      "\n",
      "Fold 1\n",
      "Classes:  Int8[0, 1]\n",
      "Matrix:   \n",
      "Accuracy: 0.6559766763848397\n",
      "Kappa:    0.3600139148034535\n",
      "\n",
      "Fold 2\n",
      "Classes:  Int8[0, 1]\n",
      "Matrix:   \n",
      "Accuracy: 0.6967930029154519\n",
      "Kappa:    0.4135209785610942\n"
     ]
    },
    {
     "data": {
      "text/plain": [
       "2×2 Array{Int64,2}:\n",
       " 108  111\n",
       "   3  121"
      ]
     },
     "metadata": {},
     "output_type": "display_data"
    },
    {
     "data": {
      "text/plain": [
       "2×2 Array{Int64,2}:\n",
       " 44  118\n",
       "  7  179"
      ]
     },
     "metadata": {},
     "output_type": "display_data"
    },
    {
     "data": {
      "text/plain": [
       "2×2 Array{Int64,2}:\n",
       " 52  121\n",
       "  3  172"
      ]
     },
     "metadata": {},
     "output_type": "display_data"
    },
    {
     "data": {
      "text/plain": [
       "2×2 Array{Int64,2}:\n",
       " 59  104\n",
       "  6  179"
      ]
     },
     "metadata": {},
     "output_type": "display_data"
    },
    {
     "data": {
      "text/plain": [
       "2×2 Array{Int64,2}:\n",
       " 63  138\n",
       "  4  158"
      ]
     },
     "metadata": {},
     "output_type": "display_data"
    },
    {
     "data": {
      "text/plain": [
       "2×2 Array{Int64,2}:\n",
       " 65  112\n",
       " 11  175"
      ]
     },
     "metadata": {},
     "output_type": "display_data"
    },
    {
     "data": {
      "text/plain": [
       "2×2 Array{Int64,2}:\n",
       " 73  130\n",
       "  6  154"
      ]
     },
     "metadata": {},
     "output_type": "display_data"
    },
    {
     "name": "stdout",
     "output_type": "stream",
     "text": [
      "\n",
      "Fold 3\n",
      "Classes:  Int8[0, 1]\n",
      "Matrix:   \n",
      "Accuracy: 0.6676384839650146\n",
      "Kappa:    0.3944434120052035\n",
      "\n",
      "Mean Accuracy: 0.673469387755102\n",
      "\n",
      "Fold 1\n",
      "Classes:  Int8[0, 1]\n",
      "Matrix:   \n",
      "Accuracy: 0.6408045977011494\n",
      "Kappa:    0.24479166666666669\n",
      "\n",
      "Fold 2\n",
      "Classes:  Int8[0, 1]\n",
      "Matrix:   \n",
      "Accuracy: 0.6436781609195402\n",
      "Kappa:    0.2845442185893822\n",
      "\n",
      "Fold 3\n",
      "Classes:  Int8[0, 1]\n",
      "Matrix:   \n",
      "Accuracy: 0.6839080459770115\n",
      "Kappa:    0.3417477731540392\n",
      "\n",
      "Mean Accuracy: 0.6561302681992337\n",
      "\n",
      "Fold 1\n",
      "Classes:  Int8[0, 1]\n",
      "Matrix:   \n",
      "Accuracy: 0.6088154269972452\n",
      "Kappa:    0.26729211087420046\n",
      "\n",
      "Fold 2\n",
      "Classes:  Int8[0, 1]\n",
      "Matrix:   \n",
      "Accuracy: 0.6611570247933884\n",
      "Kappa:    0.3124047124047124\n",
      "\n",
      "Fold 3\n",
      "Classes:  Int8[0, 1]\n",
      "Matrix:   \n",
      "Accuracy: 0.6253443526170799\n",
      "Kappa:    0.29767256586809304\n",
      "\n",
      "Mean Accuracy: 0.6317722681359045"
     ]
    },
    {
     "data": {
      "text/plain": [
       "2×2 Array{Int64,2}:\n",
       " 166  64\n",
       "  47  86"
      ]
     },
     "metadata": {},
     "output_type": "display_data"
    },
    {
     "data": {
      "text/plain": [
       "2×2 Array{Int64,2}:\n",
       " 168  53\n",
       "  53  89"
      ]
     },
     "metadata": {},
     "output_type": "display_data"
    },
    {
     "data": {
      "text/plain": [
       "2×2 Array{Int64,2}:\n",
       " 173  51\n",
       "  46  93"
      ]
     },
     "metadata": {},
     "output_type": "display_data"
    },
    {
     "data": {
      "text/plain": [
       "2×2 Array{Int64,2}:\n",
       " 132   40\n",
       "  55  127"
      ]
     },
     "metadata": {},
     "output_type": "display_data"
    },
    {
     "data": {
      "text/plain": [
       "2×2 Array{Int64,2}:\n",
       " 111   47\n",
       "  52  144"
      ]
     },
     "metadata": {},
     "output_type": "display_data"
    },
    {
     "data": {
      "text/plain": [
       "2×2 Array{Int64,2}:\n",
       " 129   53\n",
       "  43  129"
      ]
     },
     "metadata": {},
     "output_type": "display_data"
    },
    {
     "name": "stdout",
     "output_type": "stream",
     "text": [
      "\n",
      "\n",
      "Fold 1\n",
      "Classes:  Int8[0, 1]\n",
      "Matrix:   \n",
      "Accuracy: 0.6942148760330579\n",
      "Kappa:    0.3586878670677554\n",
      "\n",
      "Fold 2\n",
      "Classes:  Int8[0, 1]\n",
      "Matrix:   \n",
      "Accuracy: 0.7079889807162535\n",
      "Kappa:    0.38694155885539494\n",
      "\n",
      "Fold 3\n",
      "Classes:  Int8[0, 1]\n",
      "Matrix:   \n",
      "Accuracy: 0.7327823691460055\n",
      "Kappa:    0.43839418153978654\n",
      "\n",
      "Mean Accuracy: 0.711662075298439\n",
      "\n",
      "Fold 1\n",
      "Classes:  Int8[0, 1]\n",
      "Matrix:   \n",
      "Accuracy: 0.731638418079096\n",
      "Kappa:    0.46413206284457753\n",
      "\n",
      "Fold 2\n",
      "Classes:  Int8[0, 1]\n",
      "Matrix:   \n",
      "Accuracy: 0.7203389830508474\n",
      "Kappa:    0.43588835592183617\n",
      "\n",
      "Fold 3\n",
      "Classes:  Int8[0, 1]\n",
      "Matrix:   \n",
      "Accuracy: 0.7288135593220338\n",
      "Kappa:    0.45805957772533\n",
      "\n",
      "Mean Accuracy: 0.7269303201506591\n"
     ]
    },
    {
     "data": {
      "text/plain": [
       "2×2 Array{Int64,2}:\n",
       " 158   61\n",
       "  37  119"
      ]
     },
     "metadata": {},
     "output_type": "display_data"
    },
    {
     "data": {
      "text/plain": [
       "2×2 Array{Int64,2}:\n",
       " 142   72\n",
       "  37  124"
      ]
     },
     "metadata": {},
     "output_type": "display_data"
    },
    {
     "data": {
      "text/plain": [
       "2×2 Array{Int64,2}:\n",
       " 150   71\n",
       "  40  114"
      ]
     },
     "metadata": {},
     "output_type": "display_data"
    },
    {
     "data": {
      "text/plain": [
       "2×2 Array{Int64,2}:\n",
       " 165  38\n",
       "  82  72"
      ]
     },
     "metadata": {},
     "output_type": "display_data"
    },
    {
     "data": {
      "text/plain": [
       "2×2 Array{Int64,2}:\n",
       " 178  34\n",
       "  69  76"
      ]
     },
     "metadata": {},
     "output_type": "display_data"
    },
    {
     "data": {
      "text/plain": [
       "2×2 Array{Int64,2}:\n",
       " 154  45\n",
       "  64  94"
      ]
     },
     "metadata": {},
     "output_type": "display_data"
    },
    {
     "data": {
      "text/plain": [
       "2×2 Array{Int64,2}:\n",
       " 133   58\n",
       "  41  110"
      ]
     },
     "metadata": {},
     "output_type": "display_data"
    },
    {
     "data": {
      "text/plain": [
       "2×2 Array{Int64,2}:\n",
       " 141   54\n",
       "  37  110"
      ]
     },
     "metadata": {},
     "output_type": "display_data"
    },
    {
     "name": "stdout",
     "output_type": "stream",
     "text": [
      "\n",
      "Fold 1\n",
      "Classes:  Int8[0, 1]\n",
      "Matrix:   \n",
      "Accuracy: 0.7386666666666667\n",
      "Kappa:    0.47379725085910657\n",
      "\n",
      "Fold 2\n",
      "Classes:  Int8[0, 1]\n",
      "Matrix:   \n",
      "Accuracy: 0.7093333333333334\n",
      "Kappa:    0.4223676214971101\n",
      "\n",
      "Fold 3\n",
      "Classes:  Int8[0, 1]\n",
      "Matrix:   \n",
      "Accuracy: 0.704\n",
      "Kappa:    0.4065863568322759\n",
      "\n",
      "Mean Accuracy: 0.7173333333333334\n",
      "\n",
      "Fold 1\n",
      "Classes:  Int8[0, 1]\n",
      "Matrix:   \n",
      "Accuracy: 0.6638655462184874\n",
      "Kappa:    0.29035250463821893\n",
      "\n",
      "Fold 2\n",
      "Classes:  Int8[0, 1]\n",
      "Matrix:   \n",
      "Accuracy: 0.711484593837535\n",
      "Kappa:    0.37818550773653514\n",
      "\n",
      "Fold 3\n",
      "Classes:  Int8[0, 1]\n",
      "Matrix:   \n",
      "Accuracy: 0.6946778711484594\n",
      "Kappa:    0.373432090813944\n",
      "\n",
      "Mean Accuracy: 0.6900093370681605\n",
      "\n",
      "Fold 1\n",
      "Classes:  Int8[0, 1]\n",
      "Matrix:   \n",
      "Accuracy: 0.7105263157894737\n",
      "Kappa:    0.41986223912819987\n",
      "\n",
      "Fold 2\n",
      "Classes:  Int8[0, 1]\n",
      "Matrix:   \n",
      "Accuracy: "
     ]
    },
    {
     "data": {
      "text/plain": [
       "2×2 Array{Int64,2}:\n",
       " 134   59\n",
       "  41  108"
      ]
     },
     "metadata": {},
     "output_type": "display_data"
    },
    {
     "data": {
      "text/plain": [
       "2×2 Array{Int64,2}:\n",
       " 109   60\n",
       "  30  101"
      ]
     },
     "metadata": {},
     "output_type": "display_data"
    },
    {
     "data": {
      "text/plain": [
       "2×2 Array{Int64,2}:\n",
       " 113   39\n",
       "  36  112"
      ]
     },
     "metadata": {},
     "output_type": "display_data"
    },
    {
     "data": {
      "text/plain": [
       "2×2 Array{Int64,2}:\n",
       " 110  51\n",
       "  40  99"
      ]
     },
     "metadata": {},
     "output_type": "display_data"
    },
    {
     "name": "stdout",
     "output_type": "stream",
     "text": [
      "0.7339181286549707\n",
      "Kappa:    0.4647611185636156\n",
      "\n",
      "Fold 3\n",
      "Classes:  Int8[0, 1]\n",
      "Matrix:   \n",
      "Accuracy: 0.7076023391812866\n",
      "Kappa:    0.41343944019483414\n",
      "\n",
      "Mean Accuracy: 0.7173489278752436\n",
      "\n",
      "Fold 1\n",
      "Classes:  Int8[0, 1]\n",
      "Matrix:   \n",
      "Accuracy: 0.7\n",
      "Kappa:    0.4055220397199347\n",
      "\n",
      "Fold 2\n",
      "Classes:  Int8[0, 1]\n",
      "Matrix:   \n",
      "Accuracy: 0.75\n",
      "Kappa:    0.5000444404941783\n",
      "\n",
      "Fold 3\n",
      "Classes:  Int8[0, 1]\n",
      "Matrix:   \n",
      "Accuracy: 0.6966666666666667\n",
      "Kappa:    0.3933333333333333\n",
      "\n",
      "Mean Accuracy: 0.7155555555555555\n"
     ]
    }
   ],
   "source": [
    "results = []\n",
    "for season in seasons\n",
    "    temp_df = filter(row -> row[:season] == season, df_hou)\n",
    "    accuracy = nfoldCV_tree(temp_df[:rush_attempt], Matrix(temp_df[more_features]),3,1.0,3,2,5,0.0)\n",
    "    #args = n_folds, pruning purity, max_depth, min_leaf, min_split, min_purity\n",
    "    push!(results, (season, accuracy))\n",
    "end"
   ]
  },
  {
   "cell_type": "code",
   "execution_count": 24,
   "metadata": {},
   "outputs": [
    {
     "name": "stdout",
     "output_type": "stream",
     "text": [
      "2014: 0.7269303201506591\n",
      "2017: 0.7173489278752436\n",
      "2015: 0.7173333333333334\n",
      "2018: 0.7155555555555555\n",
      "2013: 0.711662075298439\n",
      "2016: 0.6900093370681605\n",
      "2010: 0.673469387755102\n",
      "2009: 0.6580211335254563\n",
      "2011: 0.6561302681992337\n",
      "2012: 0.6317722681359045\n"
     ]
    }
   ],
   "source": [
    "sort!(results, by = x -> sum(x[2])/3, rev=true)\n",
    "for result in results\n",
    "    println(result[1], \": \", sum(result[2])/3)\n",
    "end"
   ]
  },
  {
   "cell_type": "markdown",
   "metadata": {},
   "source": [
    "# Cowboys Seasons "
   ]
  },
  {
   "cell_type": "code",
   "execution_count": 42,
   "metadata": {},
   "outputs": [
    {
     "data": {
      "text/plain": [
       "2×2 Array{Int64,2}:\n",
       " 126   73\n",
       "  14  127"
      ]
     },
     "metadata": {},
     "output_type": "display_data"
    },
    {
     "data": {
      "text/plain": [
       "2×2 Array{Int64,2}:\n",
       " 126   67\n",
       "  19  128"
      ]
     },
     "metadata": {},
     "output_type": "display_data"
    },
    {
     "data": {
      "text/plain": [
       "2×2 Array{Int64,2}:\n",
       " 134   58\n",
       "  25  123"
      ]
     },
     "metadata": {},
     "output_type": "display_data"
    },
    {
     "data": {
      "text/plain": [
       "2×2 Array{Int64,2}:\n",
       " 132   86\n",
       "  21  106"
      ]
     },
     "metadata": {},
     "output_type": "display_data"
    },
    {
     "data": {
      "text/plain": [
       "2×2 Array{Int64,2}:\n",
       " 108   78\n",
       "  28  131"
      ]
     },
     "metadata": {},
     "output_type": "display_data"
    },
    {
     "data": {
      "text/plain": [
       "2×2 Array{Int64,2}:\n",
       " 136   68\n",
       "  27  114"
      ]
     },
     "metadata": {},
     "output_type": "display_data"
    },
    {
     "name": "stdout",
     "output_type": "stream",
     "text": [
      "\n",
      "Fold 1\n",
      "Classes:  Int8[0, 1]\n",
      "Matrix:   \n",
      "Accuracy: 0.7441176470588236\n",
      "Kappa:    0.5031911320120928\n",
      "\n",
      "Fold 2\n",
      "Classes:  Int8[0, 1]\n",
      "Matrix:   \n",
      "Accuracy: 0.7470588235294118\n",
      "Kappa:    0.5039864291772689\n",
      "\n",
      "Fold 3\n",
      "Classes:  Int8[0, 1]\n",
      "Matrix:   \n",
      "Accuracy: 0.7558823529411764\n",
      "Kappa:    0.5158190927184132\n",
      "\n",
      "Mean Accuracy: 0.7490196078431373\n",
      "\n",
      "Fold 1\n",
      "Classes:  Int8[0, 1]\n",
      "Matrix:   \n",
      "Accuracy: 0.6898550724637681\n",
      "Kappa:    0.3976699789514905\n",
      "\n",
      "Fold 2\n",
      "Classes:  Int8[0, 1]\n",
      "Matrix:   \n",
      "Accuracy: 0.6927536231884058\n",
      "Kappa:    0.3955172071804028\n",
      "\n",
      "Fold 3\n",
      "Classes:  Int8[0, 1]\n",
      "Matrix:   "
     ]
    },
    {
     "data": {
      "text/plain": [
       "2×2 Array{Int64,2}:\n",
       " 123   75\n",
       "  20  121"
      ]
     },
     "metadata": {},
     "output_type": "display_data"
    },
    {
     "data": {
      "text/plain": [
       "2×2 Array{Int64,2}:\n",
       " 134   74\n",
       "  14  117"
      ]
     },
     "metadata": {},
     "output_type": "display_data"
    },
    {
     "data": {
      "text/plain": [
       "2×2 Array{Int64,2}:\n",
       " 125   78\n",
       "  21  115"
      ]
     },
     "metadata": {},
     "output_type": "display_data"
    },
    {
     "name": "stdout",
     "output_type": "stream",
     "text": [
      "\n",
      "Accuracy: 0.7246376811594203\n",
      "Kappa:    0.4547586964116384\n",
      "\n",
      "Mean Accuracy: 0.7024154589371981\n",
      "\n",
      "Fold 1\n",
      "Classes:  Int8[0, 1]\n",
      "Matrix:   \n",
      "Accuracy: 0.7197640117994101\n",
      "Kappa:    0.4538841125298877\n",
      "\n",
      "Fold 2\n",
      "Classes:  Int8[0, 1]\n",
      "Matrix:   \n",
      "Accuracy: 0.7404129793510325\n",
      "Kappa:    0.4953650449962785\n",
      "\n",
      "Fold 3\n",
      "Classes:  Int8[0, 1]\n",
      "Matrix:   \n",
      "Accuracy: 0.7079646017699115\n",
      "Kappa:    0.4315067332938088\n",
      "\n",
      "Mean Accuracy: 0.7227138643067846"
     ]
    },
    {
     "data": {
      "text/plain": [
       "2×2 Array{Int64,2}:\n",
       " 168  67\n",
       "  18  96"
      ]
     },
     "metadata": {},
     "output_type": "display_data"
    },
    {
     "data": {
      "text/plain": [
       "2×2 Array{Int64,2}:\n",
       " 155   64\n",
       "  11  119"
      ]
     },
     "metadata": {},
     "output_type": "display_data"
    },
    {
     "data": {
      "text/plain": [
       "2×2 Array{Int64,2}:\n",
       " 169  70\n",
       "  14  96"
      ]
     },
     "metadata": {},
     "output_type": "display_data"
    },
    {
     "data": {
      "text/plain": [
       "2×2 Array{Int64,2}:\n",
       " 174  34\n",
       "  22  89"
      ]
     },
     "metadata": {},
     "output_type": "display_data"
    },
    {
     "name": "stdout",
     "output_type": "stream",
     "text": [
      "\n",
      "\n",
      "Fold 1\n",
      "Classes:  Int8[0, 1]\n",
      "Matrix:   \n",
      "Accuracy: 0.7564469914040115\n",
      "Kappa:    0.5015039741887782\n",
      "\n",
      "Fold 2\n",
      "Classes:  Int8[0, 1]\n",
      "Matrix:   \n",
      "Accuracy: 0.7851002865329513\n",
      "Kappa:    0.5754739932205589\n",
      "\n",
      "Fold 3\n",
      "Classes:  Int8[0, 1]\n",
      "Matrix:   \n",
      "Accuracy: 0.7593123209169055\n",
      "Kappa:    0.509798675673868\n",
      "\n",
      "Mean Accuracy: 0.766953199617956\n",
      "\n",
      "Fold 1\n",
      "Classes:  Int8[0, 1]\n",
      "Matrix:   \n",
      "Accuracy: 0.8244514106583072\n",
      "Kappa:    0.622644697929869\n",
      "\n",
      "Fold 2\n",
      "Classes:  Int8[0, 1]"
     ]
    },
    {
     "data": {
      "text/plain": [
       "2×2 Array{Int64,2}:\n",
       " 155  55\n",
       "  31  78"
      ]
     },
     "metadata": {},
     "output_type": "display_data"
    },
    {
     "data": {
      "text/plain": [
       "2×2 Array{Int64,2}:\n",
       " 156  47\n",
       "  25  91"
      ]
     },
     "metadata": {},
     "output_type": "display_data"
    },
    {
     "data": {
      "text/plain": [
       "2×2 Array{Int64,2}:\n",
       " 148   25\n",
       "  21  144"
      ]
     },
     "metadata": {},
     "output_type": "display_data"
    },
    {
     "data": {
      "text/plain": [
       "2×2 Array{Int64,2}:\n",
       " 135   32\n",
       "  22  149"
      ]
     },
     "metadata": {},
     "output_type": "display_data"
    },
    {
     "data": {
      "text/plain": [
       "2×2 Array{Int64,2}:\n",
       " 124   42\n",
       "  18  154"
      ]
     },
     "metadata": {},
     "output_type": "display_data"
    },
    {
     "name": "stdout",
     "output_type": "stream",
     "text": [
      "\n",
      "Matrix:   \n",
      "Accuracy: 0.7304075235109718\n",
      "Kappa:    0.43087710563438725\n",
      "\n",
      "Fold 3\n",
      "Classes:  Int8[0, 1]\n",
      "Matrix:   \n",
      "Accuracy: 0.774294670846395\n",
      "Kappa:    0.5313609467455622\n",
      "\n",
      "Mean Accuracy: 0.7763845350052248\n",
      "\n",
      "Fold 1\n",
      "Classes:  Int8[0, 1]\n",
      "Matrix:   \n",
      "Accuracy: 0.863905325443787\n",
      "Kappa:    0.7278106508875739\n",
      "\n",
      "Fold 2\n",
      "Classes:  Int8[0, 1]\n",
      "Matrix:   \n",
      "Accuracy: 0.8402366863905325\n",
      "Kappa:    0.6802046465991519\n",
      "\n",
      "Fold 3\n",
      "Classes:  Int8[0, 1]\n",
      "Matrix:   \n",
      "Accuracy: 0.8224852071005917\n",
      "Kappa:    0.6439606741573034\n",
      "\n",
      "Mean Accuracy: 0.8422090729783037\n"
     ]
    },
    {
     "data": {
      "text/plain": [
       "2×2 Array{Int64,2}:\n",
       " 149   32\n",
       "  16  126"
      ]
     },
     "metadata": {},
     "output_type": "display_data"
    },
    {
     "data": {
      "text/plain": [
       "2×2 Array{Int64,2}:\n",
       " 142   33\n",
       "  16  132"
      ]
     },
     "metadata": {},
     "output_type": "display_data"
    },
    {
     "data": {
      "text/plain": [
       "2×2 Array{Int64,2}:\n",
       " 175   31\n",
       "  15  102"
      ]
     },
     "metadata": {},
     "output_type": "display_data"
    },
    {
     "name": "stdout",
     "output_type": "stream",
     "text": [
      "\n",
      "Fold 1\n",
      "Classes:  Int8[0, 1]\n",
      "Matrix:   \n",
      "Accuracy: 0.8513931888544891\n",
      "Kappa:    0.7020066118244022\n",
      "\n",
      "Fold 2\n",
      "Classes:  Int8[0, 1]\n",
      "Matrix:   \n",
      "Accuracy: 0.848297213622291\n",
      "Kappa:    0.6971430758338277\n",
      "\n",
      "Fold 3\n",
      "Classes:  Int8[0, 1]\n",
      "Matrix:   \n",
      "Accuracy: 0.8575851393188855\n",
      "Kappa:    0.7006125574272588\n",
      "\n",
      "Mean Accuracy: 0.8524251805985553"
     ]
    },
    {
     "data": {
      "text/plain": [
       "2×2 Array{Int64,2}:\n",
       " 143   30\n",
       "  32  131"
      ]
     },
     "metadata": {},
     "output_type": "display_data"
    },
    {
     "data": {
      "text/plain": [
       "2×2 Array{Int64,2}:\n",
       " 129   44\n",
       "  24  139"
      ]
     },
     "metadata": {},
     "output_type": "display_data"
    },
    {
     "data": {
      "text/plain": [
       "2×2 Array{Int64,2}:\n",
       " 120   44\n",
       "  35  137"
      ]
     },
     "metadata": {},
     "output_type": "display_data"
    },
    {
     "name": "stdout",
     "output_type": "stream",
     "text": [
      "\n",
      "\n",
      "Fold 1\n",
      "Classes:  Int8[0, 1]\n",
      "Matrix:   \n",
      "Accuracy: 0.8154761904761905\n",
      "Kappa:    0.630494164390365\n",
      "\n",
      "Fold 2\n",
      "Classes:  Int8[0, 1]\n",
      "Matrix:   \n",
      "Accuracy: 0.7976190476190477\n",
      "Kappa:    0.596310823704018\n",
      "\n",
      "Fold 3\n",
      "Classes:  Int8[0, 1]\n",
      "Matrix:   \n",
      "Accuracy: 0.7648809523809523\n",
      "Kappa:    0.5288939372426522\n",
      "\n",
      "Mean Accuracy: 0.7926587301587302"
     ]
    },
    {
     "data": {
      "text/plain": [
       "2×2 Array{Int64,2}:\n",
       " 143   44\n",
       "  40  108"
      ]
     },
     "metadata": {},
     "output_type": "display_data"
    },
    {
     "data": {
      "text/plain": [
       "2×2 Array{Int64,2}:\n",
       " 137   34\n",
       "  27  137"
      ]
     },
     "metadata": {},
     "output_type": "display_data"
    },
    {
     "data": {
      "text/plain": [
       "2×2 Array{Int64,2}:\n",
       " 119   48\n",
       "  39  129"
      ]
     },
     "metadata": {},
     "output_type": "display_data"
    },
    {
     "data": {
      "text/plain": [
       "2×2 Array{Int64,2}:\n",
       " 134   33\n",
       "  51  105"
      ]
     },
     "metadata": {},
     "output_type": "display_data"
    },
    {
     "data": {
      "text/plain": [
       "2×2 Array{Int64,2}:\n",
       " 149   41\n",
       "  31  102"
      ]
     },
     "metadata": {},
     "output_type": "display_data"
    },
    {
     "data": {
      "text/plain": [
       "2×2 Array{Int64,2}:\n",
       " 139  52\n",
       "  36  96"
      ]
     },
     "metadata": {},
     "output_type": "display_data"
    },
    {
     "name": "stdout",
     "output_type": "stream",
     "text": [
      "\n",
      "\n",
      "Fold 1\n",
      "Classes:  Int8[0, 1]\n",
      "Matrix:   \n",
      "Accuracy: 0.7492537313432835\n",
      "Kappa:    0.4930460474165886\n",
      "\n",
      "Fold 2\n",
      "Classes:  Int8[0, 1]\n",
      "Matrix:   \n",
      "Accuracy: 0.817910447761194\n",
      "Kappa:    0.6359798350464043\n",
      "\n",
      "Fold 3\n",
      "Classes:  Int8[0, 1]\n",
      "Matrix:   \n",
      "Accuracy: 0.7402985074626866\n",
      "Kappa:    0.48050906368643387\n",
      "\n",
      "Mean Accuracy: 0.7691542288557214\n",
      "\n",
      "Fold 1\n",
      "Classes:  Int8[0, 1]\n",
      "Matrix:   \n",
      "Accuracy: 0.739938080495356\n",
      "Kappa:    0.4772858629060224\n",
      "\n",
      "Fold 2\n",
      "Classes:  Int8[0, 1]\n",
      "Matrix:   \n",
      "Accuracy: 0.7770897832817337\n",
      "Kappa:    0.5449814126394051\n",
      "\n",
      "Fold 3\n",
      "Classes:  Int8[0, 1]\n",
      "Matrix:   \n",
      "Accuracy: 0.7275541795665634\n",
      "Kappa:    0.4466593988475315\n",
      "\n",
      "Mean Accuracy: 0.7481940144478845\n"
     ]
    }
   ],
   "source": [
    "results = []\n",
    "for season in seasons\n",
    "    temp_df = filter(row -> row[:season] == season, filter(row -> row[:posteam] == \"DAL\", df))\n",
    "    accuracy = nfoldCV_tree(temp_df[:rush_attempt], Matrix(temp_df[more_features]),3,1.0,3,20,20,0.0)\n",
    "    #args = n_folds, pruning purity, max_depth, min_leaf, min_split, min_purity\n",
    "    push!(results, (season, accuracy))\n",
    "end"
   ]
  },
  {
   "cell_type": "code",
   "execution_count": 43,
   "metadata": {},
   "outputs": [
    {
     "name": "stdout",
     "output_type": "stream",
     "text": [
      "2015: 0.8524251805985553\n",
      "2014: 0.8422090729783037\n",
      "2016: 0.7926587301587302\n",
      "2013: 0.7763845350052248\n",
      "2017: 0.7691542288557214\n",
      "2012: 0.766953199617956\n",
      "2009: 0.7490196078431373\n",
      "2018: 0.7481940144478845\n",
      "2011: 0.7227138643067846\n",
      "2010: 0.7024154589371981\n"
     ]
    }
   ],
   "source": [
    "sort!(results, by = x -> sum(x[2])/3, rev=true)\n",
    "for result in results\n",
    "    println(result[1], \": \", sum(result[2])/3)\n",
    "end"
   ]
  },
  {
   "cell_type": "code",
   "execution_count": 41,
   "metadata": {},
   "outputs": [
    {
     "name": "stdout",
     "output_type": "stream",
     "text": [
      "Feature 3, Threshold 0.5\n",
      "L-> Feature 6, Threshold 5.0\n",
      "    L-> Feature 5, Threshold 5.5\n",
      "        L-> 1 : 74/88\n",
      "        R-> 1 : 224/301\n",
      "    R-> Feature 1, Threshold 47\n",
      "        L-> 1 : 22/22\n",
      "        R-> 1 : 40/45\n",
      "R-> Feature 2, Threshold 2.5\n",
      "    L-> Feature 5, Threshold 8.5\n",
      "        L-> 0 : 73/88\n",
      "        R-> 0 : 228/251\n",
      "    R-> Feature 5, Threshold 13.5\n",
      "        L-> 0 : 143/149\n",
      "        R-> 0 : 22/26\n",
      "Symbol[:yardline_100, :down, :shotgun, :no_huddle, :ydstogo, :score_differential]\n"
     ]
    }
   ],
   "source": [
    "team_df = filter(row -> row[:posteam] == \"DAL\" && row[:season] == 2015, df)\n",
    "model = build_tree(team_df[:rush_attempt], Matrix(team_df[more_features]),0,3,20,20,0.0)\n",
    "#args = n_subfeatures, max_depth, min_leaf, min_split, min_purity\n",
    "print_tree(model)\n",
    "println(more_features)"
   ]
  },
  {
   "cell_type": "code",
   "execution_count": null,
   "metadata": {},
   "outputs": [],
   "source": []
  }
 ],
 "metadata": {
  "kernelspec": {
   "display_name": "Julia 1.1.0",
   "language": "julia",
   "name": "julia-1.1"
  },
  "language_info": {
   "file_extension": ".jl",
   "mimetype": "application/julia",
   "name": "julia",
   "version": "1.1.0"
  }
 },
 "nbformat": 4,
 "nbformat_minor": 2
}
