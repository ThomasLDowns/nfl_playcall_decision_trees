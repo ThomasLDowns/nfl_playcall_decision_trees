{
 "cells": [
  {
   "cell_type": "code",
   "execution_count": 2,
   "metadata": {},
   "outputs": [],
   "source": [
    "using Feather, DataFrames, DecisionTree"
   ]
  },
  {
   "cell_type": "code",
   "execution_count": 3,
   "metadata": {},
   "outputs": [
    {
     "data": {
      "text/html": [
       "<table class=\"data-frame\"><thead><tr><th></th><th>posteam</th><th>yardline_100</th><th>quarter_seconds_remaining</th><th>half_seconds_remaining</th><th>game_seconds_remaining</th><th>drive</th><th>qtr</th><th>down</th><th>ydstogo</th><th>desc</th><th>shotgun</th><th>no_huddle</th><th>posteam_timeouts_remaining</th><th>defteam_timeouts_remaining</th><th>posteam_score</th><th>defteam_score</th><th>score_differential</th><th>rush_attempt</th><th>pass_attempt</th></tr><tr><th></th><th>String</th><th>String</th><th>Int64</th><th>Int64</th><th>Int64</th><th>Int64</th><th>Int64</th><th>Int8</th><th>Int64</th><th>String</th><th>Int64</th><th>Int64</th><th>Int64</th><th>Int64</th><th>Int64</th><th>Int64</th><th>Int64</th><th>Int8</th><th>Int8</th></tr></thead><tbody><p>323,986 rows × 19 columns</p><tr><th>1</th><td>PIT</td><td>58</td><td>893</td><td>1793</td><td>3593</td><td>1</td><td>1</td><td>1</td><td>10</td><td>(14:53) B.Roethlisberger pass short left to H.Ward to PIT 47 for 5 yards (C.Hope).</td><td>0</td><td>0</td><td>3</td><td>3</td><td>0</td><td>0</td><td>0</td><td>0</td><td>1</td></tr><tr><th>2</th><td>PIT</td><td>53</td><td>856</td><td>1756</td><td>3556</td><td>1</td><td>1</td><td>2</td><td>5</td><td>(14:16) W.Parker right end to PIT 44 for -3 yards (S.Tulloch).</td><td>0</td><td>0</td><td>3</td><td>3</td><td>0</td><td>0</td><td>0</td><td>1</td><td>0</td></tr><tr><th>3</th><td>PIT</td><td>56</td><td>815</td><td>1715</td><td>3515</td><td>1</td><td>1</td><td>3</td><td>8</td><td>(13:35) (Shotgun) B.Roethlisberger pass incomplete deep right to M.Wallace. COVERAGE BY #24 HOPE</td><td>1</td><td>0</td><td>3</td><td>3</td><td>0</td><td>0</td><td>0</td><td>0</td><td>1</td></tr><tr><th>4</th><td>TEN</td><td>98</td><td>796</td><td>1696</td><td>3496</td><td>2</td><td>1</td><td>1</td><td>10</td><td>(13:16) C.Johnson up the middle to TEN 2 for no gain (B.Keisel, J.Farrior).</td><td>0</td><td>0</td><td>3</td><td>3</td><td>0</td><td>0</td><td>0</td><td>1</td><td>0</td></tr><tr><th>5</th><td>TEN</td><td>98</td><td>760</td><td>1660</td><td>3460</td><td>2</td><td>1</td><td>2</td><td>10</td><td>(12:40) K.Collins pass short left to A.Hall to TEN 6 for 4 yards (T.Polamalu).</td><td>0</td><td>0</td><td>3</td><td>3</td><td>0</td><td>0</td><td>0</td><td>0</td><td>1</td></tr><tr><th>6</th><td>TEN</td><td>94</td><td>731</td><td>1631</td><td>3431</td><td>2</td><td>1</td><td>3</td><td>6</td><td>(12:11) (Shotgun) C.Johnson left end to TEN 4 for -2 yards (T.Polamalu).</td><td>1</td><td>0</td><td>3</td><td>3</td><td>0</td><td>0</td><td>0</td><td>1</td><td>0</td></tr><tr><th>7</th><td>PIT</td><td>43</td><td>684</td><td>1584</td><td>3384</td><td>3</td><td>1</td><td>1</td><td>10</td><td>(11:24) B.Roethlisberger pass short right to M.Wallace to TEN 40 for 3 yards (W.Hayes).</td><td>0</td><td>0</td><td>3</td><td>3</td><td>0</td><td>0</td><td>0</td><td>0</td><td>1</td></tr><tr><th>8</th><td>PIT</td><td>40</td><td>648</td><td>1548</td><td>3348</td><td>3</td><td>1</td><td>2</td><td>7</td><td>(10:48) B.Roethlisberger pass short left to S.Holmes to TEN 30 for 10 yards (M.Griffin).</td><td>0</td><td>0</td><td>3</td><td>3</td><td>0</td><td>0</td><td>0</td><td>0</td><td>1</td></tr><tr><th>9</th><td>PIT</td><td>30</td><td>621</td><td>1521</td><td>3321</td><td>3</td><td>1</td><td>1</td><td>10</td><td>(10:21) W.Parker right guard to TEN 31 for -1 yards (J.Jones, S.Tulloch).</td><td>0</td><td>0</td><td>3</td><td>3</td><td>0</td><td>0</td><td>0</td><td>1</td><td>0</td></tr><tr><th>10</th><td>PIT</td><td>31</td><td>583</td><td>1483</td><td>3283</td><td>3</td><td>1</td><td>2</td><td>11</td><td>(9:43) B.Roethlisberger pass short right to H.Miller to TEN 22 for 9 yards (C.Hope).</td><td>0</td><td>0</td><td>3</td><td>3</td><td>0</td><td>0</td><td>0</td><td>0</td><td>1</td></tr><tr><th>11</th><td>PIT</td><td>22</td><td>541</td><td>1441</td><td>3241</td><td>3</td><td>1</td><td>3</td><td>2</td><td>(9:01) B.Roethlisberger sacked at TEN 41 for -19 yards (J.Jones).</td><td>0</td><td>0</td><td>3</td><td>3</td><td>0</td><td>0</td><td>0</td><td>0</td><td>1</td></tr><tr><th>12</th><td>TEN</td><td>89</td><td>500</td><td>1400</td><td>3200</td><td>4</td><td>1</td><td>1</td><td>10</td><td>(8:20) C.Johnson right end to TEN 43 for 32 yards (T.Polamalu). PENALTY on PIT-T.Polamalu, Unnecessary Roughness, 15 yards, enforced at TEN 43.</td><td>0</td><td>0</td><td>3</td><td>3</td><td>0</td><td>0</td><td>0</td><td>1</td><td>0</td></tr><tr><th>13</th><td>TEN</td><td>42</td><td>477</td><td>1377</td><td>3177</td><td>4</td><td>1</td><td>1</td><td>10</td><td>(7:57) K.Collins pass deep left to B.Scaife to PIT 22 for 20 yards (T.Polamalu).</td><td>0</td><td>0</td><td>3</td><td>3</td><td>0</td><td>0</td><td>0</td><td>0</td><td>1</td></tr><tr><th>14</th><td>TEN</td><td>22</td><td>444</td><td>1344</td><td>3144</td><td>4</td><td>1</td><td>1</td><td>10</td><td>(7:24) C.Johnson left end to PIT 19 for 3 yards (R.Clark).</td><td>0</td><td>0</td><td>3</td><td>3</td><td>0</td><td>0</td><td>0</td><td>1</td><td>0</td></tr><tr><th>15</th><td>TEN</td><td>19</td><td>417</td><td>1317</td><td>3117</td><td>4</td><td>1</td><td>2</td><td>7</td><td>(6:57) K.Collins pass incomplete short right to A.Crumpler. Coverage by #56 Woodley, #22 Gay.</td><td>0</td><td>0</td><td>3</td><td>3</td><td>0</td><td>0</td><td>0</td><td>0</td><td>1</td></tr><tr><th>16</th><td>TEN</td><td>19</td><td>412</td><td>1312</td><td>3112</td><td>4</td><td>1</td><td>3</td><td>7</td><td>(6:52) (Shotgun) K.Collins pass incomplete short right to B.Scaife (T.Polamalu).</td><td>1</td><td>0</td><td>3</td><td>3</td><td>0</td><td>0</td><td>0</td><td>0</td><td>1</td></tr><tr><th>17</th><td>PIT</td><td>73</td><td>404</td><td>1304</td><td>3104</td><td>5</td><td>1</td><td>1</td><td>10</td><td>(6:44) R.Mendenhall up the middle to PIT 28 for 1 yard (J.Ford, K.Vickerson).</td><td>0</td><td>0</td><td>3</td><td>3</td><td>0</td><td>0</td><td>0</td><td>1</td><td>0</td></tr><tr><th>18</th><td>PIT</td><td>72</td><td>369</td><td>1269</td><td>3069</td><td>5</td><td>1</td><td>2</td><td>9</td><td>(6:09) R.Mendenhall up the middle to PIT 30 for 2 yards (K.Bulluck).</td><td>0</td><td>0</td><td>3</td><td>3</td><td>0</td><td>0</td><td>0</td><td>1</td><td>0</td></tr><tr><th>19</th><td>PIT</td><td>70</td><td>327</td><td>1227</td><td>3027</td><td>5</td><td>1</td><td>3</td><td>7</td><td>(5:27) (Shotgun) B.Roethlisberger sacked at PIT 21 for -9 yards (T.Brown).</td><td>1</td><td>0</td><td>3</td><td>3</td><td>0</td><td>0</td><td>0</td><td>0</td><td>1</td></tr><tr><th>20</th><td>TEN</td><td>74</td><td>289</td><td>1189</td><td>2989</td><td>6</td><td>1</td><td>1</td><td>10</td><td>(4:49) K.Collins pass short left to B.Scaife to TEN 36 for 10 yards (J.Farrior).</td><td>0</td><td>0</td><td>3</td><td>3</td><td>0</td><td>0</td><td>0</td><td>0</td><td>1</td></tr><tr><th>21</th><td>TEN</td><td>69</td><td>247</td><td>1147</td><td>2947</td><td>6</td><td>1</td><td>1</td><td>15</td><td>(4:07) K.Collins pass short left to B.Scaife to TEN 40 for 9 yards (K.Fox).</td><td>0</td><td>0</td><td>3</td><td>3</td><td>0</td><td>0</td><td>0</td><td>0</td><td>1</td></tr><tr><th>22</th><td>TEN</td><td>60</td><td>225</td><td>1125</td><td>2925</td><td>6</td><td>1</td><td>2</td><td>6</td><td>(3:45) L.White right guard to TEN 43 for 3 yards (B.Keisel, C.Hampton).</td><td>0</td><td>0</td><td>3</td><td>3</td><td>0</td><td>0</td><td>0</td><td>1</td><td>0</td></tr><tr><th>23</th><td>TEN</td><td>57</td><td>186</td><td>1086</td><td>2886</td><td>6</td><td>1</td><td>3</td><td>3</td><td>(3:06) (Shotgun) K.Collins pass short right to J.Gage to PIT 49 for 8 yards (J.Farrior).</td><td>1</td><td>0</td><td>3</td><td>3</td><td>0</td><td>0</td><td>0</td><td>0</td><td>1</td></tr><tr><th>24</th><td>TEN</td><td>49</td><td>148</td><td>1048</td><td>2848</td><td>6</td><td>1</td><td>1</td><td>10</td><td>(2:28) K.Collins pass short middle to L.White to PIT 44 for 5 yards (T.Polamalu).</td><td>0</td><td>0</td><td>3</td><td>3</td><td>0</td><td>0</td><td>0</td><td>0</td><td>1</td></tr><tr><th>25</th><td>TEN</td><td>44</td><td>111</td><td>1011</td><td>2811</td><td>6</td><td>1</td><td>2</td><td>5</td><td>(1:51) K.Collins pass deep left intended for K.Britt INTERCEPTED by T.Polamalu at PIT 5. T.Polamalu to PIT 21 for 16 yards (A.Hall).</td><td>0</td><td>0</td><td>3</td><td>3</td><td>0</td><td>0</td><td>0</td><td>0</td><td>1</td></tr><tr><th>26</th><td>PIT</td><td>79</td><td>98</td><td>998</td><td>2798</td><td>7</td><td>1</td><td>1</td><td>10</td><td>(1:38) W.Parker right guard to PIT 23 for 2 yards (S.Tulloch, J.Haye).</td><td>0</td><td>0</td><td>3</td><td>3</td><td>0</td><td>0</td><td>0</td><td>1</td><td>0</td></tr><tr><th>27</th><td>PIT</td><td>77</td><td>57</td><td>957</td><td>2757</td><td>7</td><td>1</td><td>2</td><td>8</td><td>(:57) (Shotgun) W.Parker right tackle to PIT 24 for 1 yard (C.Hope).</td><td>1</td><td>0</td><td>3</td><td>3</td><td>0</td><td>0</td><td>0</td><td>1</td><td>0</td></tr><tr><th>28</th><td>PIT</td><td>76</td><td>12</td><td>912</td><td>2712</td><td>7</td><td>1</td><td>3</td><td>7</td><td>(:12) (Shotgun) B.Roethlisberger pass deep right intended for S.Holmes INTERCEPTED by V.Fuller at PIT 44. V.Fuller to PIT 44 for no gain (S.Holmes).</td><td>1</td><td>0</td><td>3</td><td>3</td><td>0</td><td>0</td><td>0</td><td>0</td><td>1</td></tr><tr><th>29</th><td>TEN</td><td>44</td><td>6</td><td>906</td><td>2706</td><td>8</td><td>1</td><td>1</td><td>10</td><td>(:06) C.Johnson up the middle to PIT 43 for 1 yard (B.Keisel; A.Smith).</td><td>0</td><td>0</td><td>3</td><td>3</td><td>0</td><td>0</td><td>0</td><td>1</td><td>0</td></tr><tr><th>30</th><td>TEN</td><td>43</td><td>900</td><td>900</td><td>2700</td><td>8</td><td>2</td><td>2</td><td>9</td><td>(15:00) K.Collins pass short right to C.Johnson to PIT 32 for 11 yards (K.Fox).</td><td>0</td><td>0</td><td>3</td><td>3</td><td>0</td><td>0</td><td>0</td><td>0</td><td>1</td></tr><tr><th>&vellip;</th><td>&vellip;</td><td>&vellip;</td><td>&vellip;</td><td>&vellip;</td><td>&vellip;</td><td>&vellip;</td><td>&vellip;</td><td>&vellip;</td><td>&vellip;</td><td>&vellip;</td><td>&vellip;</td><td>&vellip;</td><td>&vellip;</td><td>&vellip;</td><td>&vellip;</td><td>&vellip;</td><td>&vellip;</td><td>&vellip;</td><td>&vellip;</td></tr></tbody></table>"
      ],
      "text/latex": [
       "\\begin{tabular}{r|ccccccccccccccccccc}\n",
       "\t& posteam & yardline\\_100 & quarter\\_seconds\\_remaining & half\\_seconds\\_remaining & game\\_seconds\\_remaining & drive & qtr & down & ydstogo & desc & shotgun & no\\_huddle & posteam\\_timeouts\\_remaining & defteam\\_timeouts\\_remaining & posteam\\_score & defteam\\_score & score\\_differential & rush\\_attempt & pass\\_attempt\\\\\n",
       "\t\\hline\n",
       "\t& String & String & Int64 & Int64 & Int64 & Int64 & Int64 & Int8 & Int64 & String & Int64 & Int64 & Int64 & Int64 & Int64 & Int64 & Int64 & Int8 & Int8\\\\\n",
       "\t\\hline\n",
       "\t1 & PIT & 58 & 893 & 1793 & 3593 & 1 & 1 & 1 & 10 & (14:53) B.Roethlisberger pass short left to H.Ward to PIT 47 for 5 yards (C.Hope). & 0 & 0 & 3 & 3 & 0 & 0 & 0 & 0 & 1 \\\\\n",
       "\t2 & PIT & 53 & 856 & 1756 & 3556 & 1 & 1 & 2 & 5 & (14:16) W.Parker right end to PIT 44 for -3 yards (S.Tulloch). & 0 & 0 & 3 & 3 & 0 & 0 & 0 & 1 & 0 \\\\\n",
       "\t3 & PIT & 56 & 815 & 1715 & 3515 & 1 & 1 & 3 & 8 & (13:35) (Shotgun) B.Roethlisberger pass incomplete deep right to M.Wallace. COVERAGE BY \\#24 HOPE & 1 & 0 & 3 & 3 & 0 & 0 & 0 & 0 & 1 \\\\\n",
       "\t4 & TEN & 98 & 796 & 1696 & 3496 & 2 & 1 & 1 & 10 & (13:16) C.Johnson up the middle to TEN 2 for no gain (B.Keisel, J.Farrior). & 0 & 0 & 3 & 3 & 0 & 0 & 0 & 1 & 0 \\\\\n",
       "\t5 & TEN & 98 & 760 & 1660 & 3460 & 2 & 1 & 2 & 10 & (12:40) K.Collins pass short left to A.Hall to TEN 6 for 4 yards (T.Polamalu). & 0 & 0 & 3 & 3 & 0 & 0 & 0 & 0 & 1 \\\\\n",
       "\t6 & TEN & 94 & 731 & 1631 & 3431 & 2 & 1 & 3 & 6 & (12:11) (Shotgun) C.Johnson left end to TEN 4 for -2 yards (T.Polamalu). & 1 & 0 & 3 & 3 & 0 & 0 & 0 & 1 & 0 \\\\\n",
       "\t7 & PIT & 43 & 684 & 1584 & 3384 & 3 & 1 & 1 & 10 & (11:24) B.Roethlisberger pass short right to M.Wallace to TEN 40 for 3 yards (W.Hayes). & 0 & 0 & 3 & 3 & 0 & 0 & 0 & 0 & 1 \\\\\n",
       "\t8 & PIT & 40 & 648 & 1548 & 3348 & 3 & 1 & 2 & 7 & (10:48) B.Roethlisberger pass short left to S.Holmes to TEN 30 for 10 yards (M.Griffin). & 0 & 0 & 3 & 3 & 0 & 0 & 0 & 0 & 1 \\\\\n",
       "\t9 & PIT & 30 & 621 & 1521 & 3321 & 3 & 1 & 1 & 10 & (10:21) W.Parker right guard to TEN 31 for -1 yards (J.Jones, S.Tulloch). & 0 & 0 & 3 & 3 & 0 & 0 & 0 & 1 & 0 \\\\\n",
       "\t10 & PIT & 31 & 583 & 1483 & 3283 & 3 & 1 & 2 & 11 & (9:43) B.Roethlisberger pass short right to H.Miller to TEN 22 for 9 yards (C.Hope). & 0 & 0 & 3 & 3 & 0 & 0 & 0 & 0 & 1 \\\\\n",
       "\t11 & PIT & 22 & 541 & 1441 & 3241 & 3 & 1 & 3 & 2 & (9:01) B.Roethlisberger sacked at TEN 41 for -19 yards (J.Jones). & 0 & 0 & 3 & 3 & 0 & 0 & 0 & 0 & 1 \\\\\n",
       "\t12 & TEN & 89 & 500 & 1400 & 3200 & 4 & 1 & 1 & 10 & (8:20) C.Johnson right end to TEN 43 for 32 yards (T.Polamalu). PENALTY on PIT-T.Polamalu, Unnecessary Roughness, 15 yards, enforced at TEN 43. & 0 & 0 & 3 & 3 & 0 & 0 & 0 & 1 & 0 \\\\\n",
       "\t13 & TEN & 42 & 477 & 1377 & 3177 & 4 & 1 & 1 & 10 & (7:57) K.Collins pass deep left to B.Scaife to PIT 22 for 20 yards (T.Polamalu). & 0 & 0 & 3 & 3 & 0 & 0 & 0 & 0 & 1 \\\\\n",
       "\t14 & TEN & 22 & 444 & 1344 & 3144 & 4 & 1 & 1 & 10 & (7:24) C.Johnson left end to PIT 19 for 3 yards (R.Clark). & 0 & 0 & 3 & 3 & 0 & 0 & 0 & 1 & 0 \\\\\n",
       "\t15 & TEN & 19 & 417 & 1317 & 3117 & 4 & 1 & 2 & 7 & (6:57) K.Collins pass incomplete short right to A.Crumpler. Coverage by \\#56 Woodley, \\#22 Gay. & 0 & 0 & 3 & 3 & 0 & 0 & 0 & 0 & 1 \\\\\n",
       "\t16 & TEN & 19 & 412 & 1312 & 3112 & 4 & 1 & 3 & 7 & (6:52) (Shotgun) K.Collins pass incomplete short right to B.Scaife (T.Polamalu). & 1 & 0 & 3 & 3 & 0 & 0 & 0 & 0 & 1 \\\\\n",
       "\t17 & PIT & 73 & 404 & 1304 & 3104 & 5 & 1 & 1 & 10 & (6:44) R.Mendenhall up the middle to PIT 28 for 1 yard (J.Ford, K.Vickerson). & 0 & 0 & 3 & 3 & 0 & 0 & 0 & 1 & 0 \\\\\n",
       "\t18 & PIT & 72 & 369 & 1269 & 3069 & 5 & 1 & 2 & 9 & (6:09) R.Mendenhall up the middle to PIT 30 for 2 yards (K.Bulluck). & 0 & 0 & 3 & 3 & 0 & 0 & 0 & 1 & 0 \\\\\n",
       "\t19 & PIT & 70 & 327 & 1227 & 3027 & 5 & 1 & 3 & 7 & (5:27) (Shotgun) B.Roethlisberger sacked at PIT 21 for -9 yards (T.Brown). & 1 & 0 & 3 & 3 & 0 & 0 & 0 & 0 & 1 \\\\\n",
       "\t20 & TEN & 74 & 289 & 1189 & 2989 & 6 & 1 & 1 & 10 & (4:49) K.Collins pass short left to B.Scaife to TEN 36 for 10 yards (J.Farrior). & 0 & 0 & 3 & 3 & 0 & 0 & 0 & 0 & 1 \\\\\n",
       "\t21 & TEN & 69 & 247 & 1147 & 2947 & 6 & 1 & 1 & 15 & (4:07) K.Collins pass short left to B.Scaife to TEN 40 for 9 yards (K.Fox). & 0 & 0 & 3 & 3 & 0 & 0 & 0 & 0 & 1 \\\\\n",
       "\t22 & TEN & 60 & 225 & 1125 & 2925 & 6 & 1 & 2 & 6 & (3:45) L.White right guard to TEN 43 for 3 yards (B.Keisel, C.Hampton). & 0 & 0 & 3 & 3 & 0 & 0 & 0 & 1 & 0 \\\\\n",
       "\t23 & TEN & 57 & 186 & 1086 & 2886 & 6 & 1 & 3 & 3 & (3:06) (Shotgun) K.Collins pass short right to J.Gage to PIT 49 for 8 yards (J.Farrior). & 1 & 0 & 3 & 3 & 0 & 0 & 0 & 0 & 1 \\\\\n",
       "\t24 & TEN & 49 & 148 & 1048 & 2848 & 6 & 1 & 1 & 10 & (2:28) K.Collins pass short middle to L.White to PIT 44 for 5 yards (T.Polamalu). & 0 & 0 & 3 & 3 & 0 & 0 & 0 & 0 & 1 \\\\\n",
       "\t25 & TEN & 44 & 111 & 1011 & 2811 & 6 & 1 & 2 & 5 & (1:51) K.Collins pass deep left intended for K.Britt INTERCEPTED by T.Polamalu at PIT 5. T.Polamalu to PIT 21 for 16 yards (A.Hall). & 0 & 0 & 3 & 3 & 0 & 0 & 0 & 0 & 1 \\\\\n",
       "\t26 & PIT & 79 & 98 & 998 & 2798 & 7 & 1 & 1 & 10 & (1:38) W.Parker right guard to PIT 23 for 2 yards (S.Tulloch, J.Haye). & 0 & 0 & 3 & 3 & 0 & 0 & 0 & 1 & 0 \\\\\n",
       "\t27 & PIT & 77 & 57 & 957 & 2757 & 7 & 1 & 2 & 8 & (:57) (Shotgun) W.Parker right tackle to PIT 24 for 1 yard (C.Hope). & 1 & 0 & 3 & 3 & 0 & 0 & 0 & 1 & 0 \\\\\n",
       "\t28 & PIT & 76 & 12 & 912 & 2712 & 7 & 1 & 3 & 7 & (:12) (Shotgun) B.Roethlisberger pass deep right intended for S.Holmes INTERCEPTED by V.Fuller at PIT 44. V.Fuller to PIT 44 for no gain (S.Holmes). & 1 & 0 & 3 & 3 & 0 & 0 & 0 & 0 & 1 \\\\\n",
       "\t29 & TEN & 44 & 6 & 906 & 2706 & 8 & 1 & 1 & 10 & (:06) C.Johnson up the middle to PIT 43 for 1 yard (B.Keisel; A.Smith). & 0 & 0 & 3 & 3 & 0 & 0 & 0 & 1 & 0 \\\\\n",
       "\t30 & TEN & 43 & 900 & 900 & 2700 & 8 & 2 & 2 & 9 & (15:00) K.Collins pass short right to C.Johnson to PIT 32 for 11 yards (K.Fox). & 0 & 0 & 3 & 3 & 0 & 0 & 0 & 0 & 1 \\\\\n",
       "\t$\\dots$ & $\\dots$ & $\\dots$ & $\\dots$ & $\\dots$ & $\\dots$ & $\\dots$ & $\\dots$ & $\\dots$ & $\\dots$ & $\\dots$ & $\\dots$ & $\\dots$ & $\\dots$ & $\\dots$ & $\\dots$ & $\\dots$ & $\\dots$ & $\\dots$ & $\\dots$ \\\\\n",
       "\\end{tabular}\n"
      ],
      "text/plain": [
       "323986×19 DataFrame. Omitted printing of 16 columns\n",
       "│ Row    │ posteam │ yardline_100 │ quarter_seconds_remaining │\n",
       "│        │ \u001b[90mString\u001b[39m  │ \u001b[90mString\u001b[39m       │ \u001b[90mInt64\u001b[39m                     │\n",
       "├────────┼─────────┼──────────────┼───────────────────────────┤\n",
       "│ 1      │ PIT     │ 58           │ 893                       │\n",
       "│ 2      │ PIT     │ 53           │ 856                       │\n",
       "│ 3      │ PIT     │ 56           │ 815                       │\n",
       "│ 4      │ TEN     │ 98           │ 796                       │\n",
       "│ 5      │ TEN     │ 98           │ 760                       │\n",
       "│ 6      │ TEN     │ 94           │ 731                       │\n",
       "│ 7      │ PIT     │ 43           │ 684                       │\n",
       "│ 8      │ PIT     │ 40           │ 648                       │\n",
       "│ 9      │ PIT     │ 30           │ 621                       │\n",
       "│ 10     │ PIT     │ 31           │ 583                       │\n",
       "⋮\n",
       "│ 323976 │ NO      │ 11           │ 120                       │\n",
       "│ 323977 │ NO      │ 8            │ 115                       │\n",
       "│ 323978 │ NO      │ 5            │ 111                       │\n",
       "│ 323979 │ CAR     │ 80           │ 104                       │\n",
       "│ 323980 │ CAR     │ 71           │ 82                        │\n",
       "│ 323981 │ CAR     │ 71           │ 77                        │\n",
       "│ 323982 │ CAR     │ 66           │ 64                        │\n",
       "│ 323983 │ CAR     │ 66           │ 63                        │\n",
       "│ 323984 │ CAR     │ 66           │ 58                        │\n",
       "│ 323985 │ CAR     │ 61           │ 38                        │\n",
       "│ 323986 │ NO      │ 39           │ 35                        │"
      ]
     },
     "execution_count": 3,
     "metadata": {},
     "output_type": "execute_result"
    }
   ],
   "source": [
    "df = Feather.read(\"clean_data.feather\")"
   ]
  },
  {
   "cell_type": "code",
   "execution_count": 98,
   "metadata": {},
   "outputs": [
    {
     "data": {
      "text/plain": [
       "1-element Array{Symbol,1}:\n",
       " :rush_attempt"
      ]
     },
     "execution_count": 98,
     "metadata": {},
     "output_type": "execute_result"
    }
   ],
   "source": [
    "some_features = [:yardline_100, :down, :ydstogo, :score_differential]\n",
    "most_features = [:yardline_100, :half_seconds_remaining, :qtr, :down, :shotgun, :no_huddle,\n",
    "                :posteam_timeouts_remaining, :defteam_timeouts_remaining, :ydstogo, :score_differential]\n",
    "labels = [:rush_attempt]"
   ]
  },
  {
   "cell_type": "code",
   "execution_count": 7,
   "metadata": {},
   "outputs": [
    {
     "data": {
      "text/html": [
       "<table class=\"data-frame\"><thead><tr><th></th><th>posteam</th><th>yardline_100</th><th>quarter_seconds_remaining</th><th>half_seconds_remaining</th><th>game_seconds_remaining</th><th>drive</th><th>qtr</th><th>down</th><th>ydstogo</th><th>desc</th><th>shotgun</th><th>no_huddle</th><th>posteam_timeouts_remaining</th><th>defteam_timeouts_remaining</th><th>posteam_score</th><th>defteam_score</th><th>score_differential</th><th>rush_attempt</th><th>pass_attempt</th></tr><tr><th></th><th>String</th><th>String</th><th>Int64</th><th>Int64</th><th>Int64</th><th>Int64</th><th>Int64</th><th>Int8</th><th>Int64</th><th>String</th><th>Int64</th><th>Int64</th><th>Int64</th><th>Int64</th><th>Int64</th><th>Int64</th><th>Int64</th><th>Int8</th><th>Int8</th></tr></thead><tbody><p>10,489 rows × 19 columns</p><tr><th>1</th><td>HOU</td><td>80</td><td>892</td><td>1792</td><td>3592</td><td>1</td><td>1</td><td>1</td><td>10</td><td>(14:52) S.Slaton left tackle to HOU 22 for 2 yards (K.Jenkins, M.Douglas).</td><td>0</td><td>0</td><td>3</td><td>3</td><td>0</td><td>0</td><td>0</td><td>1</td><td>0</td></tr><tr><th>2</th><td>HOU</td><td>78</td><td>850</td><td>1750</td><td>3550</td><td>1</td><td>1</td><td>2</td><td>8</td><td>(14:10) M.Schaub pass short middle to A.Johnson to HOU 29 for 7 yards (D.Harris; D.Revis) [B.Scott].</td><td>0</td><td>0</td><td>3</td><td>3</td><td>0</td><td>0</td><td>0</td><td>0</td><td>1</td></tr><tr><th>3</th><td>HOU</td><td>71</td><td>813</td><td>1713</td><td>3513</td><td>1</td><td>1</td><td>3</td><td>1</td><td>(13:33) C.Brown left tackle to HOU 40 for 11 yards (J.Leonhard).</td><td>0</td><td>0</td><td>3</td><td>3</td><td>0</td><td>0</td><td>0</td><td>1</td><td>0</td></tr><tr><th>4</th><td>HOU</td><td>60</td><td>771</td><td>1671</td><td>3471</td><td>1</td><td>1</td><td>1</td><td>10</td><td>(12:51) S.Slaton up the middle to HOU 38 for -2 yards (M.Douglas).</td><td>0</td><td>0</td><td>3</td><td>3</td><td>0</td><td>0</td><td>0</td><td>1</td><td>0</td></tr><tr><th>5</th><td>HOU</td><td>62</td><td>731</td><td>1631</td><td>3431</td><td>1</td><td>1</td><td>2</td><td>12</td><td>(12:11) M.Schaub pass incomplete short left to S.Slaton (D.Harris).</td><td>0</td><td>0</td><td>3</td><td>3</td><td>0</td><td>0</td><td>0</td><td>0</td><td>1</td></tr><tr><th>6</th><td>HOU</td><td>62</td><td>731</td><td>1631</td><td>3431</td><td>1</td><td>1</td><td>3</td><td>12</td><td>(12:11) (Shotgun) M.Schaub pass incomplete deep right to A.Johnson [D.Harris].</td><td>1</td><td>0</td><td>3</td><td>3</td><td>0</td><td>0</td><td>0</td><td>0</td><td>1</td></tr><tr><th>7</th><td>HOU</td><td>67</td><td>612</td><td>1512</td><td>3312</td><td>3</td><td>1</td><td>1</td><td>10</td><td>(10:12) S.Slaton right tackle to HOU 33 for no gain (E.Smith, D.Harris).</td><td>0</td><td>0</td><td>3</td><td>3</td><td>0</td><td>0</td><td>0</td><td>1</td><td>0</td></tr><tr><th>8</th><td>HOU</td><td>67</td><td>612</td><td>1512</td><td>3312</td><td>3</td><td>1</td><td>2</td><td>10</td><td>(10:12) M.Schaub pass short left to S.Slaton to HOU 36 for 3 yards (B.Scott).</td><td>0</td><td>0</td><td>3</td><td>3</td><td>0</td><td>0</td><td>0</td><td>0</td><td>1</td></tr><tr><th>9</th><td>HOU</td><td>64</td><td>530</td><td>1430</td><td>3230</td><td>3</td><td>1</td><td>3</td><td>7</td><td>(8:50) (Shotgun) M.Schaub pass incomplete short middle to O.Daniels [B.Scott].</td><td>1</td><td>0</td><td>3</td><td>3</td><td>0</td><td>0</td><td>0</td><td>0</td><td>1</td></tr><tr><th>10</th><td>HOU</td><td>68</td><td>1</td><td>901</td><td>2701</td><td>5</td><td>1</td><td>1</td><td>10</td><td>(:01) M.Schaub pass short left to V.Leach to HOU 41 for 9 yards (V.Gholston, K.Rhodes).</td><td>0</td><td>0</td><td>3</td><td>2</td><td>0</td><td>3</td><td>-3</td><td>0</td><td>1</td></tr><tr><th>11</th><td>HOU</td><td>59</td><td>900</td><td>900</td><td>2700</td><td>5</td><td>2</td><td>2</td><td>1</td><td>(15:00) M.Schaub pass short left to O.Daniels to HOU 43 for 2 yards (K.Rhodes).</td><td>0</td><td>0</td><td>3</td><td>2</td><td>0</td><td>3</td><td>-3</td><td>0</td><td>1</td></tr><tr><th>12</th><td>HOU</td><td>57</td><td>863</td><td>863</td><td>2663</td><td>5</td><td>2</td><td>1</td><td>10</td><td>(14:23) M.Schaub pass incomplete short right to S.Slaton.</td><td>0</td><td>0</td><td>3</td><td>2</td><td>0</td><td>3</td><td>-3</td><td>0</td><td>1</td></tr><tr><th>13</th><td>HOU</td><td>57</td><td>856</td><td>856</td><td>2656</td><td>5</td><td>2</td><td>2</td><td>10</td><td>(14:16) S.Slaton left tackle to HOU 47 for 4 yards (B.Thomas).</td><td>0</td><td>0</td><td>3</td><td>2</td><td>0</td><td>3</td><td>-3</td><td>1</td><td>0</td></tr><tr><th>14</th><td>HOU</td><td>53</td><td>814</td><td>814</td><td>2614</td><td>5</td><td>2</td><td>3</td><td>6</td><td>(13:34) M.Schaub pass incomplete short left to A.Davis. (The punt hangtime was 3.4 seconds)</td><td>0</td><td>0</td><td>3</td><td>2</td><td>0</td><td>3</td><td>-3</td><td>0</td><td>1</td></tr><tr><th>15</th><td>HOU</td><td>70</td><td>746</td><td>746</td><td>2546</td><td>7</td><td>2</td><td>1</td><td>10</td><td>(12:26) S.Slaton right end to HOU 29 for -1 yards (V.Gholston).</td><td>0</td><td>0</td><td>3</td><td>2</td><td>0</td><td>3</td><td>-3</td><td>1</td><td>0</td></tr><tr><th>16</th><td>HOU</td><td>71</td><td>702</td><td>702</td><td>2502</td><td>7</td><td>2</td><td>2</td><td>11</td><td>(11:42) S.Slaton right tackle to HOU 27 for -2 yards (J.Leonhard).</td><td>0</td><td>0</td><td>3</td><td>2</td><td>0</td><td>3</td><td>-3</td><td>1</td><td>0</td></tr><tr><th>17</th><td>HOU</td><td>73</td><td>660</td><td>660</td><td>2460</td><td>7</td><td>2</td><td>3</td><td>13</td><td>(11:00) (Shotgun) M.Schaub pass short right to S.Slaton to HOU 41 for 14 yards (D.Harris). NYJ-B.Scott was injured during the play.</td><td>1</td><td>0</td><td>3</td><td>2</td><td>0</td><td>3</td><td>-3</td><td>0</td><td>1</td></tr><tr><th>18</th><td>HOU</td><td>59</td><td>626</td><td>626</td><td>2426</td><td>7</td><td>2</td><td>1</td><td>10</td><td>(10:26) M.Schaub scrambles up the middle to HOU 47 for 6 yards (D.Harris).</td><td>0</td><td>0</td><td>3</td><td>2</td><td>0</td><td>3</td><td>-3</td><td>1</td><td>0</td></tr><tr><th>19</th><td>HOU</td><td>53</td><td>582</td><td>582</td><td>2382</td><td>7</td><td>2</td><td>2</td><td>4</td><td>(9:42) C.Brown right tackle to NYJ 48 for 5 yards (J.Leonhard, D.Harris).</td><td>0</td><td>0</td><td>3</td><td>2</td><td>0</td><td>3</td><td>-3</td><td>1</td><td>0</td></tr><tr><th>20</th><td>HOU</td><td>48</td><td>545</td><td>545</td><td>2345</td><td>7</td><td>2</td><td>1</td><td>10</td><td>(9:05) M.Schaub pass short left to V.Leach to NYJ 34 for 14 yards (L.Sheppard; D.Harris).</td><td>0</td><td>0</td><td>3</td><td>2</td><td>0</td><td>3</td><td>-3</td><td>0</td><td>1</td></tr><tr><th>21</th><td>HOU</td><td>34</td><td>504</td><td>504</td><td>2304</td><td>7</td><td>2</td><td>1</td><td>10</td><td>(8:24) C.Brown up the middle to NYJ 35 for -1 yards (B.Scott).</td><td>0</td><td>0</td><td>3</td><td>2</td><td>0</td><td>3</td><td>-3</td><td>1</td><td>0</td></tr><tr><th>22</th><td>HOU</td><td>35</td><td>463</td><td>463</td><td>2263</td><td>7</td><td>2</td><td>2</td><td>11</td><td>(7:43) (Shotgun) M.Schaub pass short left to S.Slaton to NYJ 17 for 18 yards (D.Strickland). FUMBLES (D.Strickland), RECOVERED by NYJ-M.Devito at NYJ 15. M.Devito to NYJ 22 for 7 yards (C.Pitts).</td><td>1</td><td>0</td><td>3</td><td>2</td><td>0</td><td>3</td><td>-3</td><td>0</td><td>1</td></tr><tr><th>23</th><td>HOU</td><td>95</td><td>163</td><td>163</td><td>1963</td><td>9</td><td>2</td><td>1</td><td>15</td><td>(2:43) (Shotgun) M.Schaub pass short right to A.Davis to HOU 5 for no gain (L.Sheppard).</td><td>1</td><td>0</td><td>3</td><td>2</td><td>0</td><td>10</td><td>-10</td><td>0</td><td>1</td></tr><tr><th>24</th><td>HOU</td><td>97</td><td>120</td><td>120</td><td>1920</td><td>9</td><td>2</td><td>2</td><td>17</td><td>(2:00) M.Schaub pass short left to A.Davis to HOU 10 for 7 yards (K.Rhodes).</td><td>0</td><td>0</td><td>3</td><td>2</td><td>0</td><td>10</td><td>-10</td><td>0</td><td>1</td></tr><tr><th>25</th><td>HOU</td><td>90</td><td>78</td><td>78</td><td>1878</td><td>9</td><td>2</td><td>3</td><td>10</td><td>(1:18) (Shotgun) M.Schaub pass short middle to O.Daniels to HOU 18 for 8 yards (K.Rhodes).</td><td>1</td><td>0</td><td>3</td><td>2</td><td>0</td><td>10</td><td>-10</td><td>0</td><td>1</td></tr><tr><th>26</th><td>HOU</td><td>75</td><td>448</td><td>1348</td><td>1348</td><td>12</td><td>3</td><td>1</td><td>10</td><td>(7:28) S.Slaton left end pushed ob at HOU 32 for 7 yards (V.Gholston).</td><td>0</td><td>0</td><td>3</td><td>3</td><td>0</td><td>17</td><td>-17</td><td>1</td><td>0</td></tr><tr><th>27</th><td>HOU</td><td>68</td><td>427</td><td>1327</td><td>1327</td><td>12</td><td>3</td><td>2</td><td>3</td><td>(7:07) M.Schaub sacked at HOU 24 for -8 yards (D.Harris).</td><td>0</td><td>0</td><td>3</td><td>3</td><td>0</td><td>17</td><td>-17</td><td>0</td><td>1</td></tr><tr><th>28</th><td>HOU</td><td>76</td><td>402</td><td>1302</td><td>1302</td><td>12</td><td>3</td><td>3</td><td>11</td><td>(6:42) (Shotgun) M.Schaub pass incomplete short middle to A.Johnson.</td><td>1</td><td>0</td><td>3</td><td>3</td><td>0</td><td>17</td><td>-17</td><td>0</td><td>1</td></tr><tr><th>29</th><td>HOU</td><td>86</td><td>318</td><td>1218</td><td>1218</td><td>14</td><td>3</td><td>1</td><td>10</td><td>(5:18) M.Schaub pass short middle to O.Daniels to HOU 41 for 27 yards (L.Washington, D.Harris). Penalty on NYJ-D.Harris, Illegal Contact, declined.</td><td>0</td><td>0</td><td>3</td><td>3</td><td>0</td><td>17</td><td>-17</td><td>0</td><td>1</td></tr><tr><th>30</th><td>HOU</td><td>59</td><td>292</td><td>1192</td><td>1192</td><td>14</td><td>3</td><td>1</td><td>10</td><td>(4:52) M.Schaub pass short right to C.Brown to HOU 42 for 1 yard (D.Harris).</td><td>0</td><td>0</td><td>3</td><td>3</td><td>0</td><td>17</td><td>-17</td><td>0</td><td>1</td></tr><tr><th>&vellip;</th><td>&vellip;</td><td>&vellip;</td><td>&vellip;</td><td>&vellip;</td><td>&vellip;</td><td>&vellip;</td><td>&vellip;</td><td>&vellip;</td><td>&vellip;</td><td>&vellip;</td><td>&vellip;</td><td>&vellip;</td><td>&vellip;</td><td>&vellip;</td><td>&vellip;</td><td>&vellip;</td><td>&vellip;</td><td>&vellip;</td><td>&vellip;</td></tr></tbody></table>"
      ],
      "text/latex": [
       "\\begin{tabular}{r|ccccccccccccccccccc}\n",
       "\t& posteam & yardline\\_100 & quarter\\_seconds\\_remaining & half\\_seconds\\_remaining & game\\_seconds\\_remaining & drive & qtr & down & ydstogo & desc & shotgun & no\\_huddle & posteam\\_timeouts\\_remaining & defteam\\_timeouts\\_remaining & posteam\\_score & defteam\\_score & score\\_differential & rush\\_attempt & pass\\_attempt\\\\\n",
       "\t\\hline\n",
       "\t& String & String & Int64 & Int64 & Int64 & Int64 & Int64 & Int8 & Int64 & String & Int64 & Int64 & Int64 & Int64 & Int64 & Int64 & Int64 & Int8 & Int8\\\\\n",
       "\t\\hline\n",
       "\t1 & HOU & 80 & 892 & 1792 & 3592 & 1 & 1 & 1 & 10 & (14:52) S.Slaton left tackle to HOU 22 for 2 yards (K.Jenkins, M.Douglas). & 0 & 0 & 3 & 3 & 0 & 0 & 0 & 1 & 0 \\\\\n",
       "\t2 & HOU & 78 & 850 & 1750 & 3550 & 1 & 1 & 2 & 8 & (14:10) M.Schaub pass short middle to A.Johnson to HOU 29 for 7 yards (D.Harris; D.Revis) [B.Scott]. & 0 & 0 & 3 & 3 & 0 & 0 & 0 & 0 & 1 \\\\\n",
       "\t3 & HOU & 71 & 813 & 1713 & 3513 & 1 & 1 & 3 & 1 & (13:33) C.Brown left tackle to HOU 40 for 11 yards (J.Leonhard). & 0 & 0 & 3 & 3 & 0 & 0 & 0 & 1 & 0 \\\\\n",
       "\t4 & HOU & 60 & 771 & 1671 & 3471 & 1 & 1 & 1 & 10 & (12:51) S.Slaton up the middle to HOU 38 for -2 yards (M.Douglas). & 0 & 0 & 3 & 3 & 0 & 0 & 0 & 1 & 0 \\\\\n",
       "\t5 & HOU & 62 & 731 & 1631 & 3431 & 1 & 1 & 2 & 12 & (12:11) M.Schaub pass incomplete short left to S.Slaton (D.Harris). & 0 & 0 & 3 & 3 & 0 & 0 & 0 & 0 & 1 \\\\\n",
       "\t6 & HOU & 62 & 731 & 1631 & 3431 & 1 & 1 & 3 & 12 & (12:11) (Shotgun) M.Schaub pass incomplete deep right to A.Johnson [D.Harris]. & 1 & 0 & 3 & 3 & 0 & 0 & 0 & 0 & 1 \\\\\n",
       "\t7 & HOU & 67 & 612 & 1512 & 3312 & 3 & 1 & 1 & 10 & (10:12) S.Slaton right tackle to HOU 33 for no gain (E.Smith, D.Harris). & 0 & 0 & 3 & 3 & 0 & 0 & 0 & 1 & 0 \\\\\n",
       "\t8 & HOU & 67 & 612 & 1512 & 3312 & 3 & 1 & 2 & 10 & (10:12) M.Schaub pass short left to S.Slaton to HOU 36 for 3 yards (B.Scott). & 0 & 0 & 3 & 3 & 0 & 0 & 0 & 0 & 1 \\\\\n",
       "\t9 & HOU & 64 & 530 & 1430 & 3230 & 3 & 1 & 3 & 7 & (8:50) (Shotgun) M.Schaub pass incomplete short middle to O.Daniels [B.Scott]. & 1 & 0 & 3 & 3 & 0 & 0 & 0 & 0 & 1 \\\\\n",
       "\t10 & HOU & 68 & 1 & 901 & 2701 & 5 & 1 & 1 & 10 & (:01) M.Schaub pass short left to V.Leach to HOU 41 for 9 yards (V.Gholston, K.Rhodes). & 0 & 0 & 3 & 2 & 0 & 3 & -3 & 0 & 1 \\\\\n",
       "\t11 & HOU & 59 & 900 & 900 & 2700 & 5 & 2 & 2 & 1 & (15:00) M.Schaub pass short left to O.Daniels to HOU 43 for 2 yards (K.Rhodes). & 0 & 0 & 3 & 2 & 0 & 3 & -3 & 0 & 1 \\\\\n",
       "\t12 & HOU & 57 & 863 & 863 & 2663 & 5 & 2 & 1 & 10 & (14:23) M.Schaub pass incomplete short right to S.Slaton. & 0 & 0 & 3 & 2 & 0 & 3 & -3 & 0 & 1 \\\\\n",
       "\t13 & HOU & 57 & 856 & 856 & 2656 & 5 & 2 & 2 & 10 & (14:16) S.Slaton left tackle to HOU 47 for 4 yards (B.Thomas). & 0 & 0 & 3 & 2 & 0 & 3 & -3 & 1 & 0 \\\\\n",
       "\t14 & HOU & 53 & 814 & 814 & 2614 & 5 & 2 & 3 & 6 & (13:34) M.Schaub pass incomplete short left to A.Davis. (The punt hangtime was 3.4 seconds) & 0 & 0 & 3 & 2 & 0 & 3 & -3 & 0 & 1 \\\\\n",
       "\t15 & HOU & 70 & 746 & 746 & 2546 & 7 & 2 & 1 & 10 & (12:26) S.Slaton right end to HOU 29 for -1 yards (V.Gholston). & 0 & 0 & 3 & 2 & 0 & 3 & -3 & 1 & 0 \\\\\n",
       "\t16 & HOU & 71 & 702 & 702 & 2502 & 7 & 2 & 2 & 11 & (11:42) S.Slaton right tackle to HOU 27 for -2 yards (J.Leonhard). & 0 & 0 & 3 & 2 & 0 & 3 & -3 & 1 & 0 \\\\\n",
       "\t17 & HOU & 73 & 660 & 660 & 2460 & 7 & 2 & 3 & 13 & (11:00) (Shotgun) M.Schaub pass short right to S.Slaton to HOU 41 for 14 yards (D.Harris). NYJ-B.Scott was injured during the play. & 1 & 0 & 3 & 2 & 0 & 3 & -3 & 0 & 1 \\\\\n",
       "\t18 & HOU & 59 & 626 & 626 & 2426 & 7 & 2 & 1 & 10 & (10:26) M.Schaub scrambles up the middle to HOU 47 for 6 yards (D.Harris). & 0 & 0 & 3 & 2 & 0 & 3 & -3 & 1 & 0 \\\\\n",
       "\t19 & HOU & 53 & 582 & 582 & 2382 & 7 & 2 & 2 & 4 & (9:42) C.Brown right tackle to NYJ 48 for 5 yards (J.Leonhard, D.Harris). & 0 & 0 & 3 & 2 & 0 & 3 & -3 & 1 & 0 \\\\\n",
       "\t20 & HOU & 48 & 545 & 545 & 2345 & 7 & 2 & 1 & 10 & (9:05) M.Schaub pass short left to V.Leach to NYJ 34 for 14 yards (L.Sheppard; D.Harris). & 0 & 0 & 3 & 2 & 0 & 3 & -3 & 0 & 1 \\\\\n",
       "\t21 & HOU & 34 & 504 & 504 & 2304 & 7 & 2 & 1 & 10 & (8:24) C.Brown up the middle to NYJ 35 for -1 yards (B.Scott). & 0 & 0 & 3 & 2 & 0 & 3 & -3 & 1 & 0 \\\\\n",
       "\t22 & HOU & 35 & 463 & 463 & 2263 & 7 & 2 & 2 & 11 & (7:43) (Shotgun) M.Schaub pass short left to S.Slaton to NYJ 17 for 18 yards (D.Strickland). FUMBLES (D.Strickland), RECOVERED by NYJ-M.Devito at NYJ 15. M.Devito to NYJ 22 for 7 yards (C.Pitts). & 1 & 0 & 3 & 2 & 0 & 3 & -3 & 0 & 1 \\\\\n",
       "\t23 & HOU & 95 & 163 & 163 & 1963 & 9 & 2 & 1 & 15 & (2:43) (Shotgun) M.Schaub pass short right to A.Davis to HOU 5 for no gain (L.Sheppard). & 1 & 0 & 3 & 2 & 0 & 10 & -10 & 0 & 1 \\\\\n",
       "\t24 & HOU & 97 & 120 & 120 & 1920 & 9 & 2 & 2 & 17 & (2:00) M.Schaub pass short left to A.Davis to HOU 10 for 7 yards (K.Rhodes). & 0 & 0 & 3 & 2 & 0 & 10 & -10 & 0 & 1 \\\\\n",
       "\t25 & HOU & 90 & 78 & 78 & 1878 & 9 & 2 & 3 & 10 & (1:18) (Shotgun) M.Schaub pass short middle to O.Daniels to HOU 18 for 8 yards (K.Rhodes). & 1 & 0 & 3 & 2 & 0 & 10 & -10 & 0 & 1 \\\\\n",
       "\t26 & HOU & 75 & 448 & 1348 & 1348 & 12 & 3 & 1 & 10 & (7:28) S.Slaton left end pushed ob at HOU 32 for 7 yards (V.Gholston). & 0 & 0 & 3 & 3 & 0 & 17 & -17 & 1 & 0 \\\\\n",
       "\t27 & HOU & 68 & 427 & 1327 & 1327 & 12 & 3 & 2 & 3 & (7:07) M.Schaub sacked at HOU 24 for -8 yards (D.Harris). & 0 & 0 & 3 & 3 & 0 & 17 & -17 & 0 & 1 \\\\\n",
       "\t28 & HOU & 76 & 402 & 1302 & 1302 & 12 & 3 & 3 & 11 & (6:42) (Shotgun) M.Schaub pass incomplete short middle to A.Johnson. & 1 & 0 & 3 & 3 & 0 & 17 & -17 & 0 & 1 \\\\\n",
       "\t29 & HOU & 86 & 318 & 1218 & 1218 & 14 & 3 & 1 & 10 & (5:18) M.Schaub pass short middle to O.Daniels to HOU 41 for 27 yards (L.Washington, D.Harris). Penalty on NYJ-D.Harris, Illegal Contact, declined. & 0 & 0 & 3 & 3 & 0 & 17 & -17 & 0 & 1 \\\\\n",
       "\t30 & HOU & 59 & 292 & 1192 & 1192 & 14 & 3 & 1 & 10 & (4:52) M.Schaub pass short right to C.Brown to HOU 42 for 1 yard (D.Harris). & 0 & 0 & 3 & 3 & 0 & 17 & -17 & 0 & 1 \\\\\n",
       "\t$\\dots$ & $\\dots$ & $\\dots$ & $\\dots$ & $\\dots$ & $\\dots$ & $\\dots$ & $\\dots$ & $\\dots$ & $\\dots$ & $\\dots$ & $\\dots$ & $\\dots$ & $\\dots$ & $\\dots$ & $\\dots$ & $\\dots$ & $\\dots$ & $\\dots$ & $\\dots$ \\\\\n",
       "\\end{tabular}\n"
      ],
      "text/plain": [
       "10489×19 DataFrame. Omitted printing of 16 columns\n",
       "│ Row   │ posteam │ yardline_100 │ quarter_seconds_remaining │\n",
       "│       │ \u001b[90mString\u001b[39m  │ \u001b[90mString\u001b[39m       │ \u001b[90mInt64\u001b[39m                     │\n",
       "├───────┼─────────┼──────────────┼───────────────────────────┤\n",
       "│ 1     │ HOU     │ 80           │ 892                       │\n",
       "│ 2     │ HOU     │ 78           │ 850                       │\n",
       "│ 3     │ HOU     │ 71           │ 813                       │\n",
       "│ 4     │ HOU     │ 60           │ 771                       │\n",
       "│ 5     │ HOU     │ 62           │ 731                       │\n",
       "│ 6     │ HOU     │ 62           │ 731                       │\n",
       "│ 7     │ HOU     │ 67           │ 612                       │\n",
       "│ 8     │ HOU     │ 67           │ 612                       │\n",
       "│ 9     │ HOU     │ 64           │ 530                       │\n",
       "│ 10    │ HOU     │ 68           │ 1                         │\n",
       "⋮\n",
       "│ 10479 │ HOU     │ 75           │ 300                       │\n",
       "│ 10480 │ HOU     │ 55           │ 262                       │\n",
       "│ 10481 │ HOU     │ 49           │ 234                       │\n",
       "│ 10482 │ HOU     │ 44           │ 223                       │\n",
       "│ 10483 │ HOU     │ 24           │ 179                       │\n",
       "│ 10484 │ HOU     │ 21           │ 174                       │\n",
       "│ 10485 │ HOU     │ 14           │ 140                       │\n",
       "│ 10486 │ HOU     │ 21           │ 112                       │\n",
       "│ 10487 │ HOU     │ 22           │ 107                       │\n",
       "│ 10488 │ HOU     │ 21           │ 102                       │\n",
       "│ 10489 │ HOU     │ 33           │ 11                        │"
      ]
     },
     "execution_count": 7,
     "metadata": {},
     "output_type": "execute_result"
    }
   ],
   "source": [
    "df_HOU = filter(row -> row[:posteam] == \"HOU\", df)"
   ]
  },
  {
   "cell_type": "code",
   "execution_count": 30,
   "metadata": {},
   "outputs": [
    {
     "data": {
      "text/plain": [
       "DecisionTreeClassifier\n",
       "max_depth:                4\n",
       "min_samples_leaf:         5\n",
       "min_samples_split:        2\n",
       "min_purity_increase:      0.0\n",
       "pruning_purity_threshold: 1.0\n",
       "n_subfeatures:            0\n",
       "classes:                  root:                     "
      ]
     },
     "execution_count": 30,
     "metadata": {},
     "output_type": "execute_result"
    },
    {
     "name": "stdout",
     "output_type": "stream",
     "text": [
      "Int8[0, 1]\n",
      "Decision Tree\n",
      "Leaves: 16\n",
      "Depth:  4"
     ]
    }
   ],
   "source": [
    "model = DecisionTreeClassifier(max_depth = 4, min_samples_leaf = 5)\n",
    "fit!(model, Matrix(df_HOU[some_features]), df_HOU[:rush_attempt])"
   ]
  },
  {
   "cell_type": "code",
   "execution_count": 37,
   "metadata": {},
   "outputs": [
    {
     "name": "stdout",
     "output_type": "stream",
     "text": [
      "Feature 2, Threshold 2.5\n",
      "L-> Feature 4, Threshold -0.5\n",
      "    L-> Feature 3, Threshold 5.5\n",
      "        L-> Feature 3, Threshold 1.5\n",
      "            L-> 1 : 91/129\n",
      "            R-> 1 : 225/432\n",
      "        R-> Feature 2, Threshold 1.5\n",
      "            L-> 0 : 1214/2098\n",
      "            R-> 0 : 799/1107\n",
      "    R-> Feature 3, Threshold 4.5\n",
      "        L-> Feature 4, Threshold 0.5\n",
      "            L-> 1 : 99/149\n",
      "            R-> 1 : 223/286\n",
      "        R-> Feature 2, Threshold 1.5\n",
      "            L-> 1 : 1509/2434\n",
      "            R-> 0 : 824/1526\n",
      "R-> Feature 3, Threshold 1.5\n",
      "    L-> Feature 4, Threshold -2.5\n",
      "        L-> Feature 1, Threshold 60\n",
      "            L-> 1 : 60/94\n",
      "            R-> 1 : 35/46\n",
      "        R-> Feature 1, Threshold 16\n",
      "            L-> 1 : 13/21\n",
      "            R-> 1 : 128/160\n",
      "    R-> Feature 4, Threshold 5.5\n",
      "        L-> Feature 3, Threshold 2.5\n",
      "            L-> 0 : 76/121\n",
      "            R-> 0 : 1180/1340\n",
      "        R-> Feature 4, Threshold 25.5\n",
      "            L-> 0 : 358/516\n",
      "            R-> 1 : 22/30\n",
      "Symbol[:yardline_100, :down, :ydstogo, :score_differential]"
     ]
    },
    {
     "ename": "MethodError",
     "evalue": "MethodError: no method matching prune_tree(::DecisionTreeClassifier, ::Int64)\nClosest candidates are:\n  prune_tree(!Matched::Union{Leaf{T}, Node{S,T}}, ::Any) where {S, T} at C:\\Users\\tdowns\\.julia\\packages\\DecisionTree\\wpdwP\\src\\classification\\main.jl:106",
     "output_type": "error",
     "traceback": [
      "MethodError: no method matching prune_tree(::DecisionTreeClassifier, ::Int64)\nClosest candidates are:\n  prune_tree(!Matched::Union{Leaf{T}, Node{S,T}}, ::Any) where {S, T} at C:\\Users\\tdowns\\.julia\\packages\\DecisionTree\\wpdwP\\src\\classification\\main.jl:106",
      "",
      "Stacktrace:",
      " [1] top-level scope at In[37]:3"
     ]
    }
   ],
   "source": [
    "print_tree(model)\n",
    "print(some_features)"
   ]
  },
  {
   "cell_type": "code",
   "execution_count": 34,
   "metadata": {},
   "outputs": [
    {
     "data": {
      "text/plain": [
       "35-element Array{String,1}:\n",
       " \"PIT\"\n",
       " \"TEN\"\n",
       " \"CLE\"\n",
       " \"MIN\"\n",
       " \"NO\" \n",
       " \"DET\"\n",
       " \"DAL\"\n",
       " \"TB\" \n",
       " \"HOU\"\n",
       " \"NYJ\"\n",
       " \"IND\"\n",
       " \"JAC\"\n",
       " \"DEN\"\n",
       " ⋮    \n",
       " \"STL\"\n",
       " \"NYG\"\n",
       " \"WAS\"\n",
       " \"GB\" \n",
       " \"CHI\"\n",
       " \"NE\" \n",
       " \"BUF\"\n",
       " \"OAK\"\n",
       " \"SD\" \n",
       " \"LA\" \n",
       " \"JAX\"\n",
       " \"LAC\""
      ]
     },
     "execution_count": 34,
     "metadata": {},
     "output_type": "execute_result"
    }
   ],
   "source": [
    "unique(df, :posteam)[:posteam]"
   ]
  },
  {
   "cell_type": "code",
   "execution_count": 47,
   "metadata": {},
   "outputs": [
    {
     "data": {
      "text/plain": [
       "Decision Tree\n",
       "Leaves: 32\n",
       "Depth:  5"
      ]
     },
     "execution_count": 47,
     "metadata": {},
     "output_type": "execute_result"
    }
   ],
   "source": [
    "model = build_tree(df_HOU[:rush_attempt], Matrix(df_HOU[some_features]),0,5,2,5,0.0)"
   ]
  },
  {
   "cell_type": "code",
   "execution_count": 54,
   "metadata": {},
   "outputs": [
    {
     "data": {
      "text/plain": [
       "2×2 Array{Int64,2}:\n",
       " 1462  469\n",
       "  738  827"
      ]
     },
     "metadata": {},
     "output_type": "display_data"
    },
    {
     "data": {
      "text/plain": [
       "2×2 Array{Int64,2}:\n",
       " 1492  455\n",
       "  717  832"
      ]
     },
     "metadata": {},
     "output_type": "display_data"
    },
    {
     "name": "stdout",
     "output_type": "stream",
     "text": [
      "\n",
      "Fold 1\n",
      "Classes:  Int8[0, 1]\n",
      "Matrix:   \n",
      "Accuracy: 0.6547482837528604\n",
      "Kappa:    0.290283733653392\n",
      "\n",
      "Fold 2\n",
      "Classes:  Int8[0, 1]\n",
      "Matrix:   \n",
      "Accuracy: 0.6647597254004577\n",
      "Kappa:    0.30876570848228524"
     ]
    },
    {
     "data": {
      "text/plain": [
       "2×2 Array{Int64,2}:\n",
       " 1470  479\n",
       "  733  814"
      ]
     },
     "metadata": {},
     "output_type": "display_data"
    },
    {
     "name": "stdout",
     "output_type": "stream",
     "text": [
      "\n",
      "\n",
      "Fold 3\n",
      "Classes:  Int8[0, 1]\n",
      "Matrix:   \n",
      "Accuracy: 0.6533180778032036\n",
      "Kappa:    0.2852425853958554\n",
      "\n",
      "Mean Accuracy: 0.6576086956521738\n",
      "[0.654748, 0.66476, 0.653318]"
     ]
    }
   ],
   "source": [
    "accuracy = nfoldCV_tree(df_HOU[:rush_attempt], Matrix(df_HOU[some_features]),3,1.0,5,2,5,0.0)\n",
    "println (accuracy)"
   ]
  },
  {
   "cell_type": "markdown",
   "metadata": {},
   "source": [
    "# Basic Features "
   ]
  },
  {
   "cell_type": "code",
   "execution_count": 84,
   "metadata": {},
   "outputs": [
    {
     "data": {
      "text/plain": [
       "2×2 Array{Int64,2}:\n",
       " 1221   815\n",
       "  354  1005"
      ]
     },
     "metadata": {},
     "output_type": "display_data"
    },
    {
     "data": {
      "text/plain": [
       "2×2 Array{Int64,2}:\n",
       " 1200  806\n",
       "  391  998"
      ]
     },
     "metadata": {},
     "output_type": "display_data"
    },
    {
     "data": {
      "text/plain": [
       "2×2 Array{Int64,2}:\n",
       " 1188  824\n",
       "  406  977"
      ]
     },
     "metadata": {},
     "output_type": "display_data"
    },
    {
     "name": "stdout",
     "output_type": "stream",
     "text": [
      "\n",
      "Fold 1\n",
      "Classes:  Int8[0, 1]\n",
      "Matrix:   \n",
      "Accuracy: 0.6556701030927835\n",
      "Kappa:    0.32110976069737224\n",
      "\n",
      "Fold 2\n",
      "Classes:  Int8[0, 1]\n",
      "Matrix:   \n",
      "Accuracy: 0.6474226804123712\n",
      "Kappa:    0.30279496898377234\n",
      "\n",
      "Fold 3\n",
      "Classes:  Int8[0, 1]\n",
      "Matrix:   \n",
      "Accuracy: "
     ]
    },
    {
     "data": {
      "text/plain": [
       "2×2 Array{Int64,2}:\n",
       " 1364  436\n",
       "  660  756"
      ]
     },
     "metadata": {},
     "output_type": "display_data"
    },
    {
     "name": "stdout",
     "output_type": "stream",
     "text": [
      "0.6377025036818851\n",
      "Kappa:    0.2834989157727525\n",
      "\n",
      "Mean Accuracy: 0.64693176239568\n",
      "\n",
      "Fold 1\n",
      "Classes:  Int8[0, 1]\n",
      "Matrix:   \n",
      "Accuracy: 0.6592039800995025\n",
      "Kappa:    0.29668224657114417\n"
     ]
    },
    {
     "data": {
      "text/plain": [
       "2×2 Array{Int64,2}:\n",
       " 1402  461\n",
       "  610  743"
      ]
     },
     "metadata": {},
     "output_type": "display_data"
    },
    {
     "data": {
      "text/plain": [
       "2×2 Array{Int64,2}:\n",
       " 1341  430\n",
       "  695  750"
      ]
     },
     "metadata": {},
     "output_type": "display_data"
    },
    {
     "name": "stdout",
     "output_type": "stream",
     "text": [
      "\n",
      "Fold 2\n",
      "Classes:  Int8[0, 1]\n",
      "Matrix:   \n",
      "Accuracy: 0.6669776119402985\n",
      "Kappa:    0.3063169749670109\n",
      "\n",
      "Fold 3\n",
      "Classes:  Int8[0, 1]\n",
      "Matrix:   \n",
      "Accuracy: 0.6501865671641791\n",
      "Kappa:    0.2809730116459318\n",
      "\n",
      "Mean Accuracy: 0.6587893864013267"
     ]
    },
    {
     "data": {
      "text/plain": [
       "2×2 Array{Int64,2}:\n",
       " 1853  104\n",
       " 1106  243"
      ]
     },
     "metadata": {},
     "output_type": "display_data"
    },
    {
     "data": {
      "text/plain": [
       "2×2 Array{Int64,2}:\n",
       " 1853   99\n",
       " 1067  287"
      ]
     },
     "metadata": {},
     "output_type": "display_data"
    },
    {
     "data": {
      "text/plain": [
       "2×2 Array{Int64,2}:\n",
       " 1865  107\n",
       " 1081  253"
      ]
     },
     "metadata": {},
     "output_type": "display_data"
    },
    {
     "name": "stdout",
     "output_type": "stream",
     "text": [
      "\n",
      "\n",
      "Fold 1\n",
      "Classes:  Int8[0, 1]\n",
      "Matrix:   \n",
      "Accuracy: 0.6339987900786449\n",
      "Kappa:    0.14355448887442546\n",
      "\n",
      "Fold 2\n",
      "Classes:  Int8[0, 1]\n",
      "Matrix:   \n",
      "Accuracy: 0.647307924984876\n",
      "Kappa:    0.1810767954805794\n",
      "\n",
      "Fold 3\n",
      "Classes:  Int8[0, 1]\n",
      "Matrix:   \n",
      "Accuracy: 0.6406533575317604\n",
      "Kappa:    0.1535288382209556\n",
      "\n",
      "Mean Accuracy: 0.6406533575317604"
     ]
    },
    {
     "data": {
      "text/plain": [
       "2×2 Array{Int64,2}:\n",
       " 1478  405\n",
       "  744  695"
      ]
     },
     "metadata": {},
     "output_type": "display_data"
    },
    {
     "data": {
      "text/plain": [
       "2×2 Array{Int64,2}:\n",
       " 1488  362\n",
       "  761  711"
      ]
     },
     "metadata": {},
     "output_type": "display_data"
    },
    {
     "name": "stdout",
     "output_type": "stream",
     "text": [
      "\n",
      "\n",
      "Fold 1\n",
      "Classes:  Int8[0, 1]\n",
      "Matrix:   \n",
      "Accuracy: 0.6541240216736905\n",
      "Kappa:    0.2755450145935721\n",
      "\n",
      "Fold 2\n",
      "Classes:  Int8[0, 1]\n",
      "Matrix:   \n",
      "Accuracy: 0.6619506321493076\n",
      "Kappa:    0.2955243034849076\n",
      "\n",
      "Fold 3"
     ]
    },
    {
     "data": {
      "text/plain": [
       "2×2 Array{Int64,2}:\n",
       " 1548  338\n",
       "  734  702"
      ]
     },
     "metadata": {},
     "output_type": "display_data"
    },
    {
     "name": "stdout",
     "output_type": "stream",
     "text": [
      "\n",
      "Classes:  Int8[0, 1]\n",
      "Matrix:   \n",
      "Accuracy: 0.6773028296207104\n",
      "Kappa:    0.32017611511318744\n",
      "\n",
      "Mean Accuracy: 0.6644591611479028\n",
      "\n",
      "Fold 1\n"
     ]
    },
    {
     "data": {
      "text/plain": [
       "2×2 Array{Int64,2}:\n",
       " 1952  212\n",
       "  980  406"
      ]
     },
     "metadata": {},
     "output_type": "display_data"
    },
    {
     "data": {
      "text/plain": [
       "2×2 Array{Int64,2}:\n",
       " 1885  227\n",
       " 1013  425"
      ]
     },
     "metadata": {},
     "output_type": "display_data"
    },
    {
     "data": {
      "text/plain": [
       "2×2 Array{Int64,2}:\n",
       " 2012  202\n",
       "  937  399"
      ]
     },
     "metadata": {},
     "output_type": "display_data"
    },
    {
     "name": "stdout",
     "output_type": "stream",
     "text": [
      "Classes:  Int8[0, 1]\n",
      "Matrix:   \n",
      "Accuracy: 0.6642253521126761\n",
      "Kappa:    0.21653054634756153\n",
      "\n",
      "Fold 2\n",
      "Classes:  Int8[0, 1]\n",
      "Matrix:   \n",
      "Accuracy: 0.6507042253521127\n",
      "Kappa:    0.2060382934115969\n",
      "\n",
      "Fold 3\n",
      "Classes:  Int8[0, 1]\n",
      "Matrix:   "
     ]
    },
    {
     "data": {
      "text/plain": [
       "2×2 Array{Int64,2}:\n",
       " 1800  397\n",
       "  721  564"
      ]
     },
     "metadata": {},
     "output_type": "display_data"
    },
    {
     "name": "stdout",
     "output_type": "stream",
     "text": [
      "\n",
      "Accuracy: 0.6791549295774648\n",
      "Kappa:    0.2328115210802512\n",
      "\n",
      "Mean Accuracy: 0.6646948356807512\n",
      "\n",
      "Fold 1\n",
      "Classes:  Int8[0, 1]\n",
      "Matrix:   \n",
      "Accuracy: "
     ]
    },
    {
     "data": {
      "text/plain": [
       "2×2 Array{Int64,2}:\n",
       " 1775  437\n",
       "  679  591"
      ]
     },
     "metadata": {},
     "output_type": "display_data"
    },
    {
     "data": {
      "text/plain": [
       "2×2 Array{Int64,2}:\n",
       " 1797  391\n",
       "  727  567"
      ]
     },
     "metadata": {},
     "output_type": "display_data"
    },
    {
     "name": "stdout",
     "output_type": "stream",
     "text": [
      "0.6789201608271108\n",
      "Kappa:    0.27246868787146294\n",
      "\n",
      "Fold 2\n",
      "Classes:  Int8[0, 1]\n",
      "Matrix:   \n",
      "Accuracy: 0.6794945433658817\n",
      "Kappa:    0.27912058882674684\n",
      "\n",
      "Fold 3\n",
      "Classes:  Int8[0, 1]\n",
      "Matrix:   \n",
      "Accuracy: 0.6789201608271108\n",
      "Kappa:    0.27400972742327717\n",
      "\n",
      "Mean Accuracy: 0.6791116216733678\n"
     ]
    },
    {
     "data": {
      "text/plain": [
       "2×2 Array{Int64,2}:\n",
       " 990   950\n",
       " 276  1133"
      ]
     },
     "metadata": {},
     "output_type": "display_data"
    },
    {
     "data": {
      "text/plain": [
       "2×2 Array{Int64,2}:\n",
       " 973   961\n",
       " 278  1137"
      ]
     },
     "metadata": {},
     "output_type": "display_data"
    },
    {
     "name": "stdout",
     "output_type": "stream",
     "text": [
      "\n",
      "Fold 1\n",
      "Classes:  Int8[0, 1]\n",
      "Matrix:   \n",
      "Accuracy: 0.6339205733054644\n",
      "Kappa:    0.2951064188487393\n",
      "\n",
      "Fold 2\n",
      "Classes:  Int8[0, 1]\n",
      "Matrix:   \n",
      "Accuracy: 0.6300388175574798\n",
      "Kappa:    0.28798443021316994"
     ]
    },
    {
     "data": {
      "text/plain": [
       "2×2 Array{Int64,2}:\n",
       " 967   929\n",
       " 256  1197"
      ]
     },
     "metadata": {},
     "output_type": "display_data"
    },
    {
     "name": "stdout",
     "output_type": "stream",
     "text": [
      "\n",
      "\n",
      "Fold 3\n",
      "Classes:  Int8[0, 1]\n",
      "Matrix:   \n",
      "Accuracy: 0.6461630337414154\n",
      "Kappa:    0.31669712797105337\n",
      "\n",
      "Mean Accuracy: 0.6367074748681198\n",
      "\n",
      "Fold 1\n",
      "Classes:  Int8["
     ]
    },
    {
     "data": {
      "text/plain": [
       "2×2 Array{Int64,2}:\n",
       " 1575  361\n",
       "  718  650"
      ]
     },
     "metadata": {},
     "output_type": "display_data"
    },
    {
     "data": {
      "text/plain": [
       "2×2 Array{Int64,2}:\n",
       " 1577  398\n",
       "  701  628"
      ]
     },
     "metadata": {},
     "output_type": "display_data"
    },
    {
     "name": "stdout",
     "output_type": "stream",
     "text": [
      "0, 1]\n",
      "Matrix:   \n",
      "Accuracy: 0.6734261501210653\n",
      "Kappa:    0.30017039253099637\n",
      "\n",
      "Fold 2\n",
      "Classes:  Int8[0, 1]\n",
      "Matrix:   \n",
      "Accuracy: 0.6673728813559322\n",
      "Kappa:    0.2815134397559704\n",
      "\n",
      "Fold 3\n",
      "Classes:  Int8[0"
     ]
    },
    {
     "data": {
      "text/plain": [
       "2×2 Array{Int64,2}:\n",
       " 1578  386\n",
       "  707  633"
      ]
     },
     "metadata": {},
     "output_type": "display_data"
    },
    {
     "data": {
      "text/plain": [
       "2×2 Array{Int64,2}:\n",
       " 1465  465\n",
       "  741  825"
      ]
     },
     "metadata": {},
     "output_type": "display_data"
    },
    {
     "name": "stdout",
     "output_type": "stream",
     "text": [
      ", 1]\n",
      "Matrix:   \n",
      "Accuracy: 0.6691888619854721\n",
      "Kappa:    0.2867631955658221\n",
      "\n",
      "Mean Accuracy: 0.6699959644874899\n",
      "\n",
      "Fold 1\n",
      "Classes:  Int8[0, 1]\n",
      "Matrix:   \n",
      "Accuracy: 0.6550343249427918\n",
      "Kappa:    0.2907190355258218\n"
     ]
    },
    {
     "data": {
      "text/plain": [
       "2×2 Array{Int64,2}:\n",
       " 1475  467\n",
       "  744  810"
      ]
     },
     "metadata": {},
     "output_type": "display_data"
    },
    {
     "data": {
      "text/plain": [
       "2×2 Array{Int64,2}:\n",
       " 1511  444\n",
       "  772  769"
      ]
     },
     "metadata": {},
     "output_type": "display_data"
    },
    {
     "name": "stdout",
     "output_type": "stream",
     "text": [
      "\n",
      "Fold 2\n",
      "Classes:  Int8[0, 1]\n",
      "Matrix:   \n",
      "Accuracy: 0.653604118993135\n",
      "Kappa:    0.2858518351084466\n",
      "\n",
      "Fold 3\n",
      "Classes:  Int8[0, 1]\n",
      "Matrix:   \n",
      "Accuracy: 0.6521739130434783\n",
      "Kappa:    0.27818609264798916\n",
      "\n",
      "Mean Accuracy: 0.6536041189931351"
     ]
    },
    {
     "data": {
      "text/plain": [
       "2×2 Array{Int64,2}:\n",
       " 1516  299\n",
       "  870  724"
      ]
     },
     "metadata": {},
     "output_type": "display_data"
    },
    {
     "data": {
      "text/plain": [
       "2×2 Array{Int64,2}:\n",
       " 1491  313\n",
       "  865  740"
      ]
     },
     "metadata": {},
     "output_type": "display_data"
    },
    {
     "name": "stdout",
     "output_type": "stream",
     "text": [
      "\n",
      "\n",
      "Fold 1\n",
      "Classes:  Int8[0, 1]\n",
      "Matrix:   \n",
      "Accuracy: 0.6570841889117043\n",
      "Kappa:    0.29591862515192047\n",
      "\n",
      "Fold 2\n",
      "Classes:  Int8[0, 1]\n",
      "Matrix:   \n",
      "Accuracy: 0.654444118509827\n",
      "Kappa:    0.29311606142025903"
     ]
    },
    {
     "data": {
      "text/plain": [
       "2×2 Array{Int64,2}:\n",
       " 1572  280\n",
       "  850  707"
      ]
     },
     "metadata": {},
     "output_type": "display_data"
    },
    {
     "data": {
      "text/plain": [
       "2×2 Array{Int64,2}:\n",
       " 1564  526\n",
       "  657  695"
      ]
     },
     "metadata": {},
     "output_type": "display_data"
    },
    {
     "name": "stdout",
     "output_type": "stream",
     "text": [
      "\n",
      "\n",
      "Fold 3\n",
      "Classes:  Int8[0, 1]\n",
      "Matrix:   \n",
      "Accuracy: 0.6685244939865063\n",
      "Kappa:    0.3119869376161148\n",
      "\n",
      "Mean Accuracy: 0.6600176004693459\n",
      "\n",
      "Fold 1\n",
      "Classes:  Int8[0, 1]\n",
      "Matrix:   \n",
      "Accuracy: 0.6563044741429401\n",
      "Kappa:    0.26694525447181316\n"
     ]
    },
    {
     "data": {
      "text/plain": [
       "2×2 Array{Int64,2}:\n",
       " 1538  530\n",
       "  663  711"
      ]
     },
     "metadata": {},
     "output_type": "display_data"
    },
    {
     "data": {
      "text/plain": [
       "2×2 Array{Int64,2}:\n",
       " 1635  494\n",
       "  615  698"
      ]
     },
     "metadata": {},
     "output_type": "display_data"
    },
    {
     "name": "stdout",
     "output_type": "stream",
     "text": [
      "\n",
      "Fold 2\n",
      "Classes:  Int8[0, 1]\n",
      "Matrix:   \n",
      "Accuracy: 0.6533991865194654\n",
      "Kappa:    0.26549316508787474\n",
      "\n",
      "Fold 3\n",
      "Classes:  Int8[0, 1]\n",
      "Matrix:   \n",
      "Accuracy: 0.6778036025566531\n",
      "Kappa:    0.30495894223216297\n",
      "\n",
      "Mean Accuracy: 0.6625024210730195"
     ]
    },
    {
     "data": {
      "text/plain": [
       "2×2 Array{Int64,2}:\n",
       " 1078  335\n",
       "  438  519"
      ]
     },
     "metadata": {},
     "output_type": "display_data"
    },
    {
     "data": {
      "text/plain": [
       "2×2 Array{Int64,2}:\n",
       " 1096  293\n",
       "  492  489"
      ]
     },
     "metadata": {},
     "output_type": "display_data"
    },
    {
     "data": {
      "text/plain": [
       "2×2 Array{Int64,2}:\n",
       " 1083  302\n",
       "  465  520"
      ]
     },
     "metadata": {},
     "output_type": "display_data"
    },
    {
     "name": "stdout",
     "output_type": "stream",
     "text": [
      "\n",
      "\n",
      "Fold 1\n",
      "Classes:  Int8[0, 1]\n",
      "Matrix:   \n",
      "Accuracy: 0.6738396624472573\n",
      "Kappa:    0.31063016036792274\n",
      "\n",
      "Fold 2\n",
      "Classes:  Int8[0, 1]\n",
      "Matrix:   \n",
      "Accuracy: 0.6687763713080169\n",
      "Kappa:    0.2963571462610429\n",
      "\n",
      "Fold 3\n",
      "Classes:  Int8[0, 1]\n",
      "Matrix:   \n",
      "Accuracy: 0.6763713080168776\n",
      "Kappa:    0.31745423824274843\n",
      "\n",
      "Mean Accuracy: 0.6729957805907173\n"
     ]
    },
    {
     "data": {
      "text/plain": [
       "2×2 Array{Int64,2}:\n",
       " 1606  421\n",
       "  720  721"
      ]
     },
     "metadata": {},
     "output_type": "display_data"
    },
    {
     "data": {
      "text/plain": [
       "2×2 Array{Int64,2}:\n",
       " 1625  372\n",
       "  770  701"
      ]
     },
     "metadata": {},
     "output_type": "display_data"
    },
    {
     "name": "stdout",
     "output_type": "stream",
     "text": [
      "\n",
      "Fold 1\n",
      "Classes:  Int8[0, 1]\n",
      "Matrix:   \n",
      "Accuracy: 0.6709919261822376\n",
      "Kappa:    0.30169978470334946\n",
      "\n",
      "Fold 2\n",
      "Classes:  Int8[0, 1]\n",
      "Matrix:   \n",
      "Accuracy: 0.6707035755478662\n",
      "Kappa:    0.30099230015182254"
     ]
    },
    {
     "data": {
      "text/plain": [
       "2×2 Array{Int64,2}:\n",
       " 1575  419\n",
       "  754  720"
      ]
     },
     "metadata": {},
     "output_type": "display_data"
    },
    {
     "name": "stdout",
     "output_type": "stream",
     "text": [
      "\n",
      "\n",
      "Fold 3\n",
      "Classes:  Int8[0, 1]\n",
      "Matrix:   \n",
      "Accuracy: 0.6617647058823529\n",
      "Kappa:    0.2868365838538933\n",
      "\n",
      "Mean Accuracy: 0.6678200692041522"
     ]
    },
    {
     "data": {
      "text/plain": [
       "2×2 Array{Int64,2}:\n",
       " 1298  601\n",
       "  574  885"
      ]
     },
     "metadata": {},
     "output_type": "display_data"
    },
    {
     "data": {
      "text/plain": [
       "2×2 Array{Int64,2}:\n",
       " 1271  596\n",
       "  566  925"
      ]
     },
     "metadata": {},
     "output_type": "display_data"
    },
    {
     "data": {
      "text/plain": [
       "2×2 Array{Int64,2}:\n",
       " 1270  624\n",
       "  534  930"
      ]
     },
     "metadata": {},
     "output_type": "display_data"
    },
    {
     "name": "stdout",
     "output_type": "stream",
     "text": [
      "\n",
      "\n",
      "Fold 1\n",
      "Classes:  Int8[0, 1]\n",
      "Matrix:   \n",
      "Accuracy: 0.6500893388921978\n",
      "Kappa:    0.28947687821821155\n",
      "\n",
      "Fold 2\n",
      "Classes:  Int8[0, 1]\n",
      "Matrix:   \n",
      "Accuracy: 0.653960690887433\n",
      "Kappa:    0.3005513496576428\n",
      "\n",
      "Fold 3\n",
      "Classes:  Int8[0, 1]\n",
      "Matrix:   \n",
      "Accuracy: 0."
     ]
    },
    {
     "data": {
      "text/plain": [
       "2×2 Array{Int64,2}:\n",
       " 1343  445\n",
       "  822  752"
      ]
     },
     "metadata": {},
     "output_type": "display_data"
    },
    {
     "name": "stdout",
     "output_type": "stream",
     "text": [
      "6551518761167362\n",
      "Kappa:    0.30366532648846817\n",
      "\n",
      "Mean Accuracy: 0.6530673019654557\n",
      "\n",
      "Fold 1\n",
      "Classes:  Int8[0, 1]\n",
      "Matrix:   \n",
      "Accuracy: 0.6231409875074361"
     ]
    },
    {
     "data": {
      "text/plain": [
       "2×2 Array{Int64,2}:\n",
       " 1374  423\n",
       "  790  775"
      ]
     },
     "metadata": {},
     "output_type": "display_data"
    },
    {
     "data": {
      "text/plain": [
       "2×2 Array{Int64,2}:\n",
       " 1420  420\n",
       "  752  770"
      ]
     },
     "metadata": {},
     "output_type": "display_data"
    },
    {
     "name": "stdout",
     "output_type": "stream",
     "text": [
      "\n",
      "Kappa:    0.23221062353526875\n",
      "\n",
      "Fold 2\n",
      "Classes:  Int8[0, 1]\n",
      "Matrix:   \n",
      "Accuracy: 0.6392028554431886\n",
      "Kappa:    0.2638088220055868\n",
      "\n",
      "Fold 3\n",
      "Classes:  Int8[0, 1]\n",
      "Matrix:   "
     ]
    },
    {
     "data": {
      "text/plain": [
       "2×2 Array{Int64,2}:\n",
       " 1817  239\n",
       " 1024  427"
      ]
     },
     "metadata": {},
     "output_type": "display_data"
    },
    {
     "name": "stdout",
     "output_type": "stream",
     "text": [
      "\n",
      "Accuracy: 0.6513979773944081\n",
      "Kappa:    0.28298659383948416\n",
      "\n",
      "Mean Accuracy: 0.6379139401150109\n",
      "\n",
      "Fold 1\n",
      "Classes:  Int8[0, 1]\n",
      "Matrix:   \n",
      "Accuracy: 0.6398631308810949\n",
      "Kappa:    0.19343151624475766"
     ]
    },
    {
     "data": {
      "text/plain": [
       "2×2 Array{Int64,2}:\n",
       " 1821  260\n",
       " 1012  414"
      ]
     },
     "metadata": {},
     "output_type": "display_data"
    },
    {
     "data": {
      "text/plain": [
       "2×2 Array{Int64,2}:\n",
       " 1805  221\n",
       " 1054  427"
      ]
     },
     "metadata": {},
     "output_type": "display_data"
    },
    {
     "name": "stdout",
     "output_type": "stream",
     "text": [
      "\n",
      "\n",
      "Fold 2\n",
      "Classes:  Int8[0, 1]\n",
      "Matrix:   \n",
      "Accuracy: 0.6372968349016254\n",
      "Kappa:    0.18035032738919884\n",
      "\n",
      "Fold 3\n",
      "Classes:  Int8[0, 1]\n",
      "Matrix:   \n",
      "Accuracy: 0.6364414029084687\n",
      "Kappa:    0.19390603290735725\n",
      "\n",
      "Mean Accuracy: 0.637867122897063\n"
     ]
    },
    {
     "data": {
      "text/plain": [
       "2×2 Array{Int64,2}:\n",
       " 941   905\n",
       " 339  1140"
      ]
     },
     "metadata": {},
     "output_type": "display_data"
    },
    {
     "data": {
      "text/plain": [
       "2×2 Array{Int64,2}:\n",
       " 895   956\n",
       " 331  1143"
      ]
     },
     "metadata": {},
     "output_type": "display_data"
    },
    {
     "name": "stdout",
     "output_type": "stream",
     "text": [
      "\n",
      "Fold 1\n",
      "Classes:  Int8[0, 1]\n",
      "Matrix:   \n",
      "Accuracy: 0.6258646616541353\n",
      "Kappa:    0.2702608769289667\n",
      "\n",
      "Fold 2\n",
      "Classes:  Int8[0, 1]\n",
      "Matrix:   \n",
      "Accuracy: 0.6129323308270677\n",
      "Kappa:    0.24824409784812065\n"
     ]
    },
    {
     "data": {
      "text/plain": [
       "2×2 Array{Int64,2}:\n",
       " 919   900\n",
       " 350  1156"
      ]
     },
     "metadata": {},
     "output_type": "display_data"
    },
    {
     "data": {
      "text/plain": [
       "2×2 Array{Int64,2}:\n",
       " 1400  622\n",
       "  495  963"
      ]
     },
     "metadata": {},
     "output_type": "display_data"
    },
    {
     "name": "stdout",
     "output_type": "stream",
     "text": [
      "\n",
      "Fold 3\n",
      "Classes:  Int8[0, 1]\n",
      "Matrix:   \n",
      "Accuracy: 0.6240601503759399\n",
      "Kappa:    0.26450784271324373\n",
      "\n",
      "Mean Accuracy: 0.620952380952381\n",
      "\n",
      "Fold 1\n",
      "Classes:  Int8[0, 1]\n",
      "Matrix:   \n",
      "Accuracy: 0.6790229885057472\n",
      "Kappa:    0.348642208660507"
     ]
    },
    {
     "data": {
      "text/plain": [
       "2×2 Array{Int64,2}:\n",
       " 1368  654\n",
       "  489  969"
      ]
     },
     "metadata": {},
     "output_type": "display_data"
    },
    {
     "data": {
      "text/plain": [
       "2×2 Array{Int64,2}:\n",
       " 1326  667\n",
       "  536  951"
      ]
     },
     "metadata": {},
     "output_type": "display_data"
    },
    {
     "name": "stdout",
     "output_type": "stream",
     "text": [
      "\n",
      "\n",
      "Fold 2\n",
      "Classes:  Int8[0, 1]\n",
      "Matrix:   \n",
      "Accuracy: 0.6715517241379311\n",
      "Kappa:    0.3358658868645825\n",
      "\n",
      "Fold 3\n",
      "Classes:  Int8[0, 1]\n",
      "Matrix:   \n",
      "Accuracy: 0.6543103448275862\n",
      "Kappa:    0.3014995658607004\n",
      "\n",
      "Mean Accuracy: 0.6682950191570881"
     ]
    },
    {
     "data": {
      "text/plain": [
       "2×2 Array{Int64,2}:\n",
       " 1416  666\n",
       "  522  831"
      ]
     },
     "metadata": {},
     "output_type": "display_data"
    },
    {
     "data": {
      "text/plain": [
       "2×2 Array{Int64,2}:\n",
       " 1442  659\n",
       "  478  856"
      ]
     },
     "metadata": {},
     "output_type": "display_data"
    },
    {
     "name": "stdout",
     "output_type": "stream",
     "text": [
      "\n",
      "\n",
      "Fold 1\n",
      "Classes:  Int8[0, 1]\n",
      "Matrix:   \n",
      "Accuracy: 0.6541484716157205\n",
      "Kappa:    0.28892248436451223\n",
      "\n",
      "Fold 2\n",
      "Classes:  Int8[0, 1]\n",
      "Matrix:   \n",
      "Accuracy: 0.6689956331877729\n",
      "Kappa:    0.32009149947904825\n"
     ]
    },
    {
     "data": {
      "text/plain": [
       "2×2 Array{Int64,2}:\n",
       " 1377  684\n",
       "  537  837"
      ]
     },
     "metadata": {},
     "output_type": "display_data"
    },
    {
     "data": {
      "text/plain": [
       "2×2 Array{Int64,2}:\n",
       " 1393  509\n",
       "  640  740"
      ]
     },
     "metadata": {},
     "output_type": "display_data"
    },
    {
     "name": "stdout",
     "output_type": "stream",
     "text": [
      "\n",
      "Fold 3\n",
      "Classes:  Int8[0, 1]\n",
      "Matrix:   \n",
      "Accuracy: 0.6445414847161572\n",
      "Kappa:    0.2724347515194852\n",
      "\n",
      "Mean Accuracy: 0.6558951965065503\n",
      "\n",
      "Fold 1\n",
      "Classes:  Int8[0, 1]\n",
      "Matrix:   \n",
      "Accuracy: 0.649908592321755\n",
      "Kappa:    0.27216414617792456\n"
     ]
    },
    {
     "data": {
      "text/plain": [
       "2×2 Array{Int64,2}:\n",
       " 1426  482\n",
       "  610  764"
      ]
     },
     "metadata": {},
     "output_type": "display_data"
    },
    {
     "data": {
      "text/plain": [
       "2×2 Array{Int64,2}:\n",
       " 1507  470\n",
       "  598  707"
      ]
     },
     "metadata": {},
     "output_type": "display_data"
    },
    {
     "name": "stdout",
     "output_type": "stream",
     "text": [
      "\n",
      "Fold 2\n",
      "Classes:  Int8[0, 1]\n",
      "Matrix:   \n",
      "Accuracy: 0.6672760511882998\n",
      "Kappa:    0.30742795128421563\n",
      "\n",
      "Fold 3\n",
      "Classes:  Int8[0, 1]\n",
      "Matrix:   \n",
      "Accuracy: 0.6745886654478976\n",
      "Kappa:    0.30918254284528396\n",
      "\n",
      "Mean Accuracy: 0.6639244363193174\n"
     ]
    },
    {
     "data": {
      "text/plain": [
       "2×2 Array{Int64,2}:\n",
       " 1482  583\n",
       "  498  768"
      ]
     },
     "metadata": {},
     "output_type": "display_data"
    },
    {
     "data": {
      "text/plain": [
       "2×2 Array{Int64,2}:\n",
       " 1444  536\n",
       "  594  757"
      ]
     },
     "metadata": {},
     "output_type": "display_data"
    },
    {
     "name": "stdout",
     "output_type": "stream",
     "text": [
      "\n",
      "Fold 1\n",
      "Classes:  Int8[0, 1]\n",
      "Matrix:   \n",
      "Accuracy: 0.6754728309816872\n",
      "Kappa:    0.3201521005872752\n",
      "\n",
      "Fold 2\n",
      "Classes:  Int8[0, 1]\n",
      "Matrix:   \n",
      "Accuracy: 0.6607625337736416\n",
      "Kappa:    0.2916071168451249\n",
      "\n",
      "Fold 3\n",
      "Classes:  Int8[0, 1]"
     ]
    },
    {
     "data": {
      "text/plain": [
       "2×2 Array{Int64,2}:\n",
       " 1488  618\n",
       "  484  741"
      ]
     },
     "metadata": {},
     "output_type": "display_data"
    },
    {
     "data": {
      "text/plain": [
       "2×2 Array{Int64,2}:\n",
       " 1038   811\n",
       "  345  1073"
      ]
     },
     "metadata": {},
     "output_type": "display_data"
    },
    {
     "name": "stdout",
     "output_type": "stream",
     "text": [
      "\n",
      "Matrix:   \n",
      "Accuracy: 0.6691684178925248\n",
      "Kappa:    0.3044840665176891\n",
      "\n",
      "Mean Accuracy: 0.6684679275492845\n",
      "\n",
      "Fold 1\n",
      "Classes:  Int8[0, 1]\n",
      "Matrix:   \n",
      "Accuracy: 0.6461585552494643\n",
      "Kappa:    0.30635031710260224"
     ]
    },
    {
     "data": {
      "text/plain": [
       "2×2 Array{Int64,2}:\n",
       " 918   820\n",
       " 402  1127"
      ]
     },
     "metadata": {},
     "output_type": "display_data"
    },
    {
     "data": {
      "text/plain": [
       "2×2 Array{Int64,2}:\n",
       " 972   834\n",
       " 340  1121"
      ]
     },
     "metadata": {},
     "output_type": "display_data"
    },
    {
     "name": "stdout",
     "output_type": "stream",
     "text": [
      "\n",
      "\n",
      "Fold 2\n",
      "Classes:  Int8[0, 1]\n",
      "Matrix:   \n",
      "Accuracy: 0.6259565350474441\n",
      "Kappa:    0.2609864265555704\n",
      "\n",
      "Fold 3\n",
      "Classes:  Int8[0, 1]\n",
      "Matrix:   \n",
      "Accuracy: 0.6406489133761861\n",
      "Kappa:    0.29593128081883235\n",
      "\n",
      "Mean Accuracy: 0.6375880012243649\n"
     ]
    },
    {
     "data": {
      "text/plain": [
       "2×2 Array{Int64,2}:\n",
       " 1160  643\n",
       "  557  964"
      ]
     },
     "metadata": {},
     "output_type": "display_data"
    },
    {
     "data": {
      "text/plain": [
       "2×2 Array{Int64,2}:\n",
       " 1163   598\n",
       "  562  1001"
      ]
     },
     "metadata": {},
     "output_type": "display_data"
    },
    {
     "data": {
      "text/plain": [
       "2×2 Array{Int64,2}:\n",
       " 1201  608\n",
       "  545  970"
      ]
     },
     "metadata": {},
     "output_type": "display_data"
    },
    {
     "name": "stdout",
     "output_type": "stream",
     "text": [
      "\n",
      "Fold 1\n",
      "Classes:  Int8[0, 1]\n",
      "Matrix:   \n",
      "Accuracy: 0.6389891696750902\n",
      "Kappa:    0.2759455565079403\n",
      "\n",
      "Fold 2\n",
      "Classes:  Int8[0, 1]\n",
      "Matrix:   \n",
      "Accuracy: 0.6510228640192539\n",
      "Kappa:    0.3004662179740472\n",
      "\n",
      "Fold 3\n",
      "Classes:  Int8[0, 1]\n",
      "Matrix:   \n",
      "Accuracy: 0."
     ]
    },
    {
     "data": {
      "text/plain": [
       "2×2 Array{Int64,2}:\n",
       " 912  428\n",
       " 347  617"
      ]
     },
     "metadata": {},
     "output_type": "display_data"
    },
    {
     "name": "stdout",
     "output_type": "stream",
     "text": [
      "6531287605294825\n",
      "Kappa:    0.3031423733843025\n",
      "\n",
      "Mean Accuracy: 0.6477135980746089\n",
      "\n",
      "Fold 1\n",
      "Classes:  Int8[0, 1]\n",
      "Matrix:   \n",
      "Accuracy: 0.6636284722222222\n",
      "Kappa:    0.3169026800552109\n",
      "\n",
      "Fold 2\n"
     ]
    },
    {
     "data": {
      "text/plain": [
       "2×2 Array{Int64,2}:\n",
       " 918  421\n",
       " 310  655"
      ]
     },
     "metadata": {},
     "output_type": "display_data"
    },
    {
     "data": {
      "text/plain": [
       "2×2 Array{Int64,2}:\n",
       " 891  431\n",
       " 341  641"
      ]
     },
     "metadata": {},
     "output_type": "display_data"
    },
    {
     "name": "stdout",
     "output_type": "stream",
     "text": [
      "Classes:  Int8[0, 1]\n",
      "Matrix:   \n",
      "Accuracy: 0.6827256944444444\n",
      "Kappa:    0.35858242719126937\n",
      "\n",
      "Fold 3\n",
      "Classes:  Int8[0, 1]\n",
      "Matrix:   \n",
      "Accuracy: 0.6649305555555556\n",
      "Kappa:    0.32292250347163015\n",
      "\n",
      "Mean Accuracy: 0.6704282407407408"
     ]
    },
    {
     "data": {
      "text/plain": [
       "2×2 Array{Int64,2}:\n",
       " 1484  515\n",
       "  595  747"
      ]
     },
     "metadata": {},
     "output_type": "display_data"
    },
    {
     "data": {
      "text/plain": [
       "2×2 Array{Int64,2}:\n",
       " 1453  531\n",
       "  604  753"
      ]
     },
     "metadata": {},
     "output_type": "display_data"
    },
    {
     "name": "stdout",
     "output_type": "stream",
     "text": [
      "\n",
      "\n",
      "Fold 1\n",
      "Classes:  Int8[0, 1]\n",
      "Matrix:   \n",
      "Accuracy: 0.6677641424723136\n",
      "Kappa:    0.30196116667130957\n",
      "\n",
      "Fold 2\n",
      "Classes:  Int8[0, 1]\n",
      "Matrix:   \n",
      "Accuracy: 0.6602813528883568\n",
      "Kappa:    0.2897221381938466\n"
     ]
    },
    {
     "data": {
      "text/plain": [
       "2×2 Array{Int64,2}:\n",
       " 1418  578\n",
       "  603  742"
      ]
     },
     "metadata": {},
     "output_type": "display_data"
    },
    {
     "data": {
      "text/plain": [
       "2×2 Array{Int64,2}:\n",
       " 1533  440\n",
       "  652  696"
      ]
     },
     "metadata": {},
     "output_type": "display_data"
    },
    {
     "name": "stdout",
     "output_type": "stream",
     "text": [
      "\n",
      "Fold 3\n",
      "Classes:  Int8[0, 1]\n",
      "Matrix:   \n",
      "Accuracy: 0.6465130200538761\n",
      "Kappa:    0.26289056625627116\n",
      "\n",
      "Mean Accuracy: 0.6581861718048488\n",
      "\n",
      "Fold 1\n",
      "Classes:  Int8[0, 1]\n",
      "Matrix:   \n",
      "Accuracy: 0.6711833785004516\n",
      "Kappa:    0.30080274424548276\n"
     ]
    },
    {
     "data": {
      "text/plain": [
       "2×2 Array{Int64,2}:\n",
       " 1519  431\n",
       "  664  707"
      ]
     },
     "metadata": {},
     "output_type": "display_data"
    },
    {
     "data": {
      "text/plain": [
       "2×2 Array{Int64,2}:\n",
       " 1471  488\n",
       "  691  671"
      ]
     },
     "metadata": {},
     "output_type": "display_data"
    },
    {
     "name": "stdout",
     "output_type": "stream",
     "text": [
      "\n",
      "Fold 2\n",
      "Classes:  Int8[0, 1]\n",
      "Matrix:   \n",
      "Accuracy: 0.6702800361336947\n",
      "Kappa:    0.30228321488536164\n",
      "\n",
      "Fold 3\n",
      "Classes:  Int8[0, 1]\n",
      "Matrix:   \n",
      "Accuracy: 0.6449864498644986\n",
      "Kappa:    0.2492109009851153\n",
      "\n",
      "Mean Accuracy: 0.6621499548328816\n"
     ]
    },
    {
     "data": {
      "text/plain": [
       "2×2 Array{Int64,2}:\n",
       " 1629  368\n",
       "  847  548"
      ]
     },
     "metadata": {},
     "output_type": "display_data"
    },
    {
     "data": {
      "text/plain": [
       "2×2 Array{Int64,2}:\n",
       " 1628  419\n",
       "  823  522"
      ]
     },
     "metadata": {},
     "output_type": "display_data"
    },
    {
     "data": {
      "text/plain": [
       "2×2 Array{Int64,2}:\n",
       " 1667  362\n",
       "  861  502"
      ]
     },
     "metadata": {},
     "output_type": "display_data"
    },
    {
     "name": "stdout",
     "output_type": "stream",
     "text": [
      "\n",
      "Fold 1\n",
      "Classes:  Int8[0, 1]\n",
      "Matrix:   \n",
      "Accuracy: 0.6418042452830188\n",
      "Kappa:    0.21993794754462756\n",
      "\n",
      "Fold 2\n",
      "Classes:  Int8[0, 1]\n",
      "Matrix:   \n",
      "Accuracy: 0.6338443396226415\n",
      "Kappa:    0.19337400355593212\n",
      "\n",
      "Fold 3\n",
      "Classes:  Int8[0, 1]\n",
      "Matrix:   "
     ]
    },
    {
     "data": {
      "text/plain": [
       "2×2 Array{Int64,2}:\n",
       " 1265  567\n",
       "  553  870"
      ]
     },
     "metadata": {},
     "output_type": "display_data"
    },
    {
     "name": "stdout",
     "output_type": "stream",
     "text": [
      "\n",
      "Accuracy: 0.6394457547169812\n",
      "Kappa:    0.20203126923550413\n",
      "\n",
      "Mean Accuracy: 0.6383647798742138\n",
      "\n",
      "Fold 1\n",
      "Classes:  Int8[0, 1]\n",
      "Matrix:   \n",
      "Accuracy: 0."
     ]
    },
    {
     "data": {
      "text/plain": [
       "2×2 Array{Int64,2}:\n",
       " 1258  595\n",
       "  545  857"
      ]
     },
     "metadata": {},
     "output_type": "display_data"
    },
    {
     "name": "stdout",
     "output_type": "stream",
     "text": [
      "6559139784946236\n",
      "Kappa:    0.3015554071405498\n",
      "\n",
      "Fold 2\n",
      "Classes:  Int8[0, 1]\n",
      "Matrix:   \n",
      "Accuracy: 0.6497695852534562\n",
      "Kappa:    0.28891479740194326"
     ]
    },
    {
     "data": {
      "text/plain": [
       "2×2 Array{Int64,2}:\n",
       " 1330  585\n",
       "  503  837"
      ]
     },
     "metadata": {},
     "output_type": "display_data"
    },
    {
     "name": "stdout",
     "output_type": "stream",
     "text": [
      "\n",
      "\n",
      "Fold 3\n",
      "Classes:  Int8[0, 1]\n",
      "Matrix:   \n",
      "Accuracy: 0.6657450076804915\n",
      "Kappa:    0.31623852413912934\n",
      "\n",
      "Mean Accuracy: 0.6571428571428571\n"
     ]
    },
    {
     "data": {
      "text/plain": [
       "2×2 Array{Int64,2}:\n",
       " 1132   968\n",
       "  406  1067"
      ]
     },
     "metadata": {},
     "output_type": "display_data"
    },
    {
     "data": {
      "text/plain": [
       "2×2 Array{Int64,2}:\n",
       " 1051   980\n",
       "  376  1166"
      ]
     },
     "metadata": {},
     "output_type": "display_data"
    },
    {
     "name": "stdout",
     "output_type": "stream",
     "text": [
      "\n",
      "Fold 1\n",
      "Classes:  Int8[0, 1]\n",
      "Matrix:   \n",
      "Accuracy: 0.6154492023509656\n",
      "Kappa:    0.24922441961078295\n",
      "\n",
      "Fold 2\n",
      "Classes:  Int8[0, 1]\n",
      "Matrix:   \n",
      "Accuracy: 0.6204869857262805\n",
      "Kappa:    0.26131764791979223\n",
      "\n",
      "Fold 3\n",
      "Classes:  Int8[0, 1]"
     ]
    },
    {
     "data": {
      "text/plain": [
       "2×2 Array{Int64,2}:\n",
       " 1140   929\n",
       "  438  1066"
      ]
     },
     "metadata": {},
     "output_type": "display_data"
    },
    {
     "data": {
      "text/plain": [
       "2×2 Array{Int64,2}:\n",
       " 1280  492\n",
       "  669  885"
      ]
     },
     "metadata": {},
     "output_type": "display_data"
    },
    {
     "name": "stdout",
     "output_type": "stream",
     "text": [
      "\n",
      "Matrix:   \n",
      "Accuracy: 0.6174083403302547\n",
      "Kappa:    0.2486823883277673\n",
      "\n",
      "Mean Accuracy: 0.6177815094691669\n",
      "\n",
      "Fold 1\n",
      "Classes:  Int8[0, 1]\n",
      "Matrix:   \n",
      "Accuracy: 0."
     ]
    },
    {
     "data": {
      "text/plain": [
       "2×2 Array{Int64,2}:\n",
       " 1341  476\n",
       "  688  821"
      ]
     },
     "metadata": {},
     "output_type": "display_data"
    },
    {
     "data": {
      "text/plain": [
       "2×2 Array{Int64,2}:\n",
       " 1365  463\n",
       "  663  835"
      ]
     },
     "metadata": {},
     "output_type": "display_data"
    },
    {
     "name": "stdout",
     "output_type": "stream",
     "text": [
      "6509320505111245\n",
      "Kappa:    0.29390486743868394\n",
      "\n",
      "Fold 2\n",
      "Classes:  Int8[0, 1]\n",
      "Matrix:   \n",
      "Accuracy: 0.6500300661455202\n",
      "Kappa:    0.28549814428956094\n",
      "\n",
      "Fold 3\n",
      "Classes:  Int8[0, 1]\n",
      "Matrix:   \n",
      "Accuracy: 0.6614552014431749\n",
      "Kappa:    0.3078373766885098\n",
      "\n",
      "Mean Accuracy: 0.6541391060332732\n"
     ]
    },
    {
     "data": {
      "text/plain": [
       "2×2 Array{Int64,2}:\n",
       " 1511  475\n",
       "  645  690"
      ]
     },
     "metadata": {},
     "output_type": "display_data"
    },
    {
     "data": {
      "text/plain": [
       "2×2 Array{Int64,2}:\n",
       " 1484  465\n",
       "  660  712"
      ]
     },
     "metadata": {},
     "output_type": "display_data"
    },
    {
     "data": {
      "text/plain": [
       "2×2 Array{Int64,2}:\n",
       " 1533  444\n",
       "  595  749"
      ]
     },
     "metadata": {},
     "output_type": "display_data"
    },
    {
     "name": "stdout",
     "output_type": "stream",
     "text": [
      "\n",
      "Fold 1\n",
      "Classes:  Int8[0, 1]\n",
      "Matrix:   \n",
      "Accuracy: 0.6627521830773864\n",
      "Kappa:    0.28359864790685585\n",
      "\n",
      "Fold 2\n",
      "Classes:  Int8[0, 1]\n",
      "Matrix:   \n",
      "Accuracy: 0.6612466124661247\n",
      "Kappa:    0.2863917979058898\n",
      "\n",
      "Fold 3\n",
      "Classes:  Int8[0, 1]\n",
      "Matrix:   \n",
      "Accuracy: 0.6871424269798253\n",
      "Kappa:    "
     ]
    },
    {
     "data": {
      "text/plain": [
       "2×2 Array{Int64,2}:\n",
       " 1257  352\n",
       "  486  648"
      ]
     },
     "metadata": {},
     "output_type": "display_data"
    },
    {
     "name": "stdout",
     "output_type": "stream",
     "text": [
      "0.33880281524157935\n",
      "\n",
      "Mean Accuracy: 0.6703804075077788\n",
      "\n",
      "Fold 1\n",
      "Classes:  Int8[0, 1]\n",
      "Matrix:   \n",
      "Accuracy: 0.6944950783813343\n",
      "Kappa:    0.35891946646020895\n"
     ]
    },
    {
     "data": {
      "text/plain": [
       "2×2 Array{Int64,2}:\n",
       " 1266  364\n",
       "  487  626"
      ]
     },
     "metadata": {},
     "output_type": "display_data"
    },
    {
     "data": {
      "text/plain": [
       "2×2 Array{Int64,2}:\n",
       " 1231  355\n",
       "  519  638"
      ]
     },
     "metadata": {},
     "output_type": "display_data"
    },
    {
     "name": "stdout",
     "output_type": "stream",
     "text": [
      "\n",
      "Fold 2\n",
      "Classes:  Int8[0, 1]\n",
      "Matrix:   \n",
      "Accuracy: 0.6897557418884434\n",
      "Kappa:    0.34518059834677456\n",
      "\n",
      "Fold 3\n",
      "Classes:  Int8[0, 1]\n",
      "Matrix:   \n",
      "Accuracy: 0.6813707619394823\n",
      "Kappa:    0.3339954351092107\n",
      "\n",
      "Mean Accuracy: 0.6885405274030867\n",
      "\n",
      "Fold 1\n",
      "Classes:  Int8[0"
     ]
    },
    {
     "data": {
      "text/plain": [
       "2×2 Array{Int64,2}:\n",
       " 439  128\n",
       " 196  218"
      ]
     },
     "metadata": {},
     "output_type": "display_data"
    },
    {
     "data": {
      "text/plain": [
       "2×2 Array{Int64,2}:\n",
       " 443  139\n",
       " 205  194"
      ]
     },
     "metadata": {},
     "output_type": "display_data"
    },
    {
     "data": {
      "text/plain": [
       "2×2 Array{Int64,2}:\n",
       " 423  146\n",
       " 189  223"
      ]
     },
     "metadata": {},
     "output_type": "display_data"
    },
    {
     "data": {
      "text/plain": [
       "2×2 Array{Int64,2}:\n",
       " 401  174\n",
       " 183  252"
      ]
     },
     "metadata": {},
     "output_type": "display_data"
    },
    {
     "name": "stdout",
     "output_type": "stream",
     "text": [
      ", 1]\n",
      "Matrix:   \n",
      "Accuracy: 0.6697247706422018\n",
      "Kappa:    0.307638017565872\n",
      "\n",
      "Fold 2\n",
      "Classes:  Int8[0, 1]\n",
      "Matrix:   \n",
      "Accuracy: 0.6493374108053007\n",
      "Kappa:    0.25398909713103335\n",
      "\n",
      "Fold 3\n",
      "Classes:  Int8[0, 1]\n",
      "Matrix:   \n",
      "Accuracy: 0.6585117227319062\n",
      "Kappa:    0.28883046060960155\n",
      "\n",
      "Mean Accuracy: 0.6591913013931362\n",
      "\n",
      "Fold 1\n",
      "Classes:  Int8[0, 1]"
     ]
    },
    {
     "data": {
      "text/plain": [
       "2×2 Array{Int64,2}:\n",
       " 423  170\n",
       " 148  269"
      ]
     },
     "metadata": {},
     "output_type": "display_data"
    },
    {
     "data": {
      "text/plain": [
       "2×2 Array{Int64,2}:\n",
       " 389  179\n",
       " 175  267"
      ]
     },
     "metadata": {},
     "output_type": "display_data"
    },
    {
     "data": {
      "text/plain": [
       "2×2 Array{Int64,2}:\n",
       " 238  113\n",
       "  61  223"
      ]
     },
     "metadata": {},
     "output_type": "display_data"
    },
    {
     "name": "stdout",
     "output_type": "stream",
     "text": [
      "\n",
      "Matrix:   \n",
      "Accuracy: 0.6465346534653466\n",
      "Kappa:    0.27740034870438285\n",
      "\n",
      "Fold 2\n",
      "Classes:  Int8[0, 1]\n",
      "Matrix:   \n",
      "Accuracy: 0.6851485148514852\n",
      "Kappa:    0.35562180750109346\n",
      "\n",
      "Fold 3\n",
      "Classes:  Int8[0, 1]\n",
      "Matrix:   \n",
      "Accuracy: 0.6495049504950495\n",
      "Kappa:    0.28864182596654314\n",
      "\n",
      "Mean Accuracy: 0.6603960396039604\n",
      "\n",
      "Fold 1\n",
      "Classes:  Int8[0, 1]\n",
      "Matrix:   \n",
      "Accuracy: 0.7259842519685039\n",
      "Kappa:    0.4553171770551929"
     ]
    },
    {
     "data": {
      "text/plain": [
       "2×2 Array{Int64,2}:\n",
       " 233  136\n",
       "  61  205"
      ]
     },
     "metadata": {},
     "output_type": "display_data"
    },
    {
     "data": {
      "text/plain": [
       "2×2 Array{Int64,2}:\n",
       " 236  152\n",
       "  67  180"
      ]
     },
     "metadata": {},
     "output_type": "display_data"
    },
    {
     "name": "stdout",
     "output_type": "stream",
     "text": [
      "\n",
      "\n",
      "Fold 2\n",
      "Classes:  Int8[0, 1]\n",
      "Matrix:   \n",
      "Accuracy: 0.6897637795275591\n",
      "Kappa:    0.3868883955046487\n",
      "\n",
      "Fold 3\n",
      "Classes:  Int8[0, 1]\n",
      "Matrix:   \n",
      "Accuracy: 0.6551181102362205\n",
      "Kappa:    0.31716071630241044\n",
      "\n",
      "Mean Accuracy: 0.6902887139107611\n"
     ]
    }
   ],
   "source": [
    "results = []\n",
    "for team_name in unique(df, :posteam)[:posteam]\n",
    "    team_df = filter(row -> row[:posteam] == team_name, df)\n",
    "    accuracy = nfoldCV_tree(team_df[:rush_attempt], Matrix(team_df[some_features]),3,1.0,4,2,5,0.0)\n",
    "    #args = n_folds, pruning purity, max_depth, min_leaf, min_split, min_purity\n",
    "    push!(results, (team_name, accuracy))\n",
    "end"
   ]
  },
  {
   "cell_type": "code",
   "execution_count": 76,
   "metadata": {},
   "outputs": [
    {
     "name": "stdout",
     "output_type": "stream",
     "text": [
      "NE: 0.6177815094691669\n",
      "KC: 0.6208521303258145\n",
      "DAL: 0.6367074748681198\n",
      "SF: 0.6375880012243648\n",
      "PHI: 0.637867122897063\n",
      "CAR: 0.6379139401150109\n",
      "GB: 0.6383647798742138\n",
      "CLE: 0.6406533575317604\n",
      "PIT: 0.6468335787923417\n",
      "SEA: 0.6478138788608102\n",
      "CIN: 0.6530673019654556\n",
      "HOU: 0.6536041189931351\n",
      "BUF: 0.6540388855482061\n",
      "ATL: 0.6558951965065503\n",
      "CHI: 0.6571428571428571\n",
      "NYG: 0.6581861718048488\n",
      "TEN: 0.6587893864013267\n",
      "LA: 0.6591913013931362\n",
      "NYJ: 0.6600176004693458\n",
      "JAX: 0.6603960396039604\n",
      "WAS: 0.6620495834587975\n",
      "IND: 0.6625024210730195\n",
      "MIA: 0.6639244363193174\n",
      "MIN: 0.6644591611479028\n",
      "NO: 0.6646948356807512\n",
      "DEN: 0.6678200692041522\n",
      "BAL: 0.6682950191570881\n",
      "ARI: 0.6684679275492845\n",
      "TB: 0.6699959644874899\n",
      "OAK: 0.6702800361336947\n",
      "STL: 0.6704282407407408\n",
      "JAC: 0.6729957805907173\n",
      "DET: 0.6792073520964962\n",
      "SD: 0.6885405274030867\n",
      "LAC: 0.6902887139107611\n"
     ]
    }
   ],
   "source": [
    "sort!(results, by = x -> sum(x[2])/3)\n",
    "for pair in results\n",
    "    println(pair[1], \": \", sum(pair[2])/3)\n",
    "end"
   ]
  },
  {
   "cell_type": "code",
   "execution_count": 99,
   "metadata": {},
   "outputs": [
    {
     "data": {
      "text/plain": [
       "2×2 Array{Int64,2}:\n",
       " 1485   546\n",
       "  347  1017"
      ]
     },
     "metadata": {},
     "output_type": "display_data"
    },
    {
     "data": {
      "text/plain": [
       "2×2 Array{Int64,2}:\n",
       " 1445   545\n",
       "  369  1036"
      ]
     },
     "metadata": {},
     "output_type": "display_data"
    },
    {
     "name": "stdout",
     "output_type": "stream",
     "text": [
      "\n",
      "Fold 1\n",
      "Classes:  Int8[0, 1]\n",
      "Matrix:   \n",
      "Accuracy: 0.7369661266568484\n",
      "Kappa:    0.46561358193404523\n",
      "\n",
      "Fold 2\n",
      "Classes:  Int8[0, 1]\n",
      "Matrix:   \n",
      "Accuracy: 0.730780559646539\n",
      "Kappa:    0.45511742167498404"
     ]
    },
    {
     "data": {
      "text/plain": [
       "2×2 Array{Int64,2}:\n",
       " 1521   513\n",
       "  351  1010"
      ]
     },
     "metadata": {},
     "output_type": "display_data"
    },
    {
     "name": "stdout",
     "output_type": "stream",
     "text": [
      "\n",
      "\n",
      "Fold 3\n",
      "Classes:  Int8[0, 1]\n",
      "Matrix:   \n",
      "Accuracy: 0.7455081001472754\n",
      "Kappa:    0.4804283851385174\n",
      "\n",
      "Mean Accuracy: 0.7377515954835543\n"
     ]
    },
    {
     "data": {
      "text/plain": [
       "2×2 Array{Int64,2}:\n",
       " 1247   532\n",
       "  305  1132"
      ]
     },
     "metadata": {},
     "output_type": "display_data"
    },
    {
     "data": {
      "text/plain": [
       "2×2 Array{Int64,2}:\n",
       " 1308   550\n",
       "  320  1038"
      ]
     },
     "metadata": {},
     "output_type": "display_data"
    },
    {
     "name": "stdout",
     "output_type": "stream",
     "text": [
      "\n",
      "Fold 1\n",
      "Classes:  Int8[0, 1]\n",
      "Matrix:   \n",
      "Accuracy: 0.7397388059701493\n",
      "Kappa:    0.4813982521847691\n",
      "\n",
      "Fold 2\n",
      "Classes:  Int8[0, 1]\n",
      "Matrix:   \n",
      "Accuracy: 0.7294776119402985\n",
      "Kappa:    0.45790695727921177\n"
     ]
    },
    {
     "data": {
      "text/plain": [
       "2×2 Array{Int64,2}:\n",
       " 1252   545\n",
       "  313  1106"
      ]
     },
     "metadata": {},
     "output_type": "display_data"
    },
    {
     "name": "stdout",
     "output_type": "stream",
     "text": [
      "\n",
      "Fold 3\n",
      "Classes:  Int8[0, 1]\n",
      "Matrix:   \n",
      "Accuracy: 0.7332089552238806\n",
      "Kappa:    0.4680897574245574\n",
      "\n",
      "Mean Accuracy: 0.7341417910447762\n"
     ]
    },
    {
     "data": {
      "text/plain": [
       "2×2 Array{Int64,2}:\n",
       " 1318  638\n",
       "  358  992"
      ]
     },
     "metadata": {},
     "output_type": "display_data"
    },
    {
     "data": {
      "text/plain": [
       "2×2 Array{Int64,2}:\n",
       " 1326  639\n",
       "  357  984"
      ]
     },
     "metadata": {},
     "output_type": "display_data"
    },
    {
     "name": "stdout",
     "output_type": "stream",
     "text": [
      "\n",
      "Fold 1\n",
      "Classes:  Int8[0, 1]\n",
      "Matrix:   \n",
      "Accuracy: 0.6987295825771325\n",
      "Kappa:    0.39591845720324054\n",
      "\n",
      "Fold 2\n",
      "Classes:  Int8[0, 1]\n",
      "Matrix:   \n",
      "Accuracy: 0.6987295825771325\n",
      "Kappa:    0.39538803745360435\n"
     ]
    },
    {
     "data": {
      "text/plain": [
       "2×2 Array{Int64,2}:\n",
       " 1327   633\n",
       "  327  1019"
      ]
     },
     "metadata": {},
     "output_type": "display_data"
    },
    {
     "name": "stdout",
     "output_type": "stream",
     "text": [
      "\n",
      "Fold 3\n",
      "Classes:  Int8[0, 1]\n",
      "Matrix:   \n",
      "Accuracy: 0.7096188747731398\n",
      "Kappa:    0.41917249063175543\n",
      "\n",
      "Mean Accuracy: 0.7023593466424684\n"
     ]
    },
    {
     "data": {
      "text/plain": [
       "2×2 Array{Int64,2}:\n",
       " 1279   616\n",
       "  299  1128"
      ]
     },
     "metadata": {},
     "output_type": "display_data"
    },
    {
     "data": {
      "text/plain": [
       "2×2 Array{Int64,2}:\n",
       " 1256   610\n",
       "  298  1158"
      ]
     },
     "metadata": {},
     "output_type": "display_data"
    },
    {
     "name": "stdout",
     "output_type": "stream",
     "text": [
      "\n",
      "Fold 1\n",
      "Classes:  Int8[0, 1]\n",
      "Matrix:   \n",
      "Accuracy: 0.7245635159542444\n",
      "Kappa:    0.4529779080552689\n",
      "\n",
      "Fold 2\n",
      "Classes:  Int8[0, 1]\n",
      "Matrix:   \n",
      "Accuracy: 0.7266706803130644\n",
      "Kappa:    0.45765332688927424\n"
     ]
    },
    {
     "data": {
      "text/plain": [
       "2×2 Array{Int64,2}:\n",
       " 1230   628\n",
       "  299  1165"
      ]
     },
     "metadata": {},
     "output_type": "display_data"
    },
    {
     "name": "stdout",
     "output_type": "stream",
     "text": [
      "\n",
      "Fold 3\n",
      "Classes:  Int8[0, 1]\n",
      "Matrix:   \n",
      "Accuracy: 0.7209512341962673\n",
      "Kappa:    0.44711365656166674\n",
      "\n",
      "Mean Accuracy: 0.7240618101545254"
     ]
    },
    {
     "data": {
      "text/plain": [
       "2×2 Array{Int64,2}:\n",
       " 1403   746\n",
       "  191  1210"
      ]
     },
     "metadata": {},
     "output_type": "display_data"
    },
    {
     "name": "stdout",
     "output_type": "stream",
     "text": [
      "\n",
      "\n",
      "Fold 1\n",
      "Classes:  Int8[0, 1]\n",
      "Matrix:   \n",
      "Accuracy: 0.736056338028169\n",
      "Kappa:    0.4832162380422824\n"
     ]
    },
    {
     "data": {
      "text/plain": [
       "2×2 Array{Int64,2}:\n",
       " 1436   734\n",
       "  175  1205"
      ]
     },
     "metadata": {},
     "output_type": "display_data"
    },
    {
     "data": {
      "text/plain": [
       "2×2 Array{Int64,2}:\n",
       " 1453   718\n",
       "  166  1213"
      ]
     },
     "metadata": {},
     "output_type": "display_data"
    },
    {
     "name": "stdout",
     "output_type": "stream",
     "text": [
      "\n",
      "Fold 2\n",
      "Classes:  Int8[0, 1]\n",
      "Matrix:   \n",
      "Accuracy: 0.743943661971831\n",
      "Kappa:    0.49820473626183964\n",
      "\n",
      "Fold 3\n",
      "Classes:  Int8[0, 1]\n",
      "Matrix:   \n",
      "Accuracy: 0.7509859154929578\n",
      "Kappa:    0.5115491496858581\n",
      "\n",
      "Mean Accuracy: 0.7436619718309859\n"
     ]
    },
    {
     "data": {
      "text/plain": [
       "2×2 Array{Int64,2}:\n",
       " 1803  355\n",
       "  524  800"
      ]
     },
     "metadata": {},
     "output_type": "display_data"
    },
    {
     "data": {
      "text/plain": [
       "2×2 Array{Int64,2}:\n",
       " 1841  362\n",
       "  482  797"
      ]
     },
     "metadata": {},
     "output_type": "display_data"
    },
    {
     "name": "stdout",
     "output_type": "stream",
     "text": [
      "\n",
      "Fold 1\n",
      "Classes:  Int8[0, 1]\n",
      "Matrix:   \n",
      "Accuracy: 0.747558874210224\n",
      "Kappa:    0.4508456001484183\n",
      "\n",
      "Fold 2\n",
      "Classes:  Int8[0, 1]\n",
      "Matrix:   \n",
      "Accuracy: 0.7576105686387133\n",
      "Kappa:    0.4680307016479996\n"
     ]
    },
    {
     "data": {
      "text/plain": [
       "2×2 Array{Int64,2}:\n",
       " 1826  409\n",
       "  449  798"
      ]
     },
     "metadata": {},
     "output_type": "display_data"
    },
    {
     "name": "stdout",
     "output_type": "stream",
     "text": [
      "\n",
      "Fold 3\n",
      "Classes:  Int8[0, 1]\n",
      "Matrix:   \n",
      "Accuracy: 0.7535898908673176\n",
      "Kappa:    0.46020088281474447\n",
      "\n",
      "Mean Accuracy: 0.7529197779054183\n"
     ]
    },
    {
     "data": {
      "text/plain": [
       "2×2 Array{Int64,2}:\n",
       " 1375   515\n",
       "  259  1200"
      ]
     },
     "metadata": {},
     "output_type": "display_data"
    },
    {
     "data": {
      "text/plain": [
       "2×2 Array{Int64,2}:\n",
       " 1411   510\n",
       "  253  1175"
      ]
     },
     "metadata": {},
     "output_type": "display_data"
    },
    {
     "name": "stdout",
     "output_type": "stream",
     "text": [
      "\n",
      "Fold 1\n",
      "Classes:  Int8[0, 1]\n",
      "Matrix:   \n",
      "Accuracy: 0.7688862346969244\n",
      "Kappa:    0.5392067630919712\n",
      "\n",
      "Fold 2\n",
      "Classes:  Int8[0, 1]\n",
      "Matrix:   \n",
      "Accuracy: 0.7721707972529113\n",
      "Kappa:    0.5447618124604383\n"
     ]
    },
    {
     "data": {
      "text/plain": [
       "2×2 Array{Int64,2}:\n",
       " 1461   497\n",
       "  272  1119"
      ]
     },
     "metadata": {},
     "output_type": "display_data"
    },
    {
     "name": "stdout",
     "output_type": "stream",
     "text": [
      "\n",
      "Fold 3\n",
      "Classes:  Int8[0, 1]\n",
      "Matrix:   \n",
      "Accuracy: 0.7703792176769185\n",
      "Kappa:    0.5380259603557553\n",
      "\n",
      "Mean Accuracy: 0.7704787498755846\n"
     ]
    },
    {
     "data": {
      "text/plain": [
       "2×2 Array{Int64,2}:\n",
       " 1311   645\n",
       "  241  1107"
      ]
     },
     "metadata": {},
     "output_type": "display_data"
    },
    {
     "data": {
      "text/plain": [
       "2×2 Array{Int64,2}:\n",
       " 1317   630\n",
       "  223  1134"
      ]
     },
     "metadata": {},
     "output_type": "display_data"
    },
    {
     "name": "stdout",
     "output_type": "stream",
     "text": [
      "\n",
      "Fold 1\n",
      "Classes:  Int8[0, 1]\n",
      "Matrix:   \n",
      "Accuracy: 0.7318401937046005\n",
      "Kappa:    0.46958873768619297\n",
      "\n",
      "Fold 2\n",
      "Classes:  Int8[0, 1]\n",
      "Matrix:   \n",
      "Accuracy: 0."
     ]
    },
    {
     "data": {
      "text/plain": [
       "2×2 Array{Int64,2}:\n",
       " 1328   644\n",
       "  238  1094"
      ]
     },
     "metadata": {},
     "output_type": "display_data"
    },
    {
     "name": "stdout",
     "output_type": "stream",
     "text": [
      "7418280871670703\n",
      "Kappa:    0.4898325358851676\n",
      "\n",
      "Fold 3\n",
      "Classes:  Int8[0, 1]\n",
      "Matrix:   \n",
      "Accuracy: 0.7330508474576272\n",
      "Kappa:    0.47143172228058683\n",
      "\n",
      "Mean Accuracy: 0."
     ]
    },
    {
     "data": {
      "text/plain": [
       "2×2 Array{Int64,2}:\n",
       " 1147   793\n",
       "  394  1162"
      ]
     },
     "metadata": {},
     "output_type": "display_data"
    },
    {
     "data": {
      "text/plain": [
       "2×2 Array{Int64,2}:\n",
       " 1202   761\n",
       "  380  1153"
      ]
     },
     "metadata": {},
     "output_type": "display_data"
    },
    {
     "name": "stdout",
     "output_type": "stream",
     "text": [
      "7355730427764327\n",
      "\n",
      "Fold 1\n",
      "Classes:  Int8[0, 1]\n",
      "Matrix:   \n",
      "Accuracy: 0.6604691075514875\n",
      "Kappa:    0.3296575912495543\n",
      "\n",
      "Fold 2\n",
      "Classes:  Int8[0, 1]\n",
      "Matrix:   \n",
      "Accuracy: 0.6736270022883295\n",
      "Kappa:    0.35479041431886826\n"
     ]
    },
    {
     "data": {
      "text/plain": [
       "2×2 Array{Int64,2}:\n",
       " 1135   789\n",
       "  350  1222"
      ]
     },
     "metadata": {},
     "output_type": "display_data"
    },
    {
     "data": {
      "text/plain": [
       "2×2 Array{Int64,2}:\n",
       " 1273   572\n",
       "  453  1111"
      ]
     },
     "metadata": {},
     "output_type": "display_data"
    },
    {
     "name": "stdout",
     "output_type": "stream",
     "text": [
      "\n",
      "Fold 3\n",
      "Classes:  Int8[0, 1]\n",
      "Matrix:   \n",
      "Accuracy: 0.6741990846681922\n",
      "Kappa:    0.3581220146289629\n",
      "\n",
      "Mean Accuracy: 0.6694317315026698\n",
      "\n",
      "Fold 1\n",
      "Classes:  Int8[0, 1]"
     ]
    },
    {
     "data": {
      "text/plain": [
       "2×2 Array{Int64,2}:\n",
       " 1183   642\n",
       "  440  1144"
      ]
     },
     "metadata": {},
     "output_type": "display_data"
    },
    {
     "name": "stdout",
     "output_type": "stream",
     "text": [
      "\n",
      "Matrix:   \n",
      "Accuracy: 0.6993253153417425\n",
      "Kappa:    0.398024738659811\n",
      "\n",
      "Fold 2\n",
      "Classes:  Int8[0, 1]\n",
      "Matrix:   \n",
      "Accuracy: 0.6826048694631857\n",
      "Kappa:    0."
     ]
    },
    {
     "data": {
      "text/plain": [
       "2×2 Array{Int64,2}:\n",
       " 1199   602\n",
       "  469  1139"
      ]
     },
     "metadata": {},
     "output_type": "display_data"
    },
    {
     "name": "stdout",
     "output_type": "stream",
     "text": [
      "3673482689173525\n",
      "\n",
      "Fold 3\n",
      "Classes:  Int8[0, 1]\n",
      "Matrix:   \n",
      "Accuracy: 0.6858316221765913\n",
      "Kappa:    0.3724240827751932\n",
      "\n",
      "Mean Accuracy: 0.6892539356605064"
     ]
    },
    {
     "data": {
      "text/plain": [
       "2×2 Array{Int64,2}:\n",
       " 1529  571\n",
       "  355  987"
      ]
     },
     "metadata": {},
     "output_type": "display_data"
    },
    {
     "data": {
      "text/plain": [
       "2×2 Array{Int64,2}:\n",
       " 1524   564\n",
       "  349  1005"
      ]
     },
     "metadata": {},
     "output_type": "display_data"
    },
    {
     "name": "stdout",
     "output_type": "stream",
     "text": [
      "\n",
      "\n",
      "Fold 1\n",
      "Classes:  Int8[0, 1]\n",
      "Matrix:   \n",
      "Accuracy: 0.7309703660662406\n",
      "Kappa:    0.4504790239111965\n",
      "\n",
      "Fold 2\n",
      "Classes:  Int8[0, 1]\n",
      "Matrix:   \n",
      "Accuracy: 0.7347472399767577\n",
      "Kappa:    0.459311018331712\n"
     ]
    },
    {
     "data": {
      "text/plain": [
       "2×2 Array{Int64,2}:\n",
       " 1540   558\n",
       "  342  1002"
      ]
     },
     "metadata": {},
     "output_type": "display_data"
    },
    {
     "name": "stdout",
     "output_type": "stream",
     "text": [
      "\n",
      "Fold 3\n",
      "Classes:  Int8[0, 1]\n",
      "Matrix:   \n",
      "Accuracy: 0.7385241138872748\n",
      "Kappa:    0.46610716324318946\n",
      "\n",
      "Mean Accuracy: 0.7347472399767576\n"
     ]
    },
    {
     "data": {
      "text/plain": [
       "2×2 Array{Int64,2}:\n",
       " 945  460\n",
       " 207  758"
      ]
     },
     "metadata": {},
     "output_type": "display_data"
    },
    {
     "data": {
      "text/plain": [
       "2×2 Array{Int64,2}:\n",
       " 950  447\n",
       " 248  725"
      ]
     },
     "metadata": {},
     "output_type": "display_data"
    },
    {
     "name": "stdout",
     "output_type": "stream",
     "text": [
      "\n",
      "Fold 1\n",
      "Classes:  Int8[0, 1]\n",
      "Matrix:   \n",
      "Accuracy: 0.7185654008438819\n",
      "Kappa:    0.4400259301374085\n",
      "\n",
      "Fold 2\n",
      "Classes:  Int8[0, 1]\n",
      "Matrix:   \n",
      "Accuracy: 0.7067510548523207\n",
      "Kappa:    0.4123487569114979\n"
     ]
    },
    {
     "data": {
      "text/plain": [
       "2×2 Array{Int64,2}:\n",
       " 926  460\n",
       " 205  779"
      ]
     },
     "metadata": {},
     "output_type": "display_data"
    },
    {
     "name": "stdout",
     "output_type": "stream",
     "text": [
      "\n",
      "Fold 3\n",
      "Classes:  Int8[0, 1]\n",
      "Matrix:   \n",
      "Accuracy: 0.7194092827004219\n",
      "Kappa:    0.44312296345292385\n",
      "\n",
      "Mean Accuracy: 0.7149085794655415"
     ]
    },
    {
     "data": {
      "text/plain": [
       "2×2 Array{Int64,2}:\n",
       " 1523  492\n",
       "  484  969"
      ]
     },
     "metadata": {},
     "output_type": "display_data"
    },
    {
     "data": {
      "text/plain": [
       "2×2 Array{Int64,2}:\n",
       " 1515  537\n",
       "  441  975"
      ]
     },
     "metadata": {},
     "output_type": "display_data"
    },
    {
     "name": "stdout",
     "output_type": "stream",
     "text": [
      "\n",
      "\n",
      "Fold 1\n",
      "Classes:  Int8[0, 1]\n",
      "Matrix:   \n",
      "Accuracy: 0.7185697808535179\n",
      "Kappa:    0.4224030159284351\n",
      "\n",
      "Fold 2\n",
      "Classes:  Int8[0, 1]\n",
      "Matrix:   \n",
      "Accuracy: 0.7179930795847751\n",
      "Kappa:    0.4224252084355076"
     ]
    },
    {
     "data": {
      "text/plain": [
       "2×2 Array{Int64,2}:\n",
       " 1441   511\n",
       "  498  1018"
      ]
     },
     "metadata": {},
     "output_type": "display_data"
    },
    {
     "name": "stdout",
     "output_type": "stream",
     "text": [
      "\n",
      "\n",
      "Fold 3\n",
      "Classes:  Int8[0, 1]\n",
      "Matrix:   \n",
      "Accuracy: 0.7090542099192618\n",
      "Kappa:    0.4093291641712237\n",
      "\n",
      "Mean Accuracy: 0.715205690119185\n"
     ]
    },
    {
     "data": {
      "text/plain": [
       "2×2 Array{Int64,2}:\n",
       " 1395   511\n",
       "  343  1109"
      ]
     },
     "metadata": {},
     "output_type": "display_data"
    },
    {
     "data": {
      "text/plain": [
       "2×2 Array{Int64,2}:\n",
       " 1340   563\n",
       "  343  1112"
      ]
     },
     "metadata": {},
     "output_type": "display_data"
    },
    {
     "name": "stdout",
     "output_type": "stream",
     "text": [
      "\n",
      "Fold 1\n",
      "Classes:  Int8[0, 1]\n",
      "Matrix:   \n",
      "Accuracy: 0.7456819535437761\n",
      "Kappa:    0.48893588932039944\n",
      "\n",
      "Fold 2\n",
      "Classes:  Int8[0, 1]\n",
      "Matrix:   \n",
      "Accuracy: 0.730196545562835\n",
      "Kappa:    0.4602215287006168"
     ]
    },
    {
     "data": {
      "text/plain": [
       "2×2 Array{Int64,2}:\n",
       " 1320   530\n",
       "  351  1157"
      ]
     },
     "metadata": {},
     "output_type": "display_data"
    },
    {
     "name": "stdout",
     "output_type": "stream",
     "text": [
      "\n",
      "\n",
      "Fold 3\n",
      "Classes:  Int8[0, 1]\n",
      "Matrix:   \n",
      "Accuracy: 0.7376414532459797\n",
      "Kappa:    0.47553741319078185\n",
      "\n",
      "Mean Accuracy: 0.7378399841175303"
     ]
    },
    {
     "data": {
      "text/plain": [
       "2×2 Array{Int64,2}:\n",
       " 1371  464\n",
       "  587  940"
      ]
     },
     "metadata": {},
     "output_type": "display_data"
    },
    {
     "name": "stdout",
     "output_type": "stream",
     "text": [
      "\n",
      "\n",
      "Fold 1\n",
      "Classes:  Int8[0, 1]\n",
      "Matrix:   \n",
      "Accuracy: 0.6873884592504461\n",
      "Kappa:    0.3651938142425917\n",
      "\n",
      "Fold 2"
     ]
    },
    {
     "data": {
      "text/plain": [
       "2×2 Array{Int64,2}:\n",
       " 1333  455\n",
       "  658  916"
      ]
     },
     "metadata": {},
     "output_type": "display_data"
    },
    {
     "data": {
      "text/plain": [
       "2×2 Array{Int64,2}:\n",
       " 1305  497\n",
       "  649  911"
      ]
     },
     "metadata": {},
     "output_type": "display_data"
    },
    {
     "name": "stdout",
     "output_type": "stream",
     "text": [
      "\n",
      "Classes:  Int8[0, 1]\n",
      "Matrix:   \n",
      "Accuracy: 0.6689470553242117\n",
      "Kappa:    0.33002971075964926\n",
      "\n",
      "Fold 3\n",
      "Classes:  Int8[0, 1]\n",
      "Matrix:   \n",
      "Accuracy: 0.6591314693634741\n",
      "Kappa:    0.31019920307312415\n",
      "\n",
      "Mean Accuracy: 0.6718223279793772\n"
     ]
    },
    {
     "data": {
      "text/plain": [
       "2×2 Array{Int64,2}:\n",
       " 1577  447\n",
       "  710  773"
      ]
     },
     "metadata": {},
     "output_type": "display_data"
    },
    {
     "data": {
      "text/plain": [
       "2×2 Array{Int64,2}:\n",
       " 1573  480\n",
       "  678  776"
      ]
     },
     "metadata": {},
     "output_type": "display_data"
    },
    {
     "name": "stdout",
     "output_type": "stream",
     "text": [
      "\n",
      "Fold 1\n",
      "Classes:  Int8[0, 1]\n",
      "Matrix:   \n",
      "Accuracy: 0.6700883946392928\n",
      "Kappa:    0.30768340908675984\n",
      "\n",
      "Fold 2\n",
      "Classes:  Int8[0, 1]\n",
      "Matrix:   \n",
      "Accuracy: "
     ]
    },
    {
     "data": {
      "text/plain": [
       "2×2 Array{Int64,2}:\n",
       " 1607  479\n",
       "  696  725"
      ]
     },
     "metadata": {},
     "output_type": "display_data"
    },
    {
     "name": "stdout",
     "output_type": "stream",
     "text": [
      "0.669803250641574\n",
      "Kappa:    0.30597441144372356\n",
      "\n",
      "Fold 3\n",
      "Classes:  Int8[0, 1]\n",
      "Matrix:   \n",
      "Accuracy: 0.6649558026803536\n",
      "Kappa:    0.2875780133389648\n",
      "\n",
      "Mean Accuracy: 0.6682824826537401"
     ]
    },
    {
     "data": {
      "text/plain": [
       "2×2 Array{Int64,2}:\n",
       " 1273   535\n",
       "  496  1021"
      ]
     },
     "metadata": {},
     "output_type": "display_data"
    },
    {
     "data": {
      "text/plain": [
       "2×2 Array{Int64,2}:\n",
       " 1317   529\n",
       "  440  1039"
      ]
     },
     "metadata": {},
     "output_type": "display_data"
    },
    {
     "name": "stdout",
     "output_type": "stream",
     "text": [
      "\n",
      "\n",
      "Fold 1\n",
      "Classes:  Int8[0, 1]\n",
      "Matrix:   \n",
      "Accuracy: 0.6899248120300752\n",
      "Kappa:    0.3763531684950265\n",
      "\n",
      "Fold 2\n",
      "Classes:  Int8[0, 1]\n",
      "Matrix:   \n",
      "Accuracy: 0.7085714285714285\n",
      "Kappa:    0.4134629230579062\n"
     ]
    },
    {
     "data": {
      "text/plain": [
       "2×2 Array{Int64,2}:\n",
       " 1290   573\n",
       "  449  1013"
      ]
     },
     "metadata": {},
     "output_type": "display_data"
    },
    {
     "name": "stdout",
     "output_type": "stream",
     "text": [
      "\n",
      "Fold 3\n",
      "Classes:  Int8[0, 1]\n",
      "Matrix:   \n",
      "Accuracy: 0.6926315789473684\n",
      "Kappa:    0.38183264885569496\n",
      "\n",
      "Mean Accuracy: 0.6970426065162907\n"
     ]
    },
    {
     "data": {
      "text/plain": [
       "2×2 Array{Int64,2}:\n",
       " 1262   720\n",
       "  347  1151"
      ]
     },
     "metadata": {},
     "output_type": "display_data"
    },
    {
     "data": {
      "text/plain": [
       "2×2 Array{Int64,2}:\n",
       " 1254   780\n",
       "  330  1116"
      ]
     },
     "metadata": {},
     "output_type": "display_data"
    },
    {
     "name": "stdout",
     "output_type": "stream",
     "text": [
      "\n",
      "Fold 1\n",
      "Classes:  Int8[0, 1]\n",
      "Matrix:   \n",
      "Accuracy: 0.6933908045977012\n",
      "Kappa:    0.39313608136758005\n",
      "\n",
      "Fold 2\n",
      "Classes:  Int8[0, 1]\n",
      "Matrix:   \n",
      "Accuracy: "
     ]
    },
    {
     "data": {
      "text/plain": [
       "2×2 Array{Int64,2}:\n",
       " 1297   724\n",
       "  301  1158"
      ]
     },
     "metadata": {},
     "output_type": "display_data"
    },
    {
     "name": "stdout",
     "output_type": "stream",
     "text": [
      "0.6810344827586207\n",
      "Kappa:    0.37158853983648416\n",
      "\n",
      "Fold 3\n",
      "Classes:  Int8[0, 1]\n",
      "Matrix:   \n",
      "Accuracy: 0.7054597701149425\n",
      "Kappa:    0.41858228617291865\n",
      "\n",
      "Mean Accuracy: 0.693295019157088"
     ]
    },
    {
     "data": {
      "text/plain": [
       "2×2 Array{Int64,2}:\n",
       " 1283   795\n",
       "  166  1191"
      ]
     },
     "metadata": {},
     "output_type": "display_data"
    },
    {
     "name": "stdout",
     "output_type": "stream",
     "text": [
      "\n",
      "\n",
      "Fold 1\n",
      "Classes:  Int8[0, 1]\n",
      "Matrix:   \n",
      "Accuracy: 0.7202328966521107\n",
      "Kappa:    0.45824288415891756\n",
      "\n",
      "Fold 2\n"
     ]
    },
    {
     "data": {
      "text/plain": [
       "2×2 Array{Int64,2}:\n",
       " 1301   798\n",
       "  175  1161"
      ]
     },
     "metadata": {},
     "output_type": "display_data"
    },
    {
     "data": {
      "text/plain": [
       "2×2 Array{Int64,2}:\n",
       " 1272   795\n",
       "  165  1203"
      ]
     },
     "metadata": {},
     "output_type": "display_data"
    },
    {
     "name": "stdout",
     "output_type": "stream",
     "text": [
      "Classes:  Int8[0, 1]\n",
      "Matrix:   \n",
      "Accuracy: 0.7167394468704512\n",
      "Kappa:    0.45063731564592774\n",
      "\n",
      "Fold 3\n",
      "Classes:  Int8[0, 1]\n",
      "Matrix:   \n",
      "Accuracy: 0.7205240174672489\n",
      "Kappa:    0.45902689805669006\n",
      "\n",
      "Mean Accuracy: 0.7191654536632702\n"
     ]
    },
    {
     "data": {
      "text/plain": [
       "2×2 Array{Int64,2}:\n",
       " 1379  579\n",
       "  537  787"
      ]
     },
     "metadata": {},
     "output_type": "display_data"
    },
    {
     "data": {
      "text/plain": [
       "2×2 Array{Int64,2}:\n",
       " 1386  555\n",
       "  543  798"
      ]
     },
     "metadata": {},
     "output_type": "display_data"
    },
    {
     "name": "stdout",
     "output_type": "stream",
     "text": [
      "\n",
      "Fold 1\n",
      "Classes:  Int8[0, 1]\n",
      "Matrix:   \n",
      "Accuracy: 0.659963436928702\n",
      "Kappa:    0.2971747388231825\n",
      "\n",
      "Fold 2\n",
      "Classes:  Int8[0, 1]\n",
      "Matrix:   \n",
      "Accuracy: 0.6654478976234004\n",
      "Kappa:    0.308716234647404"
     ]
    },
    {
     "data": {
      "text/plain": [
       "2×2 Array{Int64,2}:\n",
       " 1354  533\n",
       "  543  852"
      ]
     },
     "metadata": {},
     "output_type": "display_data"
    },
    {
     "name": "stdout",
     "output_type": "stream",
     "text": [
      "\n",
      "\n",
      "Fold 3\n",
      "Classes:  Int8[0, 1]\n",
      "Matrix:   \n",
      "Accuracy: 0.6721511273613651\n",
      "Kappa:    0.32860084299623\n",
      "\n",
      "Mean Accuracy: 0.6658541539711558\n"
     ]
    },
    {
     "data": {
      "text/plain": [
       "2×2 Array{Int64,2}:\n",
       " 1370   728\n",
       "  163  1070"
      ]
     },
     "metadata": {},
     "output_type": "display_data"
    },
    {
     "data": {
      "text/plain": [
       "2×2 Array{Int64,2}:\n",
       " 1283   740\n",
       "  189  1119"
      ]
     },
     "metadata": {},
     "output_type": "display_data"
    },
    {
     "name": "stdout",
     "output_type": "stream",
     "text": [
      "\n",
      "Fold 1\n",
      "Classes:  Int8[0, 1]\n",
      "Matrix:   \n",
      "Accuracy: 0.7325127589312519\n",
      "Kappa:    0.47585393666599973\n",
      "\n",
      "Fold 2\n",
      "Classes:  Int8[0, 1]\n",
      "Matrix:   \n",
      "Accuracy: 0.7211047733413389\n",
      "Kappa:    0.4557814599130903"
     ]
    },
    {
     "data": {
      "text/plain": [
       "2×2 Array{Int64,2}:\n",
       " 1370   661\n",
       "  174  1126"
      ]
     },
     "metadata": {},
     "output_type": "display_data"
    },
    {
     "name": "stdout",
     "output_type": "stream",
     "text": [
      "\n",
      "\n",
      "Fold 3\n",
      "Classes:  Int8[0, 1]\n",
      "Matrix:   \n",
      "Accuracy: 0.7493245271690183\n",
      "Kappa:    0.5065488982093274\n",
      "\n",
      "Mean Accuracy: 0.7343140198138697\n"
     ]
    },
    {
     "data": {
      "text/plain": [
       "2×2 Array{Int64,2}:\n",
       " 1131   679\n",
       "  440  1017"
      ]
     },
     "metadata": {},
     "output_type": "display_data"
    },
    {
     "data": {
      "text/plain": [
       "2×2 Array{Int64,2}:\n",
       " 1150   625\n",
       "  423  1069"
      ]
     },
     "metadata": {},
     "output_type": "display_data"
    },
    {
     "name": "stdout",
     "output_type": "stream",
     "text": [
      "\n",
      "Fold 1\n",
      "Classes:  Int8[0, 1]\n",
      "Matrix:   \n",
      "Accuracy: 0.657483930211203\n",
      "Kappa:    0.31778822764521375\n",
      "\n",
      "Fold 2\n",
      "Classes:  Int8[0, 1]\n",
      "Matrix:   \n",
      "Accuracy: 0.6792164064891337\n",
      "Kappa:    0.36048456357636843\n"
     ]
    },
    {
     "data": {
      "text/plain": [
       "2×2 Array{Int64,2}:\n",
       " 1122  686\n",
       "  461  998"
      ]
     },
     "metadata": {},
     "output_type": "display_data"
    },
    {
     "name": "stdout",
     "output_type": "stream",
     "text": [
      "\n",
      "Fold 3\n",
      "Classes:  Int8[0, 1]\n",
      "Matrix:   \n",
      "Accuracy: 0.6489133761861035\n",
      "Kappa:    0.30013807673839316\n",
      "\n",
      "Mean Accuracy: 0.6618712376288134\n"
     ]
    },
    {
     "data": {
      "text/plain": [
       "2×2 Array{Int64,2}:\n",
       " 1399  376\n",
       "  765  784"
      ]
     },
     "metadata": {},
     "output_type": "display_data"
    },
    {
     "data": {
      "text/plain": [
       "2×2 Array{Int64,2}:\n",
       " 1435  390\n",
       "  740  759"
      ]
     },
     "metadata": {},
     "output_type": "display_data"
    },
    {
     "name": "stdout",
     "output_type": "stream",
     "text": [
      "\n",
      "Fold 1\n",
      "Classes:  Int8[0, 1]\n",
      "Matrix:   \n",
      "Accuracy: 0.6567388688327317\n",
      "Kappa:    0.29908357660159723\n",
      "\n",
      "Fold 2\n",
      "Classes:  Int8[0, 1]\n",
      "Matrix:   \n",
      "Accuracy: 0.6600481347773767\n",
      "Kappa:    0.2988716225675487\n"
     ]
    },
    {
     "data": {
      "text/plain": [
       "2×2 Array{Int64,2}:\n",
       " 1385  387\n",
       "  754  798"
      ]
     },
     "metadata": {},
     "output_type": "display_data"
    },
    {
     "data": {
      "text/plain": [
       "2×2 Array{Int64,2}:\n",
       " 817  507\n",
       " 121  859"
      ]
     },
     "metadata": {},
     "output_type": "display_data"
    },
    {
     "name": "stdout",
     "output_type": "stream",
     "text": [
      "\n",
      "Fold 3\n",
      "Classes:  Int8[0, 1]\n",
      "Matrix:   \n",
      "Accuracy: 0.6567388688327317\n",
      "Kappa:    0.3001844434259094\n",
      "\n",
      "Mean Accuracy: 0.6578419574809468\n",
      "\n",
      "Fold 1\n",
      "Classes:  Int8[0, 1]\n",
      "Matrix:   \n",
      "Accuracy: 0.7274305555555556\n",
      "Kappa:    0.4695728170145876"
     ]
    },
    {
     "data": {
      "text/plain": [
       "2×2 Array{Int64,2}:\n",
       " 813  527\n",
       " 134  830"
      ]
     },
     "metadata": {},
     "output_type": "display_data"
    },
    {
     "data": {
      "text/plain": [
       "2×2 Array{Int64,2}:\n",
       " 798  539\n",
       " 104  863"
      ]
     },
     "metadata": {},
     "output_type": "display_data"
    },
    {
     "name": "stdout",
     "output_type": "stream",
     "text": [
      "\n",
      "\n",
      "Fold 2\n",
      "Classes:  Int8[0, 1]\n",
      "Matrix:   \n",
      "Accuracy: 0.7131076388888888\n",
      "Kappa:    0.44240812393273793\n",
      "\n",
      "Fold 3\n",
      "Classes:  Int8[0, 1]\n",
      "Matrix:   \n",
      "Accuracy: 0.7209201388888888\n",
      "Kappa:    0.46063724283760765\n",
      "\n",
      "Mean Accuracy: 0.720486111111111\n"
     ]
    },
    {
     "data": {
      "text/plain": [
       "2×2 Array{Int64,2}:\n",
       " 1492  507\n",
       "  384  958"
      ]
     },
     "metadata": {},
     "output_type": "display_data"
    },
    {
     "data": {
      "text/plain": [
       "2×2 Array{Int64,2}:\n",
       " 1501   498\n",
       "  330  1012"
      ]
     },
     "metadata": {},
     "output_type": "display_data"
    },
    {
     "name": "stdout",
     "output_type": "stream",
     "text": [
      "\n",
      "Fold 1\n",
      "Classes:  Int8[0, 1]\n",
      "Matrix:   \n",
      "Accuracy: 0.7333133792277761\n",
      "Kappa:    0.45340404290975944\n",
      "\n",
      "Fold 2\n",
      "Classes:  Int8[0, 1]\n",
      "Matrix:   \n",
      "Accuracy: 0.7521700089793475\n",
      "Kappa:    0.4947948131487307\n"
     ]
    },
    {
     "data": {
      "text/plain": [
       "2×2 Array{Int64,2}:\n",
       " 1461   519\n",
       "  356  1005"
      ]
     },
     "metadata": {},
     "output_type": "display_data"
    },
    {
     "name": "stdout",
     "output_type": "stream",
     "text": [
      "\n",
      "Fold 3\n",
      "Classes:  Int8[0, 1]\n",
      "Matrix:   \n",
      "Accuracy: 0.7381023645615086\n",
      "Kappa:    0.46755342952326195\n",
      "\n",
      "Mean Accuracy: 0.7411952509228774\n"
     ]
    },
    {
     "data": {
      "text/plain": [
       "2×2 Array{Int64,2}:\n",
       " 1535  460\n",
       "  564  762"
      ]
     },
     "metadata": {},
     "output_type": "display_data"
    },
    {
     "data": {
      "text/plain": [
       "2×2 Array{Int64,2}:\n",
       " 1496  435\n",
       "  613  777"
      ]
     },
     "metadata": {},
     "output_type": "display_data"
    },
    {
     "name": "stdout",
     "output_type": "stream",
     "text": [
      "\n",
      "Fold 1\n",
      "Classes:  Int8[0, 1]\n",
      "Matrix:   \n",
      "Accuracy: 0.6916591388136104\n",
      "Kappa:    0.34866937717336605\n",
      "\n",
      "Fold 2\n",
      "Classes:  Int8[0, 1]\n",
      "Matrix:   \n",
      "Accuracy: 0.6844323998795544\n",
      "Kappa:    0.3398167864910483"
     ]
    },
    {
     "data": {
      "text/plain": [
       "2×2 Array{Int64,2}:\n",
       " 1513  443\n",
       "  592  773"
      ]
     },
     "metadata": {},
     "output_type": "display_data"
    },
    {
     "name": "stdout",
     "output_type": "stream",
     "text": [
      "\n",
      "\n",
      "Fold 3\n",
      "Classes:  Int8[0, 1]\n",
      "Matrix:   \n",
      "Accuracy: 0.6883468834688347\n",
      "Kappa:    0.3455155840231416\n",
      "\n",
      "Mean Accuracy: 0.6881461407206665\n"
     ]
    },
    {
     "data": {
      "text/plain": [
       "2×2 Array{Int64,2}:\n",
       " 1555  504\n",
       "  486  847"
      ]
     },
     "metadata": {},
     "output_type": "display_data"
    },
    {
     "name": "stdout",
     "output_type": "stream",
     "text": [
      "\n",
      "Fold 1\n",
      "Classes:  Int8[0, 1]\n",
      "Matrix:   \n",
      "Accuracy: 0.7081367924528302\n",
      "Kappa:    0.38970209520929383\n",
      "\n",
      "Fold 2\n",
      "Classes:  Int8[0,"
     ]
    },
    {
     "data": {
      "text/plain": [
       "2×2 Array{Int64,2}:\n",
       " 1526  480\n",
       "  508  878"
      ]
     },
     "metadata": {},
     "output_type": "display_data"
    },
    {
     "name": "stdout",
     "output_type": "stream",
     "text": [
      " 1]\n",
      "Matrix:   \n",
      "Accuracy: 0.7087264150943396\n",
      "Kappa:    0.3954299915284692\n",
      "\n",
      "Fold 3"
     ]
    },
    {
     "data": {
      "text/plain": [
       "2×2 Array{Int64,2}:\n",
       " 1514  495\n",
       "  476  907"
      ]
     },
     "metadata": {},
     "output_type": "display_data"
    },
    {
     "name": "stdout",
     "output_type": "stream",
     "text": [
      "\n",
      "Classes:  Int8[0, 1]\n",
      "Matrix:   \n",
      "Accuracy: 0.7137382075471698\n",
      "Kappa:    0.4085549674363613\n",
      "\n",
      "Mean Accuracy: 0.7102004716981133\n"
     ]
    },
    {
     "data": {
      "text/plain": [
       "2×2 Array{Int64,2}:\n",
       " 1307  556\n",
       "  420  972"
      ]
     },
     "metadata": {},
     "output_type": "display_data"
    },
    {
     "data": {
      "text/plain": [
       "2×2 Array{Int64,2}:\n",
       " 1313  546\n",
       "  453  943"
      ]
     },
     "metadata": {},
     "output_type": "display_data"
    },
    {
     "name": "stdout",
     "output_type": "stream",
     "text": [
      "\n",
      "Fold 1\n",
      "Classes:  Int8[0, 1]\n",
      "Matrix:   \n",
      "Accuracy: 0.7001536098310291\n",
      "Kappa:    0.3949546798795119\n",
      "\n",
      "Fold 2\n",
      "Classes:  Int8[0, 1]\n",
      "Matrix:   \n",
      "Accuracy: 0.6930875576036867\n",
      "Kappa:    0.3786538239958177\n"
     ]
    },
    {
     "data": {
      "text/plain": [
       "2×2 Array{Int64,2}:\n",
       " 1275  602\n",
       "  456  922"
      ]
     },
     "metadata": {},
     "output_type": "display_data"
    },
    {
     "name": "stdout",
     "output_type": "stream",
     "text": [
      "\n",
      "Fold 3\n",
      "Classes:  Int8[0, 1]\n",
      "Matrix:   \n",
      "Accuracy: 0.6749615975422427\n",
      "Kappa:    0.3435230713098657\n",
      "\n",
      "Mean Accuracy: 0.6894009216589861"
     ]
    },
    {
     "data": {
      "text/plain": [
       "2×2 Array{Int64,2}:\n",
       " 1452   652\n",
       "  243  1226"
      ]
     },
     "metadata": {},
     "output_type": "display_data"
    },
    {
     "data": {
      "text/plain": [
       "2×2 Array{Int64,2}:\n",
       " 1451   588\n",
       "  265  1269"
      ]
     },
     "metadata": {},
     "output_type": "display_data"
    },
    {
     "name": "stdout",
     "output_type": "stream",
     "text": [
      "\n",
      "\n",
      "Fold 1\n",
      "Classes:  Int8[0, 1]\n",
      "Matrix:   \n",
      "Accuracy: 0.7495102155051777\n",
      "Kappa:    0.5035394434045352\n",
      "\n",
      "Fold 2\n",
      "Classes:  Int8[0, 1]\n",
      "Matrix:   \n",
      "Accuracy: 0."
     ]
    },
    {
     "data": {
      "text/plain": [
       "2×2 Array{Int64,2}:\n",
       " 1480   576\n",
       "  276  1241"
      ]
     },
     "metadata": {},
     "output_type": "display_data"
    },
    {
     "name": "stdout",
     "output_type": "stream",
     "text": [
      "7612650433809124\n",
      "Kappa:    0.5251784338020058\n",
      "\n",
      "Fold 3\n",
      "Classes:  Int8[0, 1]\n",
      "Matrix:   \n",
      "Accuracy: 0.7615449202350966\n",
      "Kappa:    0.5243149419870355\n",
      "\n",
      "Mean Accuracy: 0.7574400597070623\n"
     ]
    },
    {
     "data": {
      "text/plain": [
       "2×2 Array{Int64,2}:\n",
       " 1301  454\n",
       "  636  935"
      ]
     },
     "metadata": {},
     "output_type": "display_data"
    },
    {
     "data": {
      "text/plain": [
       "2×2 Array{Int64,2}:\n",
       " 1321  480\n",
       "  608  917"
      ]
     },
     "metadata": {},
     "output_type": "display_data"
    },
    {
     "name": "stdout",
     "output_type": "stream",
     "text": [
      "\n",
      "Fold 1\n",
      "Classes:  Int8[0, 1]\n",
      "Matrix:   \n",
      "Accuracy: 0.672279013830427\n",
      "Kappa:    0.33852875588289294\n",
      "\n",
      "Fold 2\n",
      "Classes:  Int8[0, 1]\n",
      "Matrix:   \n",
      "Accuracy: 0.6728803367408298\n",
      "Kappa:    0.3369599990618797\n"
     ]
    },
    {
     "data": {
      "text/plain": [
       "2×2 Array{Int64,2}:\n",
       " 1380  481\n",
       "  597  868"
      ]
     },
     "metadata": {},
     "output_type": "display_data"
    },
    {
     "name": "stdout",
     "output_type": "stream",
     "text": [
      "\n",
      "Fold 3\n",
      "Classes:  Int8[0, 1]\n",
      "Matrix:   \n",
      "Accuracy: 0.6758869512928443\n",
      "Kappa:    0.3368661724489596\n",
      "\n",
      "Mean Accuracy: 0.673682100621367"
     ]
    },
    {
     "data": {
      "text/plain": [
       "2×2 Array{Int64,2}:\n",
       " 1337  642\n",
       "  378  964"
      ]
     },
     "metadata": {},
     "output_type": "display_data"
    },
    {
     "data": {
      "text/plain": [
       "2×2 Array{Int64,2}:\n",
       " 1332  628\n",
       "  381  980"
      ]
     },
     "metadata": {},
     "output_type": "display_data"
    },
    {
     "name": "stdout",
     "output_type": "stream",
     "text": [
      "\n",
      "\n",
      "Fold 1\n",
      "Classes:  Int8[0, 1]\n",
      "Matrix:   \n",
      "Accuracy: 0.6928635953026197\n",
      "Kappa:    0.3818355547023214\n",
      "\n",
      "Fold 2\n",
      "Classes:  Int8[0, 1]\n",
      "Matrix:   \n",
      "Accuracy: 0.6961758506473954\n",
      "Kappa:    0.38886660819580565"
     ]
    },
    {
     "data": {
      "text/plain": [
       "2×2 Array{Int64,2}:\n",
       " 1336  637\n",
       "  365  983"
      ]
     },
     "metadata": {},
     "output_type": "display_data"
    },
    {
     "name": "stdout",
     "output_type": "stream",
     "text": [
      "\n",
      "\n",
      "Fold 3\n",
      "Classes:  Int8[0, 1]\n",
      "Matrix:   \n",
      "Accuracy: 0.6982836495031617\n",
      "Kappa:    0.3937846771337504\n",
      "\n",
      "Mean Accuracy: 0.6957743651510588\n"
     ]
    },
    {
     "data": {
      "text/plain": [
       "2×2 Array{Int64,2}:\n",
       " 1249  348\n",
       "  337  809"
      ]
     },
     "metadata": {},
     "output_type": "display_data"
    },
    {
     "data": {
      "text/plain": [
       "2×2 Array{Int64,2}:\n",
       " 1239  330\n",
       "  342  832"
      ]
     },
     "metadata": {},
     "output_type": "display_data"
    },
    {
     "name": "stdout",
     "output_type": "stream",
     "text": [
      "\n",
      "Fold 1\n",
      "Classes:  Int8[0, 1]\n",
      "Matrix:   \n",
      "Accuracy: 0.7502734232592052\n",
      "Kappa:    0.48736455691712915\n",
      "\n",
      "Fold 2\n",
      "Classes:  Int8[0, 1]\n",
      "Matrix:   \n",
      "Accuracy: 0.7550127597520963\n",
      "Kappa:    0.49900523799273333\n"
     ]
    },
    {
     "data": {
      "text/plain": [
       "2×2 Array{Int64,2}:\n",
       " 1271  387\n",
       "  337  748"
      ]
     },
     "metadata": {},
     "output_type": "display_data"
    },
    {
     "data": {
      "text/plain": [
       "2×2 Array{Int64,2}:\n",
       " 442  151\n",
       "  78  310"
      ]
     },
     "metadata": {},
     "output_type": "display_data"
    },
    {
     "data": {
      "text/plain": [
       "2×2 Array{Int64,2}:\n",
       " 445  127\n",
       "  76  333"
      ]
     },
     "metadata": {},
     "output_type": "display_data"
    },
    {
     "data": {
      "text/plain": [
       "2×2 Array{Int64,2}:\n",
       " 424  130\n",
       "  89  338"
      ]
     },
     "metadata": {},
     "output_type": "display_data"
    },
    {
     "name": "stdout",
     "output_type": "stream",
     "text": [
      "\n",
      "Fold 3\n",
      "Classes:  Int8[0, 1]\n",
      "Matrix:   \n",
      "Accuracy: 0.7360554137805323\n",
      "Kappa:    0.45238479971101697\n",
      "\n",
      "Mean Accuracy: 0.747113865597278\n",
      "\n",
      "Fold 1\n",
      "Classes:  Int8[0, 1]\n",
      "Matrix:   \n",
      "Accuracy: 0.7665647298674821\n",
      "Kappa:    0.52718712444726\n",
      "\n",
      "Fold 2\n",
      "Classes:  Int8[0, 1]\n",
      "Matrix:   \n",
      "Accuracy: 0.7930682976554536\n",
      "Kappa:    0.5818159673588698\n",
      "\n",
      "Fold 3\n",
      "Classes:  Int8[0, 1]\n",
      "Matrix:   \n",
      "Accuracy: 0.7767584097859327\n",
      "Kappa:    0.5508495305473496\n",
      "\n",
      "Mean Accuracy: 0.7787971457696229"
     ]
    },
    {
     "data": {
      "text/plain": [
       "2×2 Array{Int64,2}:\n",
       " 503   97\n",
       " 173  237"
      ]
     },
     "metadata": {},
     "output_type": "display_data"
    },
    {
     "data": {
      "text/plain": [
       "2×2 Array{Int64,2}:\n",
       " 464   90\n",
       " 191  265"
      ]
     },
     "metadata": {},
     "output_type": "display_data"
    },
    {
     "data": {
      "text/plain": [
       "2×2 Array{Int64,2}:\n",
       " 471  111\n",
       " 182  246"
      ]
     },
     "metadata": {},
     "output_type": "display_data"
    },
    {
     "name": "stdout",
     "output_type": "stream",
     "text": [
      "\n",
      "\n",
      "Fold 1\n",
      "Classes:  Int8[0, 1]\n",
      "Matrix:   \n",
      "Accuracy: 0.7326732673267327\n",
      "Kappa:    0.42897227573498614\n",
      "\n",
      "Fold 2\n",
      "Classes:  Int8[0, 1]\n",
      "Matrix:   \n",
      "Accuracy: 0.7217821782178218\n",
      "Kappa:    0.42705157969112745\n",
      "\n",
      "Fold 3\n",
      "Classes:  Int8[0, 1]\n",
      "Matrix:   \n",
      "Accuracy: 0.7099009900990099\n",
      "Kappa:    0.3926626140566188\n",
      "\n",
      "Mean Accuracy: 0.7214521452145215\n"
     ]
    },
    {
     "data": {
      "text/plain": [
       "2×2 Array{Int64,2}:\n",
       " 290   78\n",
       "  90  177"
      ]
     },
     "metadata": {},
     "output_type": "display_data"
    },
    {
     "data": {
      "text/plain": [
       "2×2 Array{Int64,2}:\n",
       " 282   80\n",
       "  96  177"
      ]
     },
     "metadata": {},
     "output_type": "display_data"
    },
    {
     "data": {
      "text/plain": [
       "2×2 Array{Int64,2}:\n",
       " 305   73\n",
       "  66  191"
      ]
     },
     "metadata": {},
     "output_type": "display_data"
    },
    {
     "name": "stdout",
     "output_type": "stream",
     "text": [
      "\n",
      "Fold 1\n",
      "Classes:  Int8[0, 1]\n",
      "Matrix:   \n",
      "Accuracy: 0.7354330708661417\n",
      "Kappa:    0.45376344086021503\n",
      "\n",
      "Fold 2\n",
      "Classes:  Int8[0, 1]\n",
      "Matrix:   \n",
      "Accuracy: 0.7228346456692913\n",
      "Kappa:    0.43045844629716445\n",
      "\n",
      "Fold 3\n",
      "Classes:  Int8[0, 1]\n",
      "Matrix:   \n",
      "Accuracy: 0.7811023622047244\n",
      "Kappa:    0.547681396337995\n",
      "\n",
      "Mean Accuracy: 0.7464566929133859\n"
     ]
    }
   ],
   "source": [
    "results_2 = []\n",
    "for team_name in unique(df, :posteam)[:posteam]\n",
    "    team_df = filter(row -> row[:posteam] == team_name, df)\n",
    "    accuracy = nfoldCV_tree(team_df[:rush_attempt], Matrix(team_df[most_features]),3,1.0,3,2,5,0.0)\n",
    "    #args = n_folds, pruning purity, max_depth, min_leaf, min_split, min_purity\n",
    "    push!(results_2, (team_name, accuracy))\n",
    "end"
   ]
  },
  {
   "cell_type": "code",
   "execution_count": 100,
   "metadata": {},
   "outputs": [
    {
     "name": "stdout",
     "output_type": "stream",
     "text": [
      "SEA: 0.6578419574809468\n",
      "SF: 0.6618712376288134\n",
      "MIA: 0.6658541539711558\n",
      "PHI: 0.6682824826537401\n",
      "HOU: 0.6694317315026698\n",
      "CAR: 0.6718223279793772\n",
      "BUF: 0.673682100621367\n",
      "WAS: 0.6881461407206665\n",
      "NYJ: 0.6892539356605064\n",
      "CHI: 0.6894009216589861\n",
      "BAL: 0.693295019157088\n",
      "OAK: 0.6957743651510588\n",
      "KC: 0.6970426065162907\n",
      "CLE: 0.7023593466424684\n",
      "GB: 0.7102004716981133\n",
      "JAC: 0.7149085794655415\n",
      "DEN: 0.715205690119185\n",
      "ATL: 0.7191654536632702\n",
      "STL: 0.720486111111111\n",
      "JAX: 0.7214521452145215\n",
      "MIN: 0.7240618101545254\n",
      "TEN: 0.7341417910447762\n",
      "ARI: 0.7343140198138697\n",
      "IND: 0.7347472399767576\n",
      "TB: 0.7355730427764327\n",
      "PIT: 0.7377515954835543\n",
      "CIN: 0.7378399841175303\n",
      "NYG: 0.7411952509228774\n",
      "NO: 0.7436619718309859\n",
      "LAC: 0.7464566929133859\n",
      "SD: 0.747113865597278\n",
      "DET: 0.7529197779054183\n",
      "NE: 0.7574400597070623\n",
      "DAL: 0.7704787498755846\n",
      "LA: 0.7787971457696229\n"
     ]
    }
   ],
   "source": [
    "sort!(results_2, by = x -> sum(x[2])/3)\n",
    "for pair in results_2\n",
    "    println(pair[1], \": \", sum(pair[2])/3)\n",
    "end"
   ]
  },
  {
   "cell_type": "code",
   "execution_count": 96,
   "metadata": {},
   "outputs": [
    {
     "name": "stdout",
     "output_type": "stream",
     "text": [
      "Feature 6, Threshold 0.5\n",
      "L-> Feature 7, Threshold 0.5\n",
      "    L-> Feature 11, Threshold 25.0\n",
      "        L-> 1 : 867/1267\n",
      "        R-> 1 : 99/105\n",
      "    R-> Feature 10, Threshold 1.5\n",
      "        L-> 1 : 15/17\n",
      "        R-> 0 : 127/182\n",
      "R-> Feature 5, Threshold 2.5\n",
      "    L-> Feature 2, Threshold 262.5\n",
      "        L-> 0 : 193/211\n",
      "        R-> 0 : 505/630\n",
      "    R-> Feature 10, Threshold 1.5\n",
      "        L-> 0 : 13/22\n",
      "        R-> 0 : 474/511\n",
      "Symbol[:yardline_100, :half_seconds_remaining, :drive, :qtr, :down, :shotgun, :no_huddle, :posteam_timeouts_remaining, :defteam_timeouts_remaining, :ydstogo, :score_differential]\n"
     ]
    }
   ],
   "source": [
    "team_df = filter(row -> row[:posteam] == \"LA\", df)\n",
    "model = build_tree(team_df[:rush_attempt], Matrix(team_df[most_features]),0,3,2,5,0.0)\n",
    "#args = n_subfeatures, max_depth, min_leaf, min_split, min_purity\n",
    "print_tree(model)\n",
    "println(most_features)"
   ]
  },
  {
   "cell_type": "code",
   "execution_count": 101,
   "metadata": {},
   "outputs": [
    {
     "name": "stdout",
     "output_type": "stream",
     "text": [
      "Feature 5, Threshold 0.5\n",
      "L-> Feature 9, Threshold 1.5\n",
      "    L-> Feature 1, Threshold 10\n",
      "        L-> 1 : 71/92\n",
      "        R-> 1 : 290/317\n",
      "    R-> Feature 8, Threshold 0.5\n",
      "        L-> 1 : 121/126\n",
      "        R-> 1 : 3012/4481\n",
      "R-> Feature 4, Threshold 2.5\n",
      "    L-> Feature 2, Threshold 108.5\n",
      "        L-> 0 : 586/648\n",
      "        R-> 0 : 2083/2638\n",
      "    R-> Feature 9, Threshold 2.5\n",
      "        L-> 0 : 142/199\n",
      "        R-> 0 : 1437/1547\n",
      "Symbol[:yardline_100, :half_seconds_remaining, :qtr, :down, :shotgun, :no_huddle, :posteam_timeouts_remaining, :defteam_timeouts_remaining, :ydstogo, :score_differential]\n"
     ]
    }
   ],
   "source": [
    "team_df = filter(row -> row[:posteam] == \"DAL\", df)\n",
    "model = build_tree(team_df[:rush_attempt], Matrix(team_df[most_features]),0,3,2,5,0.0)\n",
    "#args = n_subfeatures, max_depth, min_leaf, min_split, min_purity\n",
    "print_tree(model)\n",
    "println(most_features)"
   ]
  },
  {
   "cell_type": "code",
   "execution_count": null,
   "metadata": {},
   "outputs": [],
   "source": []
  }
 ],
 "metadata": {
  "kernelspec": {
   "display_name": "Julia 1.1.0",
   "language": "julia",
   "name": "julia-1.1"
  },
  "language_info": {
   "file_extension": ".jl",
   "mimetype": "application/julia",
   "name": "julia",
   "version": "1.1.0"
  }
 },
 "nbformat": 4,
 "nbformat_minor": 2
}
